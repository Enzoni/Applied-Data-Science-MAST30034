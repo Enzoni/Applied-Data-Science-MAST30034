{
 "cells": [
  {
   "cell_type": "code",
   "execution_count": null,
   "outputs": [],
   "source": [
    "#import os\n",
    "#os.chdir(\"Applied Data Science\\project2\\code\")\n",
    "#os.getcwd()"
   ],
   "metadata": {
    "collapsed": false,
    "pycharm": {
     "name": "#%%\n"
    }
   }
  },
  {
   "cell_type": "code",
   "execution_count": null,
   "outputs": [],
   "source": [
    "import pandas as pd\n",
    "import matplotlib.pyplot as plt\n",
    "import seaborn as sns\n",
    "from scipy import stats\n",
    "#from scipy.stats import chi2_contingency"
   ],
   "metadata": {
    "collapsed": false,
    "pycharm": {
     "name": "#%%\n"
    }
   }
  },
  {
   "cell_type": "code",
   "execution_count": null,
   "outputs": [],
   "source": [
    "df = pd.read_feather('data/clean.feather')\n",
    "df"
   ],
   "metadata": {
    "collapsed": false,
    "pycharm": {
     "name": "#%%\n"
    }
   }
  },
  {
   "cell_type": "code",
   "execution_count": null,
   "outputs": [],
   "source": [
    "df.shape"
   ],
   "metadata": {
    "collapsed": false,
    "pycharm": {
     "name": "#%%\n"
    }
   }
  },
  {
   "cell_type": "code",
   "execution_count": null,
   "outputs": [],
   "source": [
    "corr_attr =['trip_distance', 'fare_amount', 'tip_amount', 'duration']\n",
    "corr = df[corr_attr].corr()\n",
    "sns.heatmap(corr,cmap = sns.diverging_palette(220, 10, as_cmap=True), square=True, center=0)\n",
    "#plt.title('Pearson correlation matrix')\n",
    "plt.savefig('plots/correlation.png')\n",
    "plt.show()"
   ],
   "metadata": {
    "collapsed": false,
    "pycharm": {
     "name": "#%%\n"
    }
   }
  },
  {
   "cell_type": "code",
   "execution_count": null,
   "outputs": [],
   "source": [
    "fig = plt.figure(figsize=(10, 7))\n",
    "plt.subplot(221)  \n",
    "sns.distplot(df['trip_distance'], kde = False, label = \"trip_distance\", color =\"blue\") \n",
    "plt.title(\"Distribution of Trip distance\")\n",
    "plt.xlabel('Trip distance (mile)')\n",
    "plt.ylabel(\"Density\")\n",
    "\n",
    "plt.subplot(222)\n",
    "sns.distplot(df['tip_amount'], kde = False, label = \"tip_amount\", color =\"blue\")\n",
    "plt.title(\"Distribution of Tip amount\")\n",
    "plt.xlabel('Tip amount (USD)')\n",
    "plt.ylabel(\"Density\")\n",
    "\n",
    "plt.subplot(223) \n",
    "sns.distplot(df['duration'], kde = False, label = \"duration\", color =\"blue\")\n",
    "plt.title(\"Distribution of Duration\")\n",
    "plt.xlabel('Duration (min)')\n",
    "plt.ylabel(\"Density\")\n",
    "\n",
    "plt.subplot(224) \n",
    "sns.distplot(df['revenue'], kde = False, label = \"revenue\", color =\"blue\")\n",
    "plt.title(\"Distribution of Revenue\")\n",
    "plt.xlabel('Revenue (USD/hour)')\n",
    "plt.ylabel(\"Density\")\n",
    "\n",
    "plt.tight_layout()\n",
    "plt.show()"
   ],
   "metadata": {
    "collapsed": false,
    "pycharm": {
     "name": "#%%\n"
    }
   }
  },
  {
   "cell_type": "code",
   "execution_count": null,
   "outputs": [],
   "source": [
    "fig = plt.figure(figsize=(20, 10))\n",
    "plt.subplot(221)  \n",
    "stats.probplot(df['trip_distance'], dist=\"norm\", plot=plt)\n",
    "plt.title(\"Normal Q-Q Plot for Trip distance\")\n",
    "plt.xlabel('Theoretical Quantiles')\n",
    "plt.ylabel(\"Sample Quantiles\")\n",
    "\n",
    "plt.subplot(222) \n",
    "stats.probplot(df['tip_amount'], dist=\"norm\", plot=plt)\n",
    "plt.title(\"Normal Q-Q Plot for Tip amount\")\n",
    "plt.xlabel('Theoretical Quantiles')\n",
    "plt.ylabel(\"Sample Quantiles\")\n",
    "\n",
    "plt.subplot(223) \n",
    "stats.probplot(df['duration'], dist=\"norm\", plot=plt)\n",
    "plt.title(\"Normal Q-Q Plot for Duration\")\n",
    "plt.xlabel('Theoretical Quantiles')\n",
    "plt.ylabel(\"Sample Quantiles\")\n",
    "\n",
    "plt.subplot(224) \n",
    "stats.probplot(df['revenue'], dist=\"norm\", plot=plt)\n",
    "plt.title(\"Normal Q-Q Plot for Revenue\")\n",
    "plt.xlabel('Theoretical Quantiles')\n",
    "plt.ylabel(\"Sample Quantiles\")\n",
    "\n",
    "plt.tight_layout()\n",
    "plt.show()"
   ],
   "metadata": {
    "collapsed": false,
    "pycharm": {
     "name": "#%%\n"
    }
   }
  },
  {
   "cell_type": "markdown",
   "source": [
    "# Transform"
   ],
   "metadata": {
    "collapsed": false
   }
  },
  {
   "cell_type": "code",
   "execution_count": null,
   "outputs": [],
   "source": [
    "def check_if_0(x):\n",
    "    if x==0:\n",
    "        return 0.00001\n",
    "    else:\n",
    "        return x\n",
    "\n",
    "df['tip_amount'] = df['tip_amount'].map(check_if_0)"
   ],
   "metadata": {
    "collapsed": false,
    "pycharm": {
     "name": "#%%\n"
    }
   }
  },
  {
   "cell_type": "code",
   "execution_count": null,
   "outputs": [],
   "source": [
    "\n",
    "    "
   ],
   "metadata": {
    "collapsed": false,
    "pycharm": {
     "name": "#%%\n"
    }
   }
  },
  {
   "cell_type": "code",
   "execution_count": null,
   "outputs": [],
   "source": [
    "from sklearn.model_selection import train_test_split\n",
    "\n",
    "train, test = train_test_split(df, train_size=200000, random_state=60, shuffle=True)\n",
    "train.reset_index(inplace = True, drop=True)\n",
    "test.reset_index(inplace = True, drop=True)"
   ],
   "metadata": {
    "collapsed": false,
    "pycharm": {
     "name": "#%%\n"
    }
   }
  },
  {
   "cell_type": "code",
   "execution_count": null,
   "outputs": [],
   "source": [
    "train.to_feather('data/train.feather')\n",
    "test.to_feather('data/test.feather')"
   ],
   "metadata": {
    "collapsed": false,
    "pycharm": {
     "name": "#%%\n"
    }
   }
  },
  {
   "cell_type": "code",
   "execution_count": null,
   "outputs": [],
   "source": [
    "lambda_list = []\n",
    "continuous_col = ['trip_distance', 'fare_amount', 'tip_amount','duration', 'revenue']\n",
    "for i in continuous_col:\n",
    "    out = stats.boxcox(train[i], lmbda=None)\n",
    "    train[i] = out[0]\n",
    "    lambda_list.append(out[1])\n"
   ],
   "metadata": {
    "collapsed": false,
    "pycharm": {
     "name": "#%%\n"
    }
   }
  },
  {
   "cell_type": "code",
   "execution_count": null,
   "outputs": [],
   "source": [
    "fig = plt.figure(figsize=(10, 7))\n",
    "plt.subplot(221)  \n",
    "sns.distplot(train['trip_distance'], kde = False, label = \"trip_distance\", color =\"blue\")\n",
    "plt.title(\"Distribution of transformed Trip distance\")\n",
    "plt.xlabel('Trip distance (mile)')\n",
    "plt.ylabel(\"Density\")\n",
    "\n",
    "plt.subplot(222) \n",
    "sns.distplot(train['tip_amount'], kde = False, label = \"tip_amount\", color =\"blue\")\n",
    "plt.title(\"Distribution of transformed Tip amount\")\n",
    "plt.xlabel('Tip amount (USD)')\n",
    "plt.ylabel(\"Density\")\n",
    "\n",
    "plt.subplot(223) \n",
    "sns.distplot(train['duration'], kde = False, label = \"duration\", color =\"blue\")\n",
    "plt.title(\"Distribution of transformed Duration\")\n",
    "plt.xlabel('Duration (min)')\n",
    "plt.ylabel(\"Density\")\n",
    "\n",
    "plt.subplot(224) \n",
    "sns.distplot(train['revenue'], kde = False, label = \"income\", color =\"blue\")\n",
    "plt.title(\"Distribution of transformed Revenue\")\n",
    "plt.xlabel('Revenue (USD/hour)')\n",
    "plt.ylabel(\"Density\")\n",
    "\n",
    "\n",
    "plt.tight_layout()\n",
    "plt.show()"
   ],
   "metadata": {
    "collapsed": false,
    "pycharm": {
     "name": "#%%\n"
    }
   }
  },
  {
   "cell_type": "code",
   "execution_count": null,
   "outputs": [],
   "source": [
    "fig = plt.figure(figsize=(20, 10))\n",
    "plt.subplot(221)  \n",
    "stats.probplot(train['trip_distance'], dist=\"norm\", plot=plt)\n",
    "plt.title(\"Normal Q-Q Plot for transformed Trip distance\")\n",
    "plt.xlabel('Theoretical Quantiles')\n",
    "plt.ylabel(\"Sample Quantiles\")\n",
    "\n",
    "plt.subplot(222) \n",
    "stats.probplot(train['tip_amount'], dist=\"norm\", plot=plt)\n",
    "plt.title(\"Normal Q-Q Plot for transformed Tip amount\")\n",
    "plt.xlabel('Theoretical Quantiles')\n",
    "plt.ylabel(\"Sample Quantiles\")\n",
    "\n",
    "plt.subplot(223) \n",
    "stats.probplot(train['duration'], dist=\"norm\", plot=plt)\n",
    "plt.title(\"Normal Q-Q Plot for transformed Duration\")\n",
    "plt.xlabel('Theoretical Quantiles')\n",
    "plt.ylabel(\"Sample Quantiles\")\n",
    "\n",
    "plt.subplot(224) \n",
    "stats.probplot(train['revenue'], dist=\"norm\", plot=plt)\n",
    "plt.title(\"Normal Q-Q Plot for transformed Revenue\")\n",
    "plt.xlabel('Theoretical Quantiles')\n",
    "plt.ylabel(\"Sample Quantiles\")\n",
    "\n",
    "plt.tight_layout()\n",
    "plt.show()"
   ],
   "metadata": {
    "collapsed": false,
    "pycharm": {
     "name": "#%%\n"
    }
   }
  },
  {
   "cell_type": "code",
   "execution_count": null,
   "outputs": [],
   "source": [
    "for i,j  in enumerate(continuous_col):\n",
    "    out = stats.boxcox(test[j], lmbda=lambda_list[i])\n",
    "    test[j] = out\n",
    "\n"
   ],
   "metadata": {
    "collapsed": false,
    "pycharm": {
     "name": "#%%\n"
    }
   }
  },
  {
   "cell_type": "code",
   "execution_count": null,
   "outputs": [],
   "source": [
    "fig = plt.figure(figsize=(10, 7))\n",
    "plt.subplot(221)\n",
    "sns.distplot(test['trip_distance'], kde = False, label = \"trip_distance\", color =\"blue\")\n",
    "plt.title(\"Distribution of transformed Trip distance\")\n",
    "plt.xlabel('Trip distance (mile)')\n",
    "plt.ylabel(\"Density\")\n",
    "\n",
    "plt.subplot(222)\n",
    "sns.distplot(test['tip_amount'], kde = False, label = \"tip_amount\", color =\"blue\")\n",
    "plt.title(\"Distribution of transformed Tip amount\")\n",
    "plt.xlabel('Tip amount (USD)')\n",
    "plt.ylabel(\"Density\")\n",
    " \n",
    "plt.subplot(223)\n",
    "sns.distplot(test['duration'], kde = False, label = \"duration\", color =\"blue\")\n",
    "plt.title(\"Distribution of transformed Duration\")\n",
    "plt.xlabel('Duration (min)')\n",
    "plt.ylabel(\"Density\")\n",
    "\n",
    "plt.subplot(224)\n",
    "sns.distplot(test['revenue'], kde = False, label = \"revenue\", color =\"blue\")\n",
    "plt.title(\"Distribution of transformed Revenue\")\n",
    "plt.xlabel('Revenue (USD/hour)')\n",
    "plt.ylabel(\"Density\")\n",
    "\n",
    "\n",
    "plt.tight_layout()\n",
    "plt.show()"
   ],
   "metadata": {
    "collapsed": false,
    "pycharm": {
     "name": "#%%\n"
    }
   }
  },
  {
   "cell_type": "code",
   "execution_count": null,
   "outputs": [],
   "source": [
    "fig = plt.figure(figsize=(20, 10))\n",
    "plt.subplot(221)\n",
    "stats.probplot(test['trip_distance'], dist=\"norm\", plot=plt)\n",
    "plt.title(\"Normal Q-Q Plot for tansformed trip distance\")\n",
    "plt.xlabel('Theoretical Quantiles')\n",
    "plt.ylabel(\"Sample Quantiles\")\n",
    "\n",
    "plt.subplot(222)\n",
    "stats.probplot(test['tip_amount'], dist=\"norm\", plot=plt)\n",
    "plt.title(\"Normal Q-Q Plot for transformed Tip amount\")\n",
    "plt.xlabel('Theoretical Quantiles')\n",
    "plt.ylabel(\"Sample Quantiles\")\n",
    "\n",
    "plt.subplot(223)\n",
    "stats.probplot(test['duration'], dist=\"norm\", plot=plt)\n",
    "plt.title(\"Normal Q-Q Plot for transformed Duration\")\n",
    "plt.xlabel('Theoretical Quantiles')\n",
    "plt.ylabel(\"Sample Quantiles\")\n",
    "\n",
    "plt.subplot(224)\n",
    "stats.probplot(test['revenue'], dist=\"norm\", plot=plt)\n",
    "plt.title(\"Normal Q-Q Plot for transformed Revenue\")\n",
    "plt.xlabel('Theoretical Quantiles')\n",
    "plt.ylabel(\"Sample Quantiles\")\n",
    "\n",
    "plt.tight_layout()\n",
    "plt.show()\n"
   ],
   "metadata": {
    "collapsed": false,
    "pycharm": {
     "name": "#%%\n"
    }
   }
  },
  {
   "cell_type": "code",
   "execution_count": null,
   "outputs": [],
   "source": [
    "train.to_csv('data/train_scaled.csv', index=False)\n",
    "train.to_feather('data/train_scaled.feather')\n",
    "test.to_csv('data/test_scaled.csv', index=False)\n",
    "test.to_feather('data/test_scaled.feather')\n"
   ],
   "metadata": {
    "collapsed": false,
    "pycharm": {
     "name": "#%%\n"
    }
   }
  },
  {
   "cell_type": "code",
   "execution_count": null,
   "outputs": [],
   "source": [
    "lambda_list =  pd.DataFrame ([lambda_list],columns=continuous_col)\n",
    "lambda_list"
   ],
   "metadata": {
    "collapsed": false,
    "pycharm": {
     "name": "#%%\n"
    }
   }
  },
  {
   "cell_type": "code",
   "execution_count": null,
   "outputs": [],
   "source": [
    "lambda_list.to_csv('data/lambda_list.csv')"
   ],
   "metadata": {
    "collapsed": false,
    "pycharm": {
     "name": "#%%\n"
    }
   }
  }
 ],
 "metadata": {
  "kernelspec": {
   "display_name": "PyCharm (code)",
   "language": "python",
   "name": "pycharm-16b22b5f"
  },
  "language_info": {
   "codemirror_mode": {
    "name": "ipython",
    "version": 3
   },
   "file_extension": ".py",
   "mimetype": "text/x-python",
   "name": "python",
   "nbconvert_exporter": "python",
   "pygments_lexer": "ipython3",
   "version": "3.8.3"
  }
 },
 "nbformat": 4,
 "nbformat_minor": 2
}