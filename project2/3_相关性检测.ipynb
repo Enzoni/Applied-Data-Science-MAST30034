{
 "cells": [
  {
   "cell_type": "code",
   "execution_count": 1,
   "metadata": {},
   "outputs": [],
   "source": [
    "#import os\n",
    "#os.chdir(\"Applied Data Science\\project2\\code\")\n",
    "#os.getcwd()"
   ]
  },
  {
   "cell_type": "code",
   "execution_count": 2,
   "metadata": {
    "pycharm": {
     "name": "#%%\n"
    }
   },
   "outputs": [],
   "source": [
    "import pandas as pd\n",
    "import matplotlib.pyplot as plt\n",
    "import seaborn as sns\n",
    "from scipy import stats\n",
    "#from scipy.stats import chi2_contingency"
   ]
  },
  {
   "cell_type": "code",
   "execution_count": 3,
   "metadata": {
    "pycharm": {
     "is_executing": true,
     "name": "#%%\n"
    }
   },
   "outputs": [
    {
     "data": {
      "text/html": [
       "<div>\n",
       "<style scoped>\n",
       "    .dataframe tbody tr th:only-of-type {\n",
       "        vertical-align: middle;\n",
       "    }\n",
       "\n",
       "    .dataframe tbody tr th {\n",
       "        vertical-align: top;\n",
       "    }\n",
       "\n",
       "    .dataframe thead th {\n",
       "        text-align: right;\n",
       "    }\n",
       "</style>\n",
       "<table border=\"1\" class=\"dataframe\">\n",
       "  <thead>\n",
       "    <tr style=\"text-align: right;\">\n",
       "      <th></th>\n",
       "      <th>passenger_count</th>\n",
       "      <th>trip_distance</th>\n",
       "      <th>fare_amount</th>\n",
       "      <th>tip_amount</th>\n",
       "      <th>duration</th>\n",
       "      <th>revenue</th>\n",
       "      <th>start_hour</th>\n",
       "      <th>day_of_week</th>\n",
       "      <th>weather</th>\n",
       "    </tr>\n",
       "  </thead>\n",
       "  <tbody>\n",
       "    <tr>\n",
       "      <th>0</th>\n",
       "      <td>2</td>\n",
       "      <td>0.094604</td>\n",
       "      <td>1.361018</td>\n",
       "      <td>0.235099</td>\n",
       "      <td>2.343295</td>\n",
       "      <td>1.307498</td>\n",
       "      <td>3</td>\n",
       "      <td>Sunday</td>\n",
       "      <td>remain</td>\n",
       "    </tr>\n",
       "    <tr>\n",
       "      <th>1</th>\n",
       "      <td>1</td>\n",
       "      <td>2.016096</td>\n",
       "      <td>1.839360</td>\n",
       "      <td>3.696099</td>\n",
       "      <td>4.006183</td>\n",
       "      <td>1.322284</td>\n",
       "      <td>0</td>\n",
       "      <td>Saturday</td>\n",
       "      <td>remain</td>\n",
       "    </tr>\n",
       "    <tr>\n",
       "      <th>2</th>\n",
       "      <td>1</td>\n",
       "      <td>0.163393</td>\n",
       "      <td>1.218557</td>\n",
       "      <td>0.646347</td>\n",
       "      <td>1.424138</td>\n",
       "      <td>1.329380</td>\n",
       "      <td>14</td>\n",
       "      <td>Sunday</td>\n",
       "      <td>remain</td>\n",
       "    </tr>\n",
       "    <tr>\n",
       "      <th>3</th>\n",
       "      <td>1</td>\n",
       "      <td>0.094604</td>\n",
       "      <td>1.413469</td>\n",
       "      <td>0.000000</td>\n",
       "      <td>2.879727</td>\n",
       "      <td>1.289995</td>\n",
       "      <td>15</td>\n",
       "      <td>Monday</td>\n",
       "      <td>remain</td>\n",
       "    </tr>\n",
       "    <tr>\n",
       "      <th>4</th>\n",
       "      <td>1</td>\n",
       "      <td>1.960656</td>\n",
       "      <td>1.867581</td>\n",
       "      <td>3.942290</td>\n",
       "      <td>4.783542</td>\n",
       "      <td>1.305647</td>\n",
       "      <td>13</td>\n",
       "      <td>Saturday</td>\n",
       "      <td>remain</td>\n",
       "    </tr>\n",
       "    <tr>\n",
       "      <th>...</th>\n",
       "      <td>...</td>\n",
       "      <td>...</td>\n",
       "      <td>...</td>\n",
       "      <td>...</td>\n",
       "      <td>...</td>\n",
       "      <td>...</td>\n",
       "      <td>...</td>\n",
       "      <td>...</td>\n",
       "      <td>...</td>\n",
       "    </tr>\n",
       "    <tr>\n",
       "      <th>3155521</th>\n",
       "      <td>1</td>\n",
       "      <td>0.138248</td>\n",
       "      <td>1.457828</td>\n",
       "      <td>1.178239</td>\n",
       "      <td>3.063622</td>\n",
       "      <td>1.295886</td>\n",
       "      <td>15</td>\n",
       "      <td>Friday</td>\n",
       "      <td>remain</td>\n",
       "    </tr>\n",
       "    <tr>\n",
       "      <th>3155522</th>\n",
       "      <td>3</td>\n",
       "      <td>0.392894</td>\n",
       "      <td>1.388407</td>\n",
       "      <td>0.601624</td>\n",
       "      <td>2.463915</td>\n",
       "      <td>1.307916</td>\n",
       "      <td>14</td>\n",
       "      <td>Saturday</td>\n",
       "      <td>remain</td>\n",
       "    </tr>\n",
       "    <tr>\n",
       "      <th>3155523</th>\n",
       "      <td>1</td>\n",
       "      <td>1.306253</td>\n",
       "      <td>1.714026</td>\n",
       "      <td>2.392196</td>\n",
       "      <td>4.202042</td>\n",
       "      <td>1.293006</td>\n",
       "      <td>19</td>\n",
       "      <td>Thursday</td>\n",
       "      <td>remain</td>\n",
       "    </tr>\n",
       "    <tr>\n",
       "      <th>3155524</th>\n",
       "      <td>1</td>\n",
       "      <td>0.561614</td>\n",
       "      <td>1.496016</td>\n",
       "      <td>1.404894</td>\n",
       "      <td>3.047031</td>\n",
       "      <td>1.302338</td>\n",
       "      <td>19</td>\n",
       "      <td>Monday</td>\n",
       "      <td>remain</td>\n",
       "    </tr>\n",
       "    <tr>\n",
       "      <th>3155525</th>\n",
       "      <td>1</td>\n",
       "      <td>-0.366796</td>\n",
       "      <td>1.170931</td>\n",
       "      <td>0.000000</td>\n",
       "      <td>1.674965</td>\n",
       "      <td>1.314784</td>\n",
       "      <td>10</td>\n",
       "      <td>Sunday</td>\n",
       "      <td>remain</td>\n",
       "    </tr>\n",
       "  </tbody>\n",
       "</table>\n",
       "<p>3155526 rows × 9 columns</p>\n",
       "</div>"
      ],
      "text/plain": [
       "         passenger_count  trip_distance  fare_amount  tip_amount  duration  \\\n",
       "0                      2       0.094604     1.361018    0.235099  2.343295   \n",
       "1                      1       2.016096     1.839360    3.696099  4.006183   \n",
       "2                      1       0.163393     1.218557    0.646347  1.424138   \n",
       "3                      1       0.094604     1.413469    0.000000  2.879727   \n",
       "4                      1       1.960656     1.867581    3.942290  4.783542   \n",
       "...                  ...            ...          ...         ...       ...   \n",
       "3155521                1       0.138248     1.457828    1.178239  3.063622   \n",
       "3155522                3       0.392894     1.388407    0.601624  2.463915   \n",
       "3155523                1       1.306253     1.714026    2.392196  4.202042   \n",
       "3155524                1       0.561614     1.496016    1.404894  3.047031   \n",
       "3155525                1      -0.366796     1.170931    0.000000  1.674965   \n",
       "\n",
       "          revenue  start_hour day_of_week weather  \n",
       "0        1.307498           3      Sunday  remain  \n",
       "1        1.322284           0    Saturday  remain  \n",
       "2        1.329380          14      Sunday  remain  \n",
       "3        1.289995          15      Monday  remain  \n",
       "4        1.305647          13    Saturday  remain  \n",
       "...           ...         ...         ...     ...  \n",
       "3155521  1.295886          15      Friday  remain  \n",
       "3155522  1.307916          14    Saturday  remain  \n",
       "3155523  1.293006          19    Thursday  remain  \n",
       "3155524  1.302338          19      Monday  remain  \n",
       "3155525  1.314784          10      Sunday  remain  \n",
       "\n",
       "[3155526 rows x 9 columns]"
      ]
     },
     "execution_count": 3,
     "metadata": {},
     "output_type": "execute_result"
    }
   ],
   "source": [
    "df = pd.read_feather('data/train_scaled.feather')\n",
    "df"
   ]
  },
  {
   "cell_type": "code",
   "execution_count": 4,
   "metadata": {},
   "outputs": [
    {
     "data": {
      "image/png": "[encoded data removed]",
      "text/plain": [
       "<Figure size 432x288 with 2 Axes>"
      ]
     },
     "metadata": {
      "needs_background": "light"
     },
     "output_type": "display_data"
    }
   ],
   "source": [
    "corr_attr =['trip_distance',  'tip_amount', 'duration']\n",
    "corr = df[corr_attr].corr()\n",
    "sns.heatmap(corr,cmap = sns.diverging_palette(220, 10, as_cmap=True), square=True, center=0)\n",
    "plt.title('Pearson correlation matrix')\n",
    "#plt.savefig('plots/correlation.png')\n",
    "plt.show()"
   ]
  },
  {
   "cell_type": "code",
   "execution_count": null,
   "metadata": {},
   "outputs": [],
   "source": []
  },
  {
   "cell_type": "code",
   "execution_count": 5,
   "metadata": {},
   "outputs": [
    {
     "data": {
      "image/png": "[encoded data removed]",
      "text/plain": [
       "<Figure size 432x288 with 2 Axes>"
      ]
     },
     "metadata": {
      "needs_background": "light"
     },
     "output_type": "display_data"
    }
   ],
   "source": [
    "corr_attr =['trip_distance', 'fare_amount', 'tip_amount', 'duration']\n",
    "corr = df[corr_attr].corr()\n",
    "sns.heatmap(corr,cmap = sns.diverging_palette(220, 10, as_cmap=True), square=True, center=0)\n",
    "plt.title('Pearson correlation matrix')\n",
    "#plt.savefig('plots/correlation.png')\n",
    "plt.show()"
   ]
  }
 ],
 "metadata": {
  "kernelspec": {
   "display_name": "PyCharm (code)",
   "language": "python",
   "name": "pycharm-16b22b5f"
  },
  "language_info": {
   "codemirror_mode": {
    "name": "ipython",
    "version": 3
   },
   "file_extension": ".py",
   "mimetype": "text/x-python",
   "name": "python",
   "nbconvert_exporter": "python",
   "pygments_lexer": "ipython3",
   "version": "3.8.3"
  }
 },
 "nbformat": 4,
 "nbformat_minor": 2
}
