{
 "cells": [
  {
   "cell_type": "code",
   "execution_count": 1,
   "metadata": {},
   "outputs": [],
   "source": [
    "#import os\n",
    "#os.chdir(\"Applied Data Science\\project2\\code\")\n",
    "#os.getcwd()"
   ]
  },
  {
   "cell_type": "code",
   "execution_count": 2,
   "metadata": {
    "pycharm": {
     "name": "#%%\n"
    }
   },
   "outputs": [],
   "source": [
    "import pandas as pd\n",
    "import numpy as np\n",
    "import matplotlib.pyplot as plt\n",
    "import seaborn as sns\n",
    "from scipy import stats\n",
    "from sklearn.metrics import r2_score, mean_absolute_error,mean_squared_error\n",
    "from scipy.special import boxcox, inv_boxcox\n",
    "from xgboost import XGBRegressor\n",
    "from sklearn.preprocessing import OneHotEncoder"
   ]
  },
  {
   "cell_type": "code",
   "execution_count": 3,
   "metadata": {},
   "outputs": [
    {
     "data": {
      "text/plain": [
       "0           77.658537\n",
       "1           56.962025\n",
       "2           68.051613\n",
       "3           44.904652\n",
       "4           63.636364\n",
       "              ...    \n",
       "4335200     74.925000\n",
       "4335201    103.125000\n",
       "4335202     55.851429\n",
       "4335203     52.144330\n",
       "4335204     58.417850\n",
       "Name: revenue, Length: 4335205, dtype: float64"
      ]
     },
     "execution_count": 3,
     "metadata": {},
     "output_type": "execute_result"
    }
   ],
   "source": [
    "true = pd.read_feather('data/test.feather')['revenue']\n",
    "true"
   ]
  },
  {
   "cell_type": "code",
   "execution_count": 4,
   "metadata": {},
   "outputs": [],
   "source": [
    "pred_linear = pd.read_csv('data/test_output.csv')['predict']\n"
   ]
  },
  {
   "cell_type": "code",
   "execution_count": 5,
   "metadata": {},
   "outputs": [
    {
     "data": {
      "text/html": [
       "<div>\n",
       "<style scoped>\n",
       "    .dataframe tbody tr th:only-of-type {\n",
       "        vertical-align: middle;\n",
       "    }\n",
       "\n",
       "    .dataframe tbody tr th {\n",
       "        vertical-align: top;\n",
       "    }\n",
       "\n",
       "    .dataframe thead th {\n",
       "        text-align: right;\n",
       "    }\n",
       "</style>\n",
       "<table border=\"1\" class=\"dataframe\">\n",
       "  <thead>\n",
       "    <tr style=\"text-align: right;\">\n",
       "      <th></th>\n",
       "      <th>Unnamed: 0</th>\n",
       "      <th>trip_distance</th>\n",
       "      <th>fare_amount</th>\n",
       "      <th>tip_amount</th>\n",
       "      <th>duration</th>\n",
       "      <th>revenue</th>\n",
       "    </tr>\n",
       "  </thead>\n",
       "  <tbody>\n",
       "    <tr>\n",
       "      <th>0</th>\n",
       "      <td>0</td>\n",
       "      <td>-0.173857</td>\n",
       "      <td>-0.443243</td>\n",
       "      <td>0.462488</td>\n",
       "      <td>0.079021</td>\n",
       "      <td>-0.681852</td>\n",
       "    </tr>\n",
       "  </tbody>\n",
       "</table>\n",
       "</div>"
      ],
      "text/plain": [
       "   Unnamed: 0  trip_distance  fare_amount  tip_amount  duration   revenue\n",
       "0           0      -0.173857    -0.443243    0.462488  0.079021 -0.681852"
      ]
     },
     "execution_count": 5,
     "metadata": {},
     "output_type": "execute_result"
    }
   ],
   "source": [
    "_lambda = pd.read_csv(\"data/lambda_list.csv\")\n",
    "_lambda"
   ]
  },
  {
   "cell_type": "code",
   "execution_count": 6,
   "metadata": {},
   "outputs": [
    {
     "data": {
      "text/plain": [
       "0          61.305648\n",
       "1          53.021841\n",
       "2          45.965884\n",
       "3          34.083511\n",
       "4          56.651743\n",
       "             ...    \n",
       "4335200    51.297492\n",
       "4335201    74.121658\n",
       "4335202    44.956583\n",
       "4335203    42.113303\n",
       "4335204    59.403049\n",
       "Name: predict, Length: 4335205, dtype: float64"
      ]
     },
     "execution_count": 6,
     "metadata": {},
     "output_type": "execute_result"
    }
   ],
   "source": [
    "pred_linear = inv_boxcox(pred_linear, -0.681852)\n",
    "pred_linear.replace([np.inf, -np.inf], np.nan, inplace=True)\n",
    "pred_linear.fillna(0, inplace=True)\n",
    "pred_linear"
   ]
  },
  {
   "cell_type": "code",
   "execution_count": 7,
   "metadata": {},
   "outputs": [],
   "source": [
    "scores = []\n",
    "def store_score(scores, pred,true=true):\n",
    "    curr = [r2_score(true, pred), mean_absolute_error(true, pred),\n",
    "            mean_squared_error(true, pred)]\n",
    "    scores.append(curr)"
   ]
  },
  {
   "cell_type": "code",
   "execution_count": 8,
   "metadata": {},
   "outputs": [],
   "source": [
    "store_score(scores, pred_linear)"
   ]
  },
  {
   "cell_type": "code",
   "execution_count": 9,
   "metadata": {},
   "outputs": [],
   "source": [
    "train = pd.read_feather('data/train_scaled.feather')\n",
    "test = pd.read_feather('data/test_scaled.feather')"
   ]
  },
  {
   "cell_type": "code",
   "execution_count": 10,
   "metadata": {
    "pycharm": {
     "name": "#%%\n"
    }
   },
   "outputs": [],
   "source": [
    "def preprocessing(df):\n",
    "    df['passenger_count'] = df['passenger_count'].astype('category')\n",
    "    df['start_hour'] = df['start_hour'].astype('category')\n",
    "    df['day_of_week'] = df['day_of_week'].astype('category')\n",
    "    df['weather'] = df['weather'].astype('category')\n",
    "    x = df.drop(['fare_amount','revenue'], axis=1)\n",
    "    x = pd.get_dummies(x)\n",
    "    y = df['revenue']\n",
    "\n",
    "    return x, y"
   ]
  },
  {
   "cell_type": "code",
   "execution_count": 11,
   "metadata": {
    "pycharm": {
     "name": "#%%\n"
    }
   },
   "outputs": [],
   "source": [
    "train_x, train_y = preprocessing(train)\n",
    "test_x, test_y = preprocessing(test)"
   ]
  },
  {
   "cell_type": "code",
   "execution_count": 12,
   "metadata": {
    "pycharm": {
     "name": "#%%\n"
    }
   },
   "outputs": [],
   "source": [
    "model = XGBRegressor()\n",
    "model.fit(train_x, train_y)\n",
    "pred_xgboost = model.predict(test_x)\n",
    "\n",
    "pred_xgboost = inv_boxcox(pred_xgboost, -0.681852)"
   ]
  },
  {
   "cell_type": "code",
   "execution_count": 13,
   "metadata": {
    "pycharm": {
     "name": "#%%\n"
    }
   },
   "outputs": [],
   "source": [
    "pred_xgboost[np.isnan(pred_xgboost)]=0\n",
    "store_score(scores, pred_xgboost)"
   ]
  },
  {
   "cell_type": "code",
   "execution_count": 14,
   "metadata": {
    "pycharm": {
     "name": "#%%\n"
    }
   },
   "outputs": [],
   "source": [
    "mean = [true.mean()] * len(true)\n",
    "store_score(scores, mean)"
   ]
  },
  {
   "cell_type": "code",
   "execution_count": 15,
   "metadata": {
    "pycharm": {
     "name": "#%%\n"
    }
   },
   "outputs": [],
   "source": [
    "median = [true.median()] * len(true)\n",
    "store_score(scores, median)"
   ]
  },
  {
   "cell_type": "code",
   "execution_count": 16,
   "metadata": {
    "pycharm": {
     "name": "#%%\n"
    }
   },
   "outputs": [
    {
     "data": {
      "text/plain": [
       "[[-0.1892652343561032, 18.455531887232606, 550.4477488030541],\n",
       " [0.9892818371805583, 1.577627790537623, 4.960868631176782],\n",
       " [0.0, 15.833505114833216, 462.8469183336379],\n",
       " [-0.05454166382931325, 15.27506086086051, 488.0913593578248]]"
      ]
     },
     "execution_count": 16,
     "metadata": {},
     "output_type": "execute_result"
    }
   ],
   "source": [
    "scores"
   ]
  },
  {
   "cell_type": "code",
   "execution_count": null,
   "metadata": {
    "pycharm": {
     "name": "#%%\n"
    }
   },
   "outputs": [],
   "source": []
  },
  {
   "cell_type": "markdown",
   "metadata": {},
   "source": [
    "# how the duration and trip distance change the revenue"
   ]
  },
  {
   "cell_type": "code",
   "execution_count": null,
   "metadata": {},
   "outputs": [],
   "source": []
  }
 ],
 "metadata": {
  "kernelspec": {
   "display_name": "PyCharm (code)",
   "language": "python",
   "name": "pycharm-16b22b5f"
  },
  "language_info": {
   "codemirror_mode": {
    "name": "ipython",
    "version": 3
   },
   "file_extension": ".py",
   "mimetype": "text/x-python",
   "name": "python",
   "nbconvert_exporter": "python",
   "pygments_lexer": "ipython3",
   "version": "3.8.3"
  }
 },
 "nbformat": 4,
 "nbformat_minor": 2
}
