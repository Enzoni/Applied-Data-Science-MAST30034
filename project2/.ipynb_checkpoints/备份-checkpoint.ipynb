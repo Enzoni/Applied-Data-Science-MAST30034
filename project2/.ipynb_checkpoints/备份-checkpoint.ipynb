{
 "cells": [
  {
   "cell_type": "code",
   "execution_count": 1,
   "metadata": {},
   "outputs": [
    {
     "data": {
      "text/plain": [
       "'D:\\\\OneDrive - The University of Melbourne\\\\大三下\\\\Applied Data Science\\\\project2\\\\code'"
      ]
     },
     "execution_count": 1,
     "metadata": {},
     "output_type": "execute_result"
    }
   ],
   "source": [
    "import os\n",
    "os.chdir(\"Applied Data Science\\project2\\code\")\n",
    "os.getcwd()\n",
    "\n"
   ]
  },
  {
   "cell_type": "code",
   "execution_count": 2,
   "metadata": {
    "pycharm": {
     "name": "#%%\n"
    }
   },
   "outputs": [
    {
     "data": {
      "text/html": [
       "<div>\n",
       "<style scoped>\n",
       "    .dataframe tbody tr th:only-of-type {\n",
       "        vertical-align: middle;\n",
       "    }\n",
       "\n",
       "    .dataframe tbody tr th {\n",
       "        vertical-align: top;\n",
       "    }\n",
       "\n",
       "    .dataframe thead th {\n",
       "        text-align: right;\n",
       "    }\n",
       "</style>\n",
       "<table border=\"1\" class=\"dataframe\">\n",
       "  <thead>\n",
       "    <tr style=\"text-align: right;\">\n",
       "      <th></th>\n",
       "      <th>passenger_count</th>\n",
       "      <th>trip_distance</th>\n",
       "      <th>RatecodeID</th>\n",
       "      <th>PULocationID</th>\n",
       "      <th>DOLocationID</th>\n",
       "      <th>payment_type</th>\n",
       "      <th>fare_amount</th>\n",
       "      <th>tip_amount</th>\n",
       "      <th>congestion_surcharge</th>\n",
       "      <th>duration</th>\n",
       "      <th>income</th>\n",
       "      <th>revenue</th>\n",
       "      <th>revenue_level</th>\n",
       "      <th>start_hour</th>\n",
       "      <th>day_of_week</th>\n",
       "      <th>weather</th>\n",
       "    </tr>\n",
       "  </thead>\n",
       "  <tbody>\n",
       "    <tr>\n",
       "      <th>0</th>\n",
       "      <td>1</td>\n",
       "      <td>2.10</td>\n",
       "      <td>1</td>\n",
       "      <td>48</td>\n",
       "      <td>234</td>\n",
       "      <td>1</td>\n",
       "      <td>9.0</td>\n",
       "      <td>2.00</td>\n",
       "      <td>0.0</td>\n",
       "      <td>8.383333</td>\n",
       "      <td>11.00</td>\n",
       "      <td>1.312127</td>\n",
       "      <td>high</td>\n",
       "      <td>0</td>\n",
       "      <td>Friday</td>\n",
       "      <td>remain</td>\n",
       "    </tr>\n",
       "    <tr>\n",
       "      <th>1</th>\n",
       "      <td>2</td>\n",
       "      <td>1.80</td>\n",
       "      <td>1</td>\n",
       "      <td>68</td>\n",
       "      <td>246</td>\n",
       "      <td>1</td>\n",
       "      <td>9.0</td>\n",
       "      <td>2.05</td>\n",
       "      <td>0.0</td>\n",
       "      <td>9.800000</td>\n",
       "      <td>11.05</td>\n",
       "      <td>1.127551</td>\n",
       "      <td>high</td>\n",
       "      <td>0</td>\n",
       "      <td>Friday</td>\n",
       "      <td>remain</td>\n",
       "    </tr>\n",
       "    <tr>\n",
       "      <th>2</th>\n",
       "      <td>1</td>\n",
       "      <td>0.80</td>\n",
       "      <td>1</td>\n",
       "      <td>246</td>\n",
       "      <td>68</td>\n",
       "      <td>1</td>\n",
       "      <td>5.5</td>\n",
       "      <td>2.00</td>\n",
       "      <td>0.0</td>\n",
       "      <td>4.950000</td>\n",
       "      <td>7.50</td>\n",
       "      <td>1.515152</td>\n",
       "      <td>high</td>\n",
       "      <td>0</td>\n",
       "      <td>Friday</td>\n",
       "      <td>remain</td>\n",
       "    </tr>\n",
       "    <tr>\n",
       "      <th>3</th>\n",
       "      <td>1</td>\n",
       "      <td>9.00</td>\n",
       "      <td>1</td>\n",
       "      <td>185</td>\n",
       "      <td>166</td>\n",
       "      <td>1</td>\n",
       "      <td>26.0</td>\n",
       "      <td>7.50</td>\n",
       "      <td>0.0</td>\n",
       "      <td>16.816667</td>\n",
       "      <td>33.50</td>\n",
       "      <td>1.992071</td>\n",
       "      <td>high</td>\n",
       "      <td>0</td>\n",
       "      <td>Friday</td>\n",
       "      <td>remain</td>\n",
       "    </tr>\n",
       "    <tr>\n",
       "      <th>4</th>\n",
       "      <td>1</td>\n",
       "      <td>1.80</td>\n",
       "      <td>1</td>\n",
       "      <td>163</td>\n",
       "      <td>239</td>\n",
       "      <td>1</td>\n",
       "      <td>8.5</td>\n",
       "      <td>1.95</td>\n",
       "      <td>0.0</td>\n",
       "      <td>8.650000</td>\n",
       "      <td>10.45</td>\n",
       "      <td>1.208092</td>\n",
       "      <td>high</td>\n",
       "      <td>0</td>\n",
       "      <td>Friday</td>\n",
       "      <td>remain</td>\n",
       "    </tr>\n",
       "    <tr>\n",
       "      <th>...</th>\n",
       "      <td>...</td>\n",
       "      <td>...</td>\n",
       "      <td>...</td>\n",
       "      <td>...</td>\n",
       "      <td>...</td>\n",
       "      <td>...</td>\n",
       "      <td>...</td>\n",
       "      <td>...</td>\n",
       "      <td>...</td>\n",
       "      <td>...</td>\n",
       "      <td>...</td>\n",
       "      <td>...</td>\n",
       "      <td>...</td>\n",
       "      <td>...</td>\n",
       "      <td>...</td>\n",
       "      <td>...</td>\n",
       "    </tr>\n",
       "    <tr>\n",
       "      <th>4641173</th>\n",
       "      <td>1</td>\n",
       "      <td>7.90</td>\n",
       "      <td>1</td>\n",
       "      <td>138</td>\n",
       "      <td>233</td>\n",
       "      <td>1</td>\n",
       "      <td>24.0</td>\n",
       "      <td>10.05</td>\n",
       "      <td>2.5</td>\n",
       "      <td>20.000000</td>\n",
       "      <td>34.05</td>\n",
       "      <td>1.702500</td>\n",
       "      <td>high</td>\n",
       "      <td>23</td>\n",
       "      <td>Thursday</td>\n",
       "      <td>remain</td>\n",
       "    </tr>\n",
       "    <tr>\n",
       "      <th>4641174</th>\n",
       "      <td>1</td>\n",
       "      <td>2.86</td>\n",
       "      <td>1</td>\n",
       "      <td>68</td>\n",
       "      <td>140</td>\n",
       "      <td>1</td>\n",
       "      <td>13.0</td>\n",
       "      <td>4.20</td>\n",
       "      <td>2.5</td>\n",
       "      <td>15.950000</td>\n",
       "      <td>17.20</td>\n",
       "      <td>1.078370</td>\n",
       "      <td>high</td>\n",
       "      <td>23</td>\n",
       "      <td>Thursday</td>\n",
       "      <td>remain</td>\n",
       "    </tr>\n",
       "    <tr>\n",
       "      <th>4641175</th>\n",
       "      <td>3</td>\n",
       "      <td>3.20</td>\n",
       "      <td>1</td>\n",
       "      <td>163</td>\n",
       "      <td>144</td>\n",
       "      <td>1</td>\n",
       "      <td>14.5</td>\n",
       "      <td>3.66</td>\n",
       "      <td>2.5</td>\n",
       "      <td>18.333333</td>\n",
       "      <td>18.16</td>\n",
       "      <td>0.990545</td>\n",
       "      <td>low</td>\n",
       "      <td>23</td>\n",
       "      <td>Thursday</td>\n",
       "      <td>remain</td>\n",
       "    </tr>\n",
       "    <tr>\n",
       "      <th>4641176</th>\n",
       "      <td>1</td>\n",
       "      <td>1.22</td>\n",
       "      <td>1</td>\n",
       "      <td>48</td>\n",
       "      <td>143</td>\n",
       "      <td>1</td>\n",
       "      <td>6.5</td>\n",
       "      <td>1.00</td>\n",
       "      <td>2.5</td>\n",
       "      <td>6.183333</td>\n",
       "      <td>7.50</td>\n",
       "      <td>1.212938</td>\n",
       "      <td>high</td>\n",
       "      <td>23</td>\n",
       "      <td>Thursday</td>\n",
       "      <td>remain</td>\n",
       "    </tr>\n",
       "    <tr>\n",
       "      <th>4641177</th>\n",
       "      <td>2</td>\n",
       "      <td>1.75</td>\n",
       "      <td>1</td>\n",
       "      <td>48</td>\n",
       "      <td>162</td>\n",
       "      <td>1</td>\n",
       "      <td>8.5</td>\n",
       "      <td>1.84</td>\n",
       "      <td>2.5</td>\n",
       "      <td>10.616667</td>\n",
       "      <td>10.34</td>\n",
       "      <td>0.973940</td>\n",
       "      <td>low</td>\n",
       "      <td>23</td>\n",
       "      <td>Thursday</td>\n",
       "      <td>remain</td>\n",
       "    </tr>\n",
       "  </tbody>\n",
       "</table>\n",
       "<p>4641178 rows × 16 columns</p>\n",
       "</div>"
      ],
      "text/plain": [
       "         passenger_count  trip_distance  RatecodeID  PULocationID  \\\n",
       "0                      1           2.10           1            48   \n",
       "1                      2           1.80           1            68   \n",
       "2                      1           0.80           1           246   \n",
       "3                      1           9.00           1           185   \n",
       "4                      1           1.80           1           163   \n",
       "...                  ...            ...         ...           ...   \n",
       "4641173                1           7.90           1           138   \n",
       "4641174                1           2.86           1            68   \n",
       "4641175                3           3.20           1           163   \n",
       "4641176                1           1.22           1            48   \n",
       "4641177                2           1.75           1            48   \n",
       "\n",
       "         DOLocationID  payment_type  fare_amount  tip_amount  \\\n",
       "0                 234             1          9.0        2.00   \n",
       "1                 246             1          9.0        2.05   \n",
       "2                  68             1          5.5        2.00   \n",
       "3                 166             1         26.0        7.50   \n",
       "4                 239             1          8.5        1.95   \n",
       "...               ...           ...          ...         ...   \n",
       "4641173           233             1         24.0       10.05   \n",
       "4641174           140             1         13.0        4.20   \n",
       "4641175           144             1         14.5        3.66   \n",
       "4641176           143             1          6.5        1.00   \n",
       "4641177           162             1          8.5        1.84   \n",
       "\n",
       "         congestion_surcharge   duration  income   revenue revenue_level  \\\n",
       "0                         0.0   8.383333   11.00  1.312127          high   \n",
       "1                         0.0   9.800000   11.05  1.127551          high   \n",
       "2                         0.0   4.950000    7.50  1.515152          high   \n",
       "3                         0.0  16.816667   33.50  1.992071          high   \n",
       "4                         0.0   8.650000   10.45  1.208092          high   \n",
       "...                       ...        ...     ...       ...           ...   \n",
       "4641173                   2.5  20.000000   34.05  1.702500          high   \n",
       "4641174                   2.5  15.950000   17.20  1.078370          high   \n",
       "4641175                   2.5  18.333333   18.16  0.990545           low   \n",
       "4641176                   2.5   6.183333    7.50  1.212938          high   \n",
       "4641177                   2.5  10.616667   10.34  0.973940           low   \n",
       "\n",
       "         start_hour day_of_week weather  \n",
       "0                 0      Friday  remain  \n",
       "1                 0      Friday  remain  \n",
       "2                 0      Friday  remain  \n",
       "3                 0      Friday  remain  \n",
       "4                 0      Friday  remain  \n",
       "...             ...         ...     ...  \n",
       "4641173          23    Thursday  remain  \n",
       "4641174          23    Thursday  remain  \n",
       "4641175          23    Thursday  remain  \n",
       "4641176          23    Thursday  remain  \n",
       "4641177          23    Thursday  remain  \n",
       "\n",
       "[4641178 rows x 16 columns]"
      ]
     },
     "execution_count": 2,
     "metadata": {},
     "output_type": "execute_result"
    }
   ],
   "source": [
    "import pandas as pd\n",
    "import numpy as np\n",
    "import matplotlib.pyplot as plt\n",
    "import seaborn as sns\n",
    "\n",
    "import matplotlib.image as mpimg\n",
    "import io\n",
    "from PIL import Image\n",
    "from scipy import stats\n",
    "#from scipy.stats import chi2_contingency\n",
    "df = pd.read_csv('data/raw.csv')\n",
    "df\n"
   ]
  },
  {
   "cell_type": "code",
   "execution_count": null,
   "metadata": {},
   "outputs": [],
   "source": []
  },
  {
   "cell_type": "code",
   "execution_count": null,
   "metadata": {},
   "outputs": [],
   "source": [
    "df = df.loc[(df['payment_type'] == 1) &  (df['passenger_count'] <= 4) & (df['passenger_count'] > 0)]\n",
    "df = df.loc[(df[\"duration\"] >= 0.25) &  (df[\"fare_amount\"] > 0) & (df[\"extra\"] >= 0) & (df[\"mta_tax\"] >= 0) \n",
    "             & (df[\"tip_amount\"] >= 0) & (df[\"tolls_amount\"] >=0)  & (df[\"total_amount\"]>0) & (df[\"income\"] > 0) \n",
    "             & (df[\"improvement_surcharge\"] >= 0) & (df[\"trip_distance\"] >= 0.01) & (df[\"PULocationID\"] <= 263)\n",
    "             & (df[\"DOLocationID\"] <= 263)]\n",
    "\n",
    "df = df.loc[(df[\"duration\"] <= 100) & (df[\"total_amount\"]<=100) & (df['fare_amount'] <=80) &\n",
    "            (df['trip_distance'] <= 30) & (df[\"revenue\"] <= 5)]"
   ]
  },
  {
   "cell_type": "code",
   "execution_count": 3,
   "metadata": {
    "pycharm": {
     "name": "#%%\n"
    }
   },
   "outputs": [],
   "source": [
    "sns.set(rc={'figure.figsize':(11.7,8.27),\"font.size\":20,\"axes.titlesize\":20,\"axes.labelsize\":20},style=\"white\")"
   ]
  },
  {
   "cell_type": "code",
   "execution_count": 5,
   "metadata": {},
   "outputs": [
    {
     "ename": "KeyError",
     "evalue": "'total_amount'",
     "output_type": "error",
     "traceback": [
      "\u001b[1;31m---------------------------------------------------------------------------\u001b[0m",
      "\u001b[1;31mKeyError\u001b[0m                                  Traceback (most recent call last)",
      "\u001b[1;32m~\\anaconda3\\lib\\site-packages\\pandas\\core\\indexes\\base.py\u001b[0m in \u001b[0;36mget_loc\u001b[1;34m(self, key, method, tolerance)\u001b[0m\n\u001b[0;32m   2645\u001b[0m             \u001b[1;32mtry\u001b[0m\u001b[1;33m:\u001b[0m\u001b[1;33m\u001b[0m\u001b[1;33m\u001b[0m\u001b[0m\n\u001b[1;32m-> 2646\u001b[1;33m                 \u001b[1;32mreturn\u001b[0m \u001b[0mself\u001b[0m\u001b[1;33m.\u001b[0m\u001b[0m_engine\u001b[0m\u001b[1;33m.\u001b[0m\u001b[0mget_loc\u001b[0m\u001b[1;33m(\u001b[0m\u001b[0mkey\u001b[0m\u001b[1;33m)\u001b[0m\u001b[1;33m\u001b[0m\u001b[1;33m\u001b[0m\u001b[0m\n\u001b[0m\u001b[0;32m   2647\u001b[0m             \u001b[1;32mexcept\u001b[0m \u001b[0mKeyError\u001b[0m\u001b[1;33m:\u001b[0m\u001b[1;33m\u001b[0m\u001b[1;33m\u001b[0m\u001b[0m\n",
      "\u001b[1;32mpandas\\_libs\\index.pyx\u001b[0m in \u001b[0;36mpandas._libs.index.IndexEngine.get_loc\u001b[1;34m()\u001b[0m\n",
      "\u001b[1;32mpandas\\_libs\\index.pyx\u001b[0m in \u001b[0;36mpandas._libs.index.IndexEngine.get_loc\u001b[1;34m()\u001b[0m\n",
      "\u001b[1;32mpandas\\_libs\\hashtable_class_helper.pxi\u001b[0m in \u001b[0;36mpandas._libs.hashtable.PyObjectHashTable.get_item\u001b[1;34m()\u001b[0m\n",
      "\u001b[1;32mpandas\\_libs\\hashtable_class_helper.pxi\u001b[0m in \u001b[0;36mpandas._libs.hashtable.PyObjectHashTable.get_item\u001b[1;34m()\u001b[0m\n",
      "\u001b[1;31mKeyError\u001b[0m: 'total_amount'",
      "\nDuring handling of the above exception, another exception occurred:\n",
      "\u001b[1;31mKeyError\u001b[0m                                  Traceback (most recent call last)",
      "\u001b[1;32m<ipython-input-5-557d15b84ca7>\u001b[0m in \u001b[0;36m<module>\u001b[1;34m\u001b[0m\n\u001b[0;32m      1\u001b[0m \u001b[0mfig\u001b[0m\u001b[1;33m,\u001b[0m \u001b[0max\u001b[0m \u001b[1;33m=\u001b[0m \u001b[0mplt\u001b[0m\u001b[1;33m.\u001b[0m\u001b[0msubplots\u001b[0m\u001b[1;33m(\u001b[0m\u001b[1;36m1\u001b[0m\u001b[1;33m,\u001b[0m \u001b[1;36m5\u001b[0m\u001b[1;33m)\u001b[0m\u001b[1;33m\u001b[0m\u001b[1;33m\u001b[0m\u001b[0m\n\u001b[0;32m      2\u001b[0m \u001b[0msns\u001b[0m\u001b[1;33m.\u001b[0m\u001b[0mdistplot\u001b[0m\u001b[1;33m(\u001b[0m\u001b[0mdf\u001b[0m\u001b[1;33m[\u001b[0m\u001b[1;34m'duration'\u001b[0m\u001b[1;33m]\u001b[0m\u001b[1;33m,\u001b[0m \u001b[0mkde\u001b[0m \u001b[1;33m=\u001b[0m \u001b[1;32mFalse\u001b[0m\u001b[1;33m,\u001b[0m \u001b[0mlabel\u001b[0m \u001b[1;33m=\u001b[0m \u001b[1;34m\"duration\"\u001b[0m\u001b[1;33m,\u001b[0m \u001b[0mcolor\u001b[0m \u001b[1;33m=\u001b[0m\u001b[1;34m\"blue\"\u001b[0m\u001b[1;33m,\u001b[0m \u001b[0max\u001b[0m \u001b[1;33m=\u001b[0m \u001b[0max\u001b[0m\u001b[1;33m[\u001b[0m\u001b[1;36m0\u001b[0m\u001b[1;33m]\u001b[0m\u001b[1;33m)\u001b[0m\u001b[1;33m\u001b[0m\u001b[1;33m\u001b[0m\u001b[0m\n\u001b[1;32m----> 3\u001b[1;33m \u001b[0msns\u001b[0m\u001b[1;33m.\u001b[0m\u001b[0mdistplot\u001b[0m\u001b[1;33m(\u001b[0m\u001b[0mdf\u001b[0m\u001b[1;33m[\u001b[0m\u001b[1;34m'total_amount'\u001b[0m\u001b[1;33m]\u001b[0m\u001b[1;33m,\u001b[0m \u001b[0mkde\u001b[0m \u001b[1;33m=\u001b[0m \u001b[1;32mFalse\u001b[0m\u001b[1;33m,\u001b[0m \u001b[0mlabel\u001b[0m \u001b[1;33m=\u001b[0m \u001b[1;34m\"total_amount\"\u001b[0m\u001b[1;33m,\u001b[0m \u001b[0mcolor\u001b[0m \u001b[1;33m=\u001b[0m\u001b[1;34m\"blue\"\u001b[0m\u001b[1;33m,\u001b[0m \u001b[0max\u001b[0m \u001b[1;33m=\u001b[0m \u001b[0max\u001b[0m\u001b[1;33m[\u001b[0m\u001b[1;36m1\u001b[0m\u001b[1;33m]\u001b[0m\u001b[1;33m)\u001b[0m\u001b[1;33m\u001b[0m\u001b[1;33m\u001b[0m\u001b[0m\n\u001b[0m\u001b[0;32m      4\u001b[0m \u001b[0msns\u001b[0m\u001b[1;33m.\u001b[0m\u001b[0mdistplot\u001b[0m\u001b[1;33m(\u001b[0m\u001b[0mdf\u001b[0m\u001b[1;33m[\u001b[0m\u001b[1;34m'fare_amount'\u001b[0m\u001b[1;33m]\u001b[0m\u001b[1;33m,\u001b[0m \u001b[0mkde\u001b[0m \u001b[1;33m=\u001b[0m \u001b[1;32mFalse\u001b[0m\u001b[1;33m,\u001b[0m \u001b[0mlabel\u001b[0m \u001b[1;33m=\u001b[0m \u001b[1;34m'fare_amount'\u001b[0m\u001b[1;33m,\u001b[0m \u001b[0mcolor\u001b[0m \u001b[1;33m=\u001b[0m\u001b[1;34m\"blue\"\u001b[0m\u001b[1;33m,\u001b[0m \u001b[0max\u001b[0m \u001b[1;33m=\u001b[0m \u001b[0max\u001b[0m\u001b[1;33m[\u001b[0m\u001b[1;36m2\u001b[0m\u001b[1;33m]\u001b[0m\u001b[1;33m)\u001b[0m\u001b[1;33m\u001b[0m\u001b[1;33m\u001b[0m\u001b[0m\n\u001b[0;32m      5\u001b[0m \u001b[0msns\u001b[0m\u001b[1;33m.\u001b[0m\u001b[0mdistplot\u001b[0m\u001b[1;33m(\u001b[0m\u001b[0mdf\u001b[0m\u001b[1;33m[\u001b[0m\u001b[1;34m'trip_distance'\u001b[0m\u001b[1;33m]\u001b[0m\u001b[1;33m,\u001b[0m \u001b[0mkde\u001b[0m \u001b[1;33m=\u001b[0m \u001b[1;32mFalse\u001b[0m\u001b[1;33m,\u001b[0m \u001b[0mlabel\u001b[0m \u001b[1;33m=\u001b[0m \u001b[1;34m\"duration\"\u001b[0m\u001b[1;33m,\u001b[0m \u001b[0mcolor\u001b[0m \u001b[1;33m=\u001b[0m\u001b[1;34m\"blue\"\u001b[0m\u001b[1;33m,\u001b[0m \u001b[0max\u001b[0m \u001b[1;33m=\u001b[0m \u001b[0max\u001b[0m\u001b[1;33m[\u001b[0m\u001b[1;36m3\u001b[0m\u001b[1;33m]\u001b[0m\u001b[1;33m)\u001b[0m\u001b[1;33m\u001b[0m\u001b[1;33m\u001b[0m\u001b[0m\n",
      "\u001b[1;32m~\\anaconda3\\lib\\site-packages\\pandas\\core\\frame.py\u001b[0m in \u001b[0;36m__getitem__\u001b[1;34m(self, key)\u001b[0m\n\u001b[0;32m   2798\u001b[0m             \u001b[1;32mif\u001b[0m \u001b[0mself\u001b[0m\u001b[1;33m.\u001b[0m\u001b[0mcolumns\u001b[0m\u001b[1;33m.\u001b[0m\u001b[0mnlevels\u001b[0m \u001b[1;33m>\u001b[0m \u001b[1;36m1\u001b[0m\u001b[1;33m:\u001b[0m\u001b[1;33m\u001b[0m\u001b[1;33m\u001b[0m\u001b[0m\n\u001b[0;32m   2799\u001b[0m                 \u001b[1;32mreturn\u001b[0m \u001b[0mself\u001b[0m\u001b[1;33m.\u001b[0m\u001b[0m_getitem_multilevel\u001b[0m\u001b[1;33m(\u001b[0m\u001b[0mkey\u001b[0m\u001b[1;33m)\u001b[0m\u001b[1;33m\u001b[0m\u001b[1;33m\u001b[0m\u001b[0m\n\u001b[1;32m-> 2800\u001b[1;33m             \u001b[0mindexer\u001b[0m \u001b[1;33m=\u001b[0m \u001b[0mself\u001b[0m\u001b[1;33m.\u001b[0m\u001b[0mcolumns\u001b[0m\u001b[1;33m.\u001b[0m\u001b[0mget_loc\u001b[0m\u001b[1;33m(\u001b[0m\u001b[0mkey\u001b[0m\u001b[1;33m)\u001b[0m\u001b[1;33m\u001b[0m\u001b[1;33m\u001b[0m\u001b[0m\n\u001b[0m\u001b[0;32m   2801\u001b[0m             \u001b[1;32mif\u001b[0m \u001b[0mis_integer\u001b[0m\u001b[1;33m(\u001b[0m\u001b[0mindexer\u001b[0m\u001b[1;33m)\u001b[0m\u001b[1;33m:\u001b[0m\u001b[1;33m\u001b[0m\u001b[1;33m\u001b[0m\u001b[0m\n\u001b[0;32m   2802\u001b[0m                 \u001b[0mindexer\u001b[0m \u001b[1;33m=\u001b[0m \u001b[1;33m[\u001b[0m\u001b[0mindexer\u001b[0m\u001b[1;33m]\u001b[0m\u001b[1;33m\u001b[0m\u001b[1;33m\u001b[0m\u001b[0m\n",
      "\u001b[1;32m~\\anaconda3\\lib\\site-packages\\pandas\\core\\indexes\\base.py\u001b[0m in \u001b[0;36mget_loc\u001b[1;34m(self, key, method, tolerance)\u001b[0m\n\u001b[0;32m   2646\u001b[0m                 \u001b[1;32mreturn\u001b[0m \u001b[0mself\u001b[0m\u001b[1;33m.\u001b[0m\u001b[0m_engine\u001b[0m\u001b[1;33m.\u001b[0m\u001b[0mget_loc\u001b[0m\u001b[1;33m(\u001b[0m\u001b[0mkey\u001b[0m\u001b[1;33m)\u001b[0m\u001b[1;33m\u001b[0m\u001b[1;33m\u001b[0m\u001b[0m\n\u001b[0;32m   2647\u001b[0m             \u001b[1;32mexcept\u001b[0m \u001b[0mKeyError\u001b[0m\u001b[1;33m:\u001b[0m\u001b[1;33m\u001b[0m\u001b[1;33m\u001b[0m\u001b[0m\n\u001b[1;32m-> 2648\u001b[1;33m                 \u001b[1;32mreturn\u001b[0m \u001b[0mself\u001b[0m\u001b[1;33m.\u001b[0m\u001b[0m_engine\u001b[0m\u001b[1;33m.\u001b[0m\u001b[0mget_loc\u001b[0m\u001b[1;33m(\u001b[0m\u001b[0mself\u001b[0m\u001b[1;33m.\u001b[0m\u001b[0m_maybe_cast_indexer\u001b[0m\u001b[1;33m(\u001b[0m\u001b[0mkey\u001b[0m\u001b[1;33m)\u001b[0m\u001b[1;33m)\u001b[0m\u001b[1;33m\u001b[0m\u001b[1;33m\u001b[0m\u001b[0m\n\u001b[0m\u001b[0;32m   2649\u001b[0m         \u001b[0mindexer\u001b[0m \u001b[1;33m=\u001b[0m \u001b[0mself\u001b[0m\u001b[1;33m.\u001b[0m\u001b[0mget_indexer\u001b[0m\u001b[1;33m(\u001b[0m\u001b[1;33m[\u001b[0m\u001b[0mkey\u001b[0m\u001b[1;33m]\u001b[0m\u001b[1;33m,\u001b[0m \u001b[0mmethod\u001b[0m\u001b[1;33m=\u001b[0m\u001b[0mmethod\u001b[0m\u001b[1;33m,\u001b[0m \u001b[0mtolerance\u001b[0m\u001b[1;33m=\u001b[0m\u001b[0mtolerance\u001b[0m\u001b[1;33m)\u001b[0m\u001b[1;33m\u001b[0m\u001b[1;33m\u001b[0m\u001b[0m\n\u001b[0;32m   2650\u001b[0m         \u001b[1;32mif\u001b[0m \u001b[0mindexer\u001b[0m\u001b[1;33m.\u001b[0m\u001b[0mndim\u001b[0m \u001b[1;33m>\u001b[0m \u001b[1;36m1\u001b[0m \u001b[1;32mor\u001b[0m \u001b[0mindexer\u001b[0m\u001b[1;33m.\u001b[0m\u001b[0msize\u001b[0m \u001b[1;33m>\u001b[0m \u001b[1;36m1\u001b[0m\u001b[1;33m:\u001b[0m\u001b[1;33m\u001b[0m\u001b[1;33m\u001b[0m\u001b[0m\n",
      "\u001b[1;32mpandas\\_libs\\index.pyx\u001b[0m in \u001b[0;36mpandas._libs.index.IndexEngine.get_loc\u001b[1;34m()\u001b[0m\n",
      "\u001b[1;32mpandas\\_libs\\index.pyx\u001b[0m in \u001b[0;36mpandas._libs.index.IndexEngine.get_loc\u001b[1;34m()\u001b[0m\n",
      "\u001b[1;32mpandas\\_libs\\hashtable_class_helper.pxi\u001b[0m in \u001b[0;36mpandas._libs.hashtable.PyObjectHashTable.get_item\u001b[1;34m()\u001b[0m\n",
      "\u001b[1;32mpandas\\_libs\\hashtable_class_helper.pxi\u001b[0m in \u001b[0;36mpandas._libs.hashtable.PyObjectHashTable.get_item\u001b[1;34m()\u001b[0m\n",
      "\u001b[1;31mKeyError\u001b[0m: 'total_amount'"
     ]
    },
    {
     "data": {
      "image/png": "[encoded data removed]",
      "text/plain": [
       "<Figure size 842.4x595.44 with 5 Axes>"
      ]
     },
     "metadata": {},
     "output_type": "display_data"
    }
   ],
   "source": [
    "\n",
    "fig, ax = plt.subplots(1, 5) \n",
    "sns.distplot(df['duration'], kde = False, label = \"duration\", color =\"blue\", ax = ax[0]) \n",
    "sns.distplot(df['total_amount'], kde = False, label = \"total_amount\", color =\"blue\", ax = ax[1]) \n",
    "sns.distplot(df['fare_amount'], kde = False, label = 'fare_amount', color =\"blue\", ax = ax[2])\n",
    "sns.distplot(df['trip_distance'], kde = False, label = \"duration\", color =\"blue\", ax = ax[3])\n",
    "sns.distplot(df['revenue'], kde = False, label = \"duration\", color =\"blue\", ax = ax[4])\n",
    "  \n",
    "fig.set_figheight(5) \n",
    "fig.set_figwidth(15) \n",
    "fig.set_figwidth(25)\n",
    "fig.set_figwidth(35)\n",
    "fig.set_figwidth(45)"
   ]
  },
  {
   "cell_type": "code",
   "execution_count": null,
   "metadata": {},
   "outputs": [],
   "source": [
    "--\n",
    "p = sns.jointplot(x='pickup_latitude',y='pickup_longitude' , data= df,kind=\"hex\")\n",
    "p.ax_joint.set_xlabel('Pickup latitude')\n",
    "p.ax_joint.set_ylabel('Pickup longitude')\n",
    "p.fig.suptitle(\"Disstribution of pick-up coordinates \")\n",
    "p.fig.tight_layout()\n",
    "\n",
    "\n",
    "p.fig.savefig('plots/disstribution of pick up coordinates.png')"
   ]
  },
  {
   "cell_type": "code",
   "execution_count": null,
   "metadata": {},
   "outputs": [],
   "source": [
    "p = sns.jointplot(x='dropoff_latitude',y='dropoff_longitude' , data= df,kind=\"hex\",color=\"#4CB391\")\n",
    "\n",
    "p.ax_joint.set_xlabel('Dropoff latitude')\n",
    "p.ax_joint.set_ylabel('Dropoff longitude')\n",
    "p.fig.suptitle(\"Distribution of drop-off coordinates\")\n",
    "p.fig.tight_layout()\n",
    "p.fig.savefig('plots/disstribution of drop off coordinates.png')"
   ]
  },
  {
   "cell_type": "code",
   "execution_count": null,
   "metadata": {},
   "outputs": [],
   "source": [
    "df.reset_index(inplace=True, drop=True)\n",
    "drop_col = ['VendorID', 'tpep_pickup_datetime', 'tpep_dropoff_datetime','pickup_longitude',\n",
    "            'pickup_latitude', 'RatecodeID', 'store_and_fwd_flag','dropoff_longitude',\n",
    "            'dropoff_latitude', 'payment_type', 'extra', 'mta_tax', 'tolls_amount',\n",
    "            'improvement_surcharge', 'total_amount', 'start_date', ]\n",
    "df.drop(drop_col, axis=1, inplace = True)"
   ]
  },
  {
   "cell_type": "code",
   "execution_count": null,
   "metadata": {},
   "outputs": [],
   "source": []
  },
  {
   "cell_type": "code",
   "execution_count": null,
   "metadata": {},
   "outputs": [],
   "source": [
    "df"
   ]
  },
  {
   "cell_type": "code",
   "execution_count": null,
   "metadata": {},
   "outputs": [],
   "source": [
    "df.to_feather('data/raw.feather')\n",
    "df.to_csv('data/raw.csv')"
   ]
  },
  {
   "cell_type": "code",
   "execution_count": null,
   "metadata": {},
   "outputs": [],
   "source": [
    "df.columns"
   ]
  },
  {
   "cell_type": "code",
   "execution_count": null,
   "metadata": {},
   "outputs": [],
   "source": []
  },
  {
   "cell_type": "code",
   "execution_count": null,
   "metadata": {},
   "outputs": [],
   "source": [
    "def check_if_0(x):\n",
    "    if x==0:\n",
    "        return 0.00001\n",
    "    else:\n",
    "        return x\n",
    "\n",
    "df['tip_amount'] = df['tip_amount'].map(check_if_0)"
   ]
  },
  {
   "cell_type": "code",
   "execution_count": null,
   "metadata": {},
   "outputs": [],
   "source": [
    "plt.figure(figsize=(15, 5))"
   ]
  },
  {
   "cell_type": "code",
   "execution_count": null,
   "metadata": {},
   "outputs": [],
   "source": [
    "plt.subplot(231)  \n",
    "sns.distplot(df['trip_distance'], kde = False, label = \"trip_distance\", color =\"blue\") \n",
    "plt.title(\"Distribution\\n of duration\")\n",
    "plt.xlabel('Duration (min)')\n",
    "plt.ylabel(\"Density\")\n",
    "\n",
    "plt.subplot(232) \n",
    "sns.distplot(df['fare_amount'], kde = False, label = 'fare_amount', color =\"blue\")\n",
    "plt.title(\"Distribution\\n of fare amount\")\n",
    "plt.xlabel('Fare amount (USD)')\n",
    "plt.ylabel(\"Density\")\n",
    "\n",
    "plt.subplot(233) \n",
    "sns.distplot(df['tip_amount'], kde = False, label = \"tip_amount\", color =\"blue\")\n",
    "plt.title(\"Distribution\\n of trip distance\")\n",
    "plt.xlabel('Trip distance (mile)')\n",
    "plt.ylabel(\"Density\")\n",
    "\n",
    "plt.subplot(234) \n",
    "sns.distplot(df['duration'], kde = False, label = \"duration\", color =\"blue\")\n",
    "plt.title(\"Distribution of\\n revenue\")\n",
    "plt.xlabel('Revenue (USD/min)')\n",
    "plt.ylabel(\"Density\")\n",
    "\n",
    "plt.subplot(235) \n",
    "sns.distplot(df['income'], kde = False, label = \"income\", color =\"blue\")\n",
    "plt.title(\"Distribution of\\n revenue\")\n",
    "plt.xlabel('Revenue (USD/min)')\n",
    "plt.ylabel(\"Density\")\n",
    "\n",
    "\n",
    "plt.tight_layout()\n",
    "plt.show()"
   ]
  },
  {
   "cell_type": "code",
   "execution_count": null,
   "metadata": {},
   "outputs": [],
   "source": [
    "fig = plt.figure(figsize=(20, 10))\n",
    "plt.subplot(151)  \n",
    "stats.probplot(df['trip_distance'], dist=\"norm\", plot=plt)\n",
    "plt.title(\"D\")\n",
    "plt.xlabel('D')\n",
    "plt.ylabel(\"D\")\n",
    "\n",
    "plt.subplot(152) \n",
    "stats.probplot(df['fare_amount'], dist=\"norm\", plot=plt)\n",
    "plt.title(\"D\")\n",
    "plt.xlabel('T')\n",
    "plt.ylabel(\"D\")\n",
    "\n",
    "plt.subplot(153) \n",
    "stats.probplot(df['tip_amount'], dist=\"norm\", plot=plt)\n",
    "plt.title(\"D\")\n",
    "plt.xlabel('F')\n",
    "plt.ylabel(\"D\")\n",
    "\n",
    "plt.subplot(154) \n",
    "stats.probplot(df['duration'], dist=\"norm\", plot=plt)\n",
    "plt.title(\"D\")\n",
    "plt.xlabel('T')\n",
    "plt.ylabel(\"D\")\n",
    "\n",
    "plt.subplot(155) \n",
    "stats.probplot(df['income'], dist=\"norm\", plot=plt)\n",
    "plt.title(\"D\")\n",
    "plt.xlabel('R')\n",
    "plt.ylabel(\"D\")\n",
    "\n",
    "plt.tight_layout()\n",
    "plt.show()\n",
    "    "
   ]
  },
  {
   "cell_type": "code",
   "execution_count": null,
   "metadata": {},
   "outputs": [],
   "source": []
  },
  {
   "cell_type": "code",
   "execution_count": null,
   "metadata": {},
   "outputs": [],
   "source": [
    "lambda_list = []\n",
    "continuous_col = ['trip_distance', 'fare_amount', 'tip_amount','duration', 'income']\n",
    "for i in continuous_col:\n",
    "    out = stats.boxcox(df[i], lmbda=None)\n",
    "    df[i] = out[0]\n",
    "    lambda_list.append(out[1])"
   ]
  },
  {
   "cell_type": "code",
   "execution_count": null,
   "metadata": {},
   "outputs": [],
   "source": []
  },
  {
   "cell_type": "code",
   "execution_count": null,
   "metadata": {},
   "outputs": [],
   "source": [
    "plt.subplot(231)  \n",
    "sns.distplot(df['trip_distance'], kde = False, label = \"trip_distance\", color =\"blue\") \n",
    "plt.title(\"Distribution\\n of duration\")\n",
    "plt.xlabel('Duration (min)')\n",
    "plt.ylabel(\"Density\")\n",
    "\n",
    "plt.subplot(232) \n",
    "sns.distplot(df['fare_amount'], kde = False, label = 'fare_amount', color =\"blue\")\n",
    "plt.title(\"Distribution\\n of fare amount\")\n",
    "plt.xlabel('Fare amount (USD)')\n",
    "plt.ylabel(\"Density\")\n",
    "\n",
    "plt.subplot(233) \n",
    "sns.distplot(df['tip_amount'], kde = False, label = \"tip_amount\", color =\"blue\")\n",
    "plt.title(\"Distribution\\n of trip distance\")\n",
    "plt.xlabel('Trip distance (mile)')\n",
    "plt.ylabel(\"Density\")\n",
    "\n",
    "plt.subplot(234) \n",
    "sns.distplot(df['duration'], kde = False, label = \"duration\", color =\"blue\")\n",
    "plt.title(\"Distribution of\\n revenue\")\n",
    "plt.xlabel('Revenue (USD/min)')\n",
    "plt.ylabel(\"Density\")\n",
    "\n",
    "plt.subplot(235) \n",
    "sns.distplot(df['income'], kde = False, label = \"income\", color =\"blue\")\n",
    "plt.title(\"Distribution of\\n revenue\")\n",
    "plt.xlabel('Revenue (USD/min)')\n",
    "plt.ylabel(\"Density\")\n",
    "\n",
    "\n",
    "plt.tight_layout()\n",
    "plt.show()"
   ]
  },
  {
   "cell_type": "code",
   "execution_count": null,
   "metadata": {},
   "outputs": [],
   "source": [
    "fig = plt.figure(figsize=(20, 10))\n",
    "plt.subplot(151)  \n",
    "stats.probplot(df['trip_distance'], dist=\"norm\", plot=plt)\n",
    "plt.title(\"D\")\n",
    "plt.xlabel('D')\n",
    "plt.ylabel(\"D\")\n",
    "\n",
    "plt.subplot(152) \n",
    "stats.probplot(df['fare_amount'], dist=\"norm\", plot=plt)\n",
    "plt.title(\"D\")\n",
    "plt.xlabel('T')\n",
    "plt.ylabel(\"D\")\n",
    "\n",
    "plt.subplot(153) \n",
    "stats.probplot(df['tip_amount'], dist=\"norm\", plot=plt)\n",
    "plt.title(\"D\")\n",
    "plt.xlabel('F')\n",
    "plt.ylabel(\"D\")\n",
    "\n",
    "plt.subplot(154) \n",
    "stats.probplot(df['duration'], dist=\"norm\", plot=plt)\n",
    "plt.title(\"D\")\n",
    "plt.xlabel('T')\n",
    "plt.ylabel(\"D\")\n",
    "\n",
    "plt.subplot(155) \n",
    "stats.probplot(df['income'], dist=\"norm\", plot=plt)\n",
    "plt.title(\"D\")\n",
    "plt.xlabel('R')\n",
    "plt.ylabel(\"D\")\n",
    "\n",
    "plt.tight_layout()\n",
    "plt.show()"
   ]
  },
  {
   "cell_type": "code",
   "execution_count": null,
   "metadata": {},
   "outputs": [],
   "source": [
    "print(lambda_list)"
   ]
  },
  {
   "cell_type": "code",
   "execution_count": null,
   "metadata": {},
   "outputs": [],
   "source": [
    "df.to_csv('data/scaled.csv')"
   ]
  },
  {
   "cell_type": "code",
   "execution_count": null,
   "metadata": {},
   "outputs": [],
   "source": [
    "df"
   ]
  },
  {
   "cell_type": "code",
   "execution_count": null,
   "metadata": {},
   "outputs": [],
   "source": []
  },
  {
   "cell_type": "code",
   "execution_count": null,
   "metadata": {},
   "outputs": [],
   "source": [
    "--"
   ]
  },
  {
   "cell_type": "code",
   "execution_count": null,
   "metadata": {},
   "outputs": [],
   "source": [
    "#chi_res = chi2_contingency(contingency_table)\n",
    "#print('Chi2 Statistic: {}, p-value: {}'.format(chi_res[0], chi_res[1]))"
   ]
  },
  {
   "cell_type": "code",
   "execution_count": null,
   "metadata": {},
   "outputs": [],
   "source": [
    "df = pd.read_csv('data/scaled.csv')"
   ]
  },
  {
   "cell_type": "code",
   "execution_count": null,
   "metadata": {},
   "outputs": [],
   "source": [
    "sns.distplot(df['revenue'], kde = False, label = \"income\", color =\"blue\")"
   ]
  },
  {
   "cell_type": "code",
   "execution_count": null,
   "metadata": {},
   "outputs": [],
   "source": [
    "plt.title(\"D\")\n",
    "plt.xlabel('R')\n",
    "plt.ylabel(\"D\")"
   ]
  },
  {
   "cell_type": "code",
   "execution_count": null,
   "metadata": {},
   "outputs": [],
   "source": [
    "plt.subplot(155) \n",
    "stats.probplot(df['income'], dist=\"norm\", plot=plt)\n",
    "plt.title(\"D\")\n",
    "plt.xlabel('R')\n",
    "plt.ylabel(\"D\")\n",
    "\n",
    "plt.tight_layout()\n",
    "plt.show()"
   ]
  },
  {
   "cell_type": "code",
   "execution_count": null,
   "metadata": {},
   "outputs": [],
   "source": []
  },
  {
   "cell_type": "markdown",
   "metadata": {},
   "source": [
    "# Change data type"
   ]
  },
  {
   "cell_type": "code",
   "execution_count": null,
   "metadata": {},
   "outputs": [],
   "source": [
    "df['start_hour'] = df['start_hour'].astype('category')\n",
    "df['weather'] = df['weather'].astype('category')"
   ]
  },
  {
   "cell_type": "code",
   "execution_count": null,
   "metadata": {},
   "outputs": [],
   "source": [
    "corr_attr =['trip_distance', 'payment_type', 'fare_amount', 'mta_tax',\n",
    " 'tip_amount', 'duration', 'start_hour', 'weather','income','revenue']\n",
    "corr = df[corr_attr].corr()\n",
    "sns.heatmap(corr,cmap = sns.diverging_palette(220, 10, as_cmap=True), square=True, center=0, vmin=-1, vmax=1)\n",
    "plt.title('Pearson correlation matrix')\n",
    "plt.savefig('plots/correlation.png')\n",
    "plt.show()"
   ]
  },
  {
   "cell_type": "code",
   "execution_count": null,
   "metadata": {},
   "outputs": [],
   "source": []
  },
  {
   "cell_type": "markdown",
   "metadata": {},
   "source": [
    "# Sampling"
   ]
  },
  {
   "cell_type": "code",
   "execution_count": null,
   "metadata": {},
   "outputs": [],
   "source": [
    "sub_df1 = df.sample(n=1000000, random_state=100)\n",
    "sub_df2 = df.sample(n=1000000, random_state=50)\n",
    "sub_df3 = df.sample(n=1000000, random_state=30)"
   ]
  },
  {
   "cell_type": "code",
   "execution_count": null,
   "metadata": {},
   "outputs": [],
   "source": [
    "preci_df =  df.loc[(df[\"weather\"] != 'remain')]\n",
    "remain_df = df.loc[(df[\"weather\"] == 'remain')]\n"
   ]
  },
  {
   "cell_type": "code",
   "execution_count": null,
   "metadata": {},
   "outputs": [],
   "source": []
  },
  {
   "cell_type": "code",
   "execution_count": null,
   "metadata": {},
   "outputs": [],
   "source": [
    "# def calculate_dependence(attr1, attr2):\n",
    "    \n",
    "attr1 = df['passenger_count']\n",
    "attr2 = df['revenue']\n",
    "contingency_table = pd.crosstab(attr1,attr2)\n",
    "contingency_table"
   ]
  }
 ],
 "metadata": {
  "kernelspec": {
   "display_name": "PyCharm (code)",
   "language": "python",
   "name": "pycharm-16b22b5f"
  },
  "language_info": {
   "codemirror_mode": {
    "name": "ipython",
    "version": 3
   },
   "file_extension": ".py",
   "mimetype": "text/x-python",
   "name": "python",
   "nbconvert_exporter": "python",
   "pygments_lexer": "ipython3",
   "version": "3.8.3"
  }
 },
 "nbformat": 4,
 "nbformat_minor": 2
}
