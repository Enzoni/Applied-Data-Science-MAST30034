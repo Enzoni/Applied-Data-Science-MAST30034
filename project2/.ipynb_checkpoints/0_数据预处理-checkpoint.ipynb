{
 "cells": [
  {
   "cell_type": "code",
   "execution_count": 1,
   "metadata": {
    "pycharm": {
     "name": "#%%\n"
    }
   },
   "outputs": [],
   "source": [
    "%matplotlib inline"
   ]
  },
  {
   "cell_type": "code",
   "execution_count": 2,
   "metadata": {},
   "outputs": [],
   "source": [
    "import pandas as pd\n",
    "import numpy as np\n",
    "import matplotlib.pyplot as plt\n",
    "import seaborn as sns \n",
    "#import folium\n",
    "#from folium.plugins import FastMarkerCluster\n",
    "#from folium.plugins import HeatMap\n",
    "#from statsmodels.formula.api import *\n",
    "\n",
    "import matplotlib.image as mpimg\n",
    "import io\n",
    "from PIL import Image\n",
    "from scipy import stats\n",
    "#from scipy.stats import chi2_contingency"
   ]
  },
  {
   "cell_type": "code",
   "execution_count": 3,
   "metadata": {},
   "outputs": [
    {
     "ename": "ImportError",
     "evalue": "Missing optional dependency 'pyarrow'.  Use pip or conda to install pyarrow.",
     "output_type": "error",
     "traceback": [
      "\u001b[1;31m---------------------------------------------------------------------------\u001b[0m",
      "\u001b[1;31mImportError\u001b[0m                               Traceback (most recent call last)",
      "\u001b[1;32m<ipython-input-3-717c2ad65aae>\u001b[0m in \u001b[0;36m<module>\u001b[1;34m\u001b[0m\n\u001b[1;32m----> 1\u001b[1;33m \u001b[0mdf\u001b[0m \u001b[1;33m=\u001b[0m \u001b[0mpd\u001b[0m\u001b[1;33m.\u001b[0m\u001b[0mread_feather\u001b[0m\u001b[1;33m(\u001b[0m\u001b[1;34m'data/yellow_tripdata_01_weather.feather'\u001b[0m\u001b[1;33m)\u001b[0m\u001b[1;33m\u001b[0m\u001b[1;33m\u001b[0m\u001b[0m\n\u001b[0m\u001b[0;32m      2\u001b[0m \u001b[0mdf\u001b[0m\u001b[1;33m[\u001b[0m\u001b[1;34m\"income\"\u001b[0m\u001b[1;33m]\u001b[0m \u001b[1;33m=\u001b[0m \u001b[0mdf\u001b[0m\u001b[1;33m[\u001b[0m\u001b[1;34m'tip_amount'\u001b[0m\u001b[1;33m]\u001b[0m \u001b[1;33m+\u001b[0m \u001b[0mdf\u001b[0m\u001b[1;33m[\u001b[0m\u001b[1;34m'fare_amount'\u001b[0m\u001b[1;33m]\u001b[0m\u001b[1;33m\u001b[0m\u001b[1;33m\u001b[0m\u001b[0m\n\u001b[0;32m      3\u001b[0m \u001b[0mdf\u001b[0m\u001b[1;33m[\u001b[0m\u001b[1;34m'revenue'\u001b[0m\u001b[1;33m]\u001b[0m \u001b[1;33m=\u001b[0m \u001b[0mdf\u001b[0m\u001b[1;33m[\u001b[0m\u001b[1;34m'income'\u001b[0m\u001b[1;33m]\u001b[0m \u001b[1;33m/\u001b[0m \u001b[0mdf\u001b[0m\u001b[1;33m[\u001b[0m\u001b[1;34m'duration'\u001b[0m\u001b[1;33m]\u001b[0m\u001b[1;33m\u001b[0m\u001b[1;33m\u001b[0m\u001b[0m\n\u001b[0;32m      4\u001b[0m \u001b[0mdf\u001b[0m\u001b[1;33m[\u001b[0m\u001b[1;34m'revenue_level'\u001b[0m\u001b[1;33m]\u001b[0m \u001b[1;33m=\u001b[0m  \u001b[0mnp\u001b[0m\u001b[1;33m.\u001b[0m\u001b[0mwhere\u001b[0m\u001b[1;33m(\u001b[0m\u001b[0mdf\u001b[0m\u001b[1;33m[\u001b[0m\u001b[1;34m'revenue'\u001b[0m\u001b[1;33m]\u001b[0m\u001b[1;33m>\u001b[0m\u001b[1;36m1\u001b[0m\u001b[1;33m,\u001b[0m \u001b[1;34m'hight'\u001b[0m\u001b[1;33m,\u001b[0m \u001b[1;34m'low'\u001b[0m\u001b[1;33m)\u001b[0m\u001b[1;33m\u001b[0m\u001b[1;33m\u001b[0m\u001b[0m\n\u001b[0;32m      5\u001b[0m \u001b[1;33m\u001b[0m\u001b[0m\n",
      "\u001b[1;32m~\\anaconda3\\lib\\site-packages\\pandas\\io\\feather_format.py\u001b[0m in \u001b[0;36mread_feather\u001b[1;34m(path, columns, use_threads)\u001b[0m\n\u001b[0;32m     96\u001b[0m     \u001b[0mtype\u001b[0m \u001b[0mof\u001b[0m \u001b[0mobject\u001b[0m \u001b[0mstored\u001b[0m \u001b[1;32min\u001b[0m \u001b[0mfile\u001b[0m\u001b[1;33m\u001b[0m\u001b[1;33m\u001b[0m\u001b[0m\n\u001b[0;32m     97\u001b[0m     \"\"\"\n\u001b[1;32m---> 98\u001b[1;33m     \u001b[0mimport_optional_dependency\u001b[0m\u001b[1;33m(\u001b[0m\u001b[1;34m\"pyarrow\"\u001b[0m\u001b[1;33m)\u001b[0m\u001b[1;33m\u001b[0m\u001b[1;33m\u001b[0m\u001b[0m\n\u001b[0m\u001b[0;32m     99\u001b[0m     \u001b[1;32mfrom\u001b[0m \u001b[0mpyarrow\u001b[0m \u001b[1;32mimport\u001b[0m \u001b[0mfeather\u001b[0m\u001b[1;33m\u001b[0m\u001b[1;33m\u001b[0m\u001b[0m\n\u001b[0;32m    100\u001b[0m \u001b[1;33m\u001b[0m\u001b[0m\n",
      "\u001b[1;32m~\\anaconda3\\lib\\site-packages\\pandas\\compat\\_optional.py\u001b[0m in \u001b[0;36mimport_optional_dependency\u001b[1;34m(name, extra, raise_on_missing, on_version)\u001b[0m\n\u001b[0;32m     90\u001b[0m     \u001b[1;32mexcept\u001b[0m \u001b[0mImportError\u001b[0m\u001b[1;33m:\u001b[0m\u001b[1;33m\u001b[0m\u001b[1;33m\u001b[0m\u001b[0m\n\u001b[0;32m     91\u001b[0m         \u001b[1;32mif\u001b[0m \u001b[0mraise_on_missing\u001b[0m\u001b[1;33m:\u001b[0m\u001b[1;33m\u001b[0m\u001b[1;33m\u001b[0m\u001b[0m\n\u001b[1;32m---> 92\u001b[1;33m             \u001b[1;32mraise\u001b[0m \u001b[0mImportError\u001b[0m\u001b[1;33m(\u001b[0m\u001b[0mmsg\u001b[0m\u001b[1;33m)\u001b[0m \u001b[1;32mfrom\u001b[0m \u001b[1;32mNone\u001b[0m\u001b[1;33m\u001b[0m\u001b[1;33m\u001b[0m\u001b[0m\n\u001b[0m\u001b[0;32m     93\u001b[0m         \u001b[1;32melse\u001b[0m\u001b[1;33m:\u001b[0m\u001b[1;33m\u001b[0m\u001b[1;33m\u001b[0m\u001b[0m\n\u001b[0;32m     94\u001b[0m             \u001b[1;32mreturn\u001b[0m \u001b[1;32mNone\u001b[0m\u001b[1;33m\u001b[0m\u001b[1;33m\u001b[0m\u001b[0m\n",
      "\u001b[1;31mImportError\u001b[0m: Missing optional dependency 'pyarrow'.  Use pip or conda to install pyarrow."
     ]
    }
   ],
   "source": [
    "\n",
    "\n",
    "\n",
    "\n",
    "df = pd.read_feather('data/yellow_tripdata_01_weather.feather')\n",
    "df[\"income\"] = df['tip_amount'] + df['fare_amount']\n",
    "df['revenue'] = df['income'] / df['duration']\n",
    "df['revenue_level'] =  np.where(df['revenue']>1, 'hight', 'low')"
   ]
  },
  {
   "cell_type": "markdown",
   "metadata": {},
   "source": [
    "# Data cleaning"
   ]
  },
  {
   "cell_type": "code",
   "execution_count": null,
   "metadata": {},
   "outputs": [],
   "source": [
    "df = df.loc[(df['RatecodeID'] == 1) & (df['payment_type'] == 1) &  (df['passenger_count'] <= 4) &  (df['passenger_count'] > 0)]\n",
    "df = df.loc[(df[\"duration\"] >= 0.25) &  (df[\"fare_amount\"] > 0) & (df[\"extra\"] >= 0) & (df[\"mta_tax\"] >= 0) \n",
    "             & (df[\"tip_amount\"] >= 0) & (df[\"tolls_amount\"] >=0)  & (df[\"total_amount\"]>0) & (df[\"income\"] > 0) \n",
    "             & (df[\"improvement_surcharge\"] >= 0) & (df[\"trip_distance\"] >= 0.01)]\n",
    "\n",
    "df = df.loc[(df[\"duration\"] <= 100) & (df[\"total_amount\"]<=100) & (df['fare_amount'] <=80) & (df['trip_distance'] <= 30) & (df[\"revenue\"] <= 5)]\n",
    "\n",
    "df = df.loc[(df[\"pickup_longitude\"] < -73) & (df[\"pickup_longitude\"] > -74.5) &\n",
    "            (df[\"pickup_latitude\"] > 40.5) & (df[\"pickup_latitude\"] < 41) &\n",
    "            (df[\"dropoff_longitude\"] < -73) & (df[\"dropoff_longitude\"] > -74.5) &\n",
    "            (df[\"dropoff_latitude\"] > 40.5) & (df[\"dropoff_latitude\"] < 41)]"
   ]
  },
  {
   "cell_type": "code",
   "execution_count": null,
   "metadata": {},
   "outputs": [],
   "source": [
    "sns.set(rc={'figure.figsize':(11.7,8.27),\"font.size\":20,\"axes.titlesize\":20,\"axes.labelsize\":20},style=\"white\")"
   ]
  },
  {
   "cell_type": "code",
   "execution_count": null,
   "metadata": {},
   "outputs": [],
   "source": [
    "fig, ax = plt.subplots(1, 5) \n",
    "sns.distplot(df['duration'], kde = False, label = \"duration\", color =\"blue\", ax = ax[0]) \n",
    "sns.distplot(df['total_amount'], kde = False, label = \"total_amount\", color =\"blue\", ax = ax[1]) \n",
    "sns.distplot(df['fare_amount'], kde = False, label = 'fare_amount', color =\"blue\", ax = ax[2])\n",
    "sns.distplot(df['trip_distance'], kde = False, label = \"duration\", color =\"blue\", ax = ax[3])\n",
    "sns.distplot(df['revenue'], kde = False, label = \"duration\", color =\"blue\", ax = ax[4])\n",
    "  \n",
    "fig.set_figheight(5) \n",
    "fig.set_figwidth(15) \n",
    "fig.set_figwidth(25)\n",
    "fig.set_figwidth(35)\n",
    "fig.set_figwidth(45)"
   ]
  },
  {
   "cell_type": "code",
   "execution_count": null,
   "metadata": {},
   "outputs": [],
   "source": [
    "p = sns.jointplot(x='pickup_latitude',y='pickup_longitude' , data= df,kind=\"hex\")\n",
    "p.ax_joint.set_xlabel('Pickup latitude')\n",
    "p.ax_joint.set_ylabel('Pickup longitude')\n",
    "p.fig.suptitle(\"Disstribution of pick-up coordinates \")\n",
    "p.fig.tight_layout()\n",
    "\n",
    "\n",
    "p.fig.savefig('plots/disstribution of pick up coordinates.png')"
   ]
  },
  {
   "cell_type": "code",
   "execution_count": null,
   "metadata": {},
   "outputs": [],
   "source": [
    "p = sns.jointplot(x='dropoff_latitude',y='dropoff_longitude' , data= df,kind=\"hex\",color=\"#4CB391\")\n",
    "\n",
    "p.ax_joint.set_xlabel('Dropoff latitude')\n",
    "p.ax_joint.set_ylabel('Dropoff longitude')\n",
    "p.fig.suptitle(\"Distribution of drop-off coordinates\")\n",
    "p.fig.tight_layout()\n",
    "p.fig.savefig('plots/disstribution of drop off coordinates.png')"
   ]
  },
  {
   "cell_type": "code",
   "execution_count": null,
   "metadata": {},
   "outputs": [],
   "source": [
    "df.reset_index(inplace=True, drop=True)\n",
    "drop_col = ['VendorID', 'tpep_pickup_datetime', 'tpep_dropoff_datetime','pickup_longitude',\n",
    "            'pickup_latitude', 'RatecodeID', 'store_and_fwd_flag','dropoff_longitude',\n",
    "            'dropoff_latitude', 'payment_type', 'extra', 'mta_tax', 'tolls_amount',\n",
    "            'improvement_surcharge', 'total_amount', 'start_date', ]\n",
    "df.drop(drop_col, axis=1, inplace = True)"
   ]
  },
  {
   "cell_type": "code",
   "execution_count": null,
   "metadata": {},
   "outputs": [],
   "source": []
  },
  {
   "cell_type": "code",
   "execution_count": null,
   "metadata": {},
   "outputs": [],
   "source": [
    "df"
   ]
  },
  {
   "cell_type": "code",
   "execution_count": null,
   "metadata": {},
   "outputs": [],
   "source": [
    "df.to_feather('data/raw.feather')\n",
    "df.to_csv('data/raw.csv')"
   ]
  },
  {
   "cell_type": "code",
   "execution_count": null,
   "metadata": {},
   "outputs": [],
   "source": [
    "df.columns"
   ]
  },
  {
   "cell_type": "code",
   "execution_count": null,
   "metadata": {},
   "outputs": [],
   "source": []
  },
  {
   "cell_type": "code",
   "execution_count": null,
   "metadata": {},
   "outputs": [],
   "source": [
    "def check_if_0(x):\n",
    "    if x==0:\n",
    "        return 0.00001\n",
    "    else:\n",
    "        return x\n",
    "\n",
    "df['tip_amount'] = df['tip_amount'].map(check_if_0)"
   ]
  },
  {
   "cell_type": "code",
   "execution_count": null,
   "metadata": {},
   "outputs": [],
   "source": [
    "plt.figure(figsize=(15, 5))"
   ]
  },
  {
   "cell_type": "code",
   "execution_count": null,
   "metadata": {},
   "outputs": [],
   "source": [
    "plt.subplot(231)  \n",
    "sns.distplot(df['trip_distance'], kde = False, label = \"trip_distance\", color =\"blue\") \n",
    "plt.title(\"Distribution\\n of duration\")\n",
    "plt.xlabel('Duration (min)')\n",
    "plt.ylabel(\"Density\")\n",
    "\n",
    "plt.subplot(232) \n",
    "sns.distplot(df['fare_amount'], kde = False, label = 'fare_amount', color =\"blue\")\n",
    "plt.title(\"Distribution\\n of fare amount\")\n",
    "plt.xlabel('Fare amount (USD)')\n",
    "plt.ylabel(\"Density\")\n",
    "\n",
    "plt.subplot(233) \n",
    "sns.distplot(df['tip_amount'], kde = False, label = \"tip_amount\", color =\"blue\")\n",
    "plt.title(\"Distribution\\n of trip distance\")\n",
    "plt.xlabel('Trip distance (mile)')\n",
    "plt.ylabel(\"Density\")\n",
    "\n",
    "plt.subplot(234) \n",
    "sns.distplot(df['duration'], kde = False, label = \"duration\", color =\"blue\")\n",
    "plt.title(\"Distribution of\\n revenue\")\n",
    "plt.xlabel('Revenue (USD/min)')\n",
    "plt.ylabel(\"Density\")\n",
    "\n",
    "plt.subplot(235) \n",
    "sns.distplot(df['income'], kde = False, label = \"income\", color =\"blue\")\n",
    "plt.title(\"Distribution of\\n revenue\")\n",
    "plt.xlabel('Revenue (USD/min)')\n",
    "plt.ylabel(\"Density\")\n",
    "\n",
    "\n",
    "plt.tight_layout()\n",
    "plt.show()"
   ]
  },
  {
   "cell_type": "code",
   "execution_count": null,
   "metadata": {},
   "outputs": [],
   "source": [
    "fig = plt.figure(figsize=(20, 10))\n",
    "plt.subplot(151)  \n",
    "stats.probplot(df['trip_distance'], dist=\"norm\", plot=plt)\n",
    "plt.title(\"D\")\n",
    "plt.xlabel('D')\n",
    "plt.ylabel(\"D\")\n",
    "\n",
    "plt.subplot(152) \n",
    "stats.probplot(df['fare_amount'], dist=\"norm\", plot=plt)\n",
    "plt.title(\"D\")\n",
    "plt.xlabel('T')\n",
    "plt.ylabel(\"D\")\n",
    "\n",
    "plt.subplot(153) \n",
    "stats.probplot(df['tip_amount'], dist=\"norm\", plot=plt)\n",
    "plt.title(\"D\")\n",
    "plt.xlabel('F')\n",
    "plt.ylabel(\"D\")\n",
    "\n",
    "plt.subplot(154) \n",
    "stats.probplot(df['duration'], dist=\"norm\", plot=plt)\n",
    "plt.title(\"D\")\n",
    "plt.xlabel('T')\n",
    "plt.ylabel(\"D\")\n",
    "\n",
    "plt.subplot(155) \n",
    "stats.probplot(df['income'], dist=\"norm\", plot=plt)\n",
    "plt.title(\"D\")\n",
    "plt.xlabel('R')\n",
    "plt.ylabel(\"D\")\n",
    "\n",
    "plt.tight_layout()\n",
    "plt.show()\n",
    "    "
   ]
  },
  {
   "cell_type": "code",
   "execution_count": null,
   "metadata": {},
   "outputs": [],
   "source": []
  },
  {
   "cell_type": "code",
   "execution_count": null,
   "metadata": {},
   "outputs": [],
   "source": [
    "lambda_list = []\n",
    "continuous_col = ['trip_distance', 'fare_amount', 'tip_amount','duration', 'income']\n",
    "for i in continuous_col:\n",
    "    out = stats.boxcox(df[i], lmbda=None)\n",
    "    df[i] = out[0]\n",
    "    lambda_list.append(out[1])"
   ]
  },
  {
   "cell_type": "code",
   "execution_count": null,
   "metadata": {},
   "outputs": [],
   "source": []
  },
  {
   "cell_type": "code",
   "execution_count": null,
   "metadata": {},
   "outputs": [],
   "source": [
    "plt.subplot(231)  \n",
    "sns.distplot(df['trip_distance'], kde = False, label = \"trip_distance\", color =\"blue\") \n",
    "plt.title(\"Distribution\\n of duration\")\n",
    "plt.xlabel('Duration (min)')\n",
    "plt.ylabel(\"Density\")\n",
    "\n",
    "plt.subplot(232) \n",
    "sns.distplot(df['fare_amount'], kde = False, label = 'fare_amount', color =\"blue\")\n",
    "plt.title(\"Distribution\\n of fare amount\")\n",
    "plt.xlabel('Fare amount (USD)')\n",
    "plt.ylabel(\"Density\")\n",
    "\n",
    "plt.subplot(233) \n",
    "sns.distplot(df['tip_amount'], kde = False, label = \"tip_amount\", color =\"blue\")\n",
    "plt.title(\"Distribution\\n of trip distance\")\n",
    "plt.xlabel('Trip distance (mile)')\n",
    "plt.ylabel(\"Density\")\n",
    "\n",
    "plt.subplot(234) \n",
    "sns.distplot(df['duration'], kde = False, label = \"duration\", color =\"blue\")\n",
    "plt.title(\"Distribution of\\n revenue\")\n",
    "plt.xlabel('Revenue (USD/min)')\n",
    "plt.ylabel(\"Density\")\n",
    "\n",
    "plt.subplot(235) \n",
    "sns.distplot(df['income'], kde = False, label = \"income\", color =\"blue\")\n",
    "plt.title(\"Distribution of\\n revenue\")\n",
    "plt.xlabel('Revenue (USD/min)')\n",
    "plt.ylabel(\"Density\")\n",
    "\n",
    "\n",
    "plt.tight_layout()\n",
    "plt.show()"
   ]
  },
  {
   "cell_type": "code",
   "execution_count": null,
   "metadata": {},
   "outputs": [],
   "source": [
    "fig = plt.figure(figsize=(20, 10))\n",
    "plt.subplot(151)  \n",
    "stats.probplot(df['trip_distance'], dist=\"norm\", plot=plt)\n",
    "plt.title(\"D\")\n",
    "plt.xlabel('D')\n",
    "plt.ylabel(\"D\")\n",
    "\n",
    "plt.subplot(152) \n",
    "stats.probplot(df['fare_amount'], dist=\"norm\", plot=plt)\n",
    "plt.title(\"D\")\n",
    "plt.xlabel('T')\n",
    "plt.ylabel(\"D\")\n",
    "\n",
    "plt.subplot(153) \n",
    "stats.probplot(df['tip_amount'], dist=\"norm\", plot=plt)\n",
    "plt.title(\"D\")\n",
    "plt.xlabel('F')\n",
    "plt.ylabel(\"D\")\n",
    "\n",
    "plt.subplot(154) \n",
    "stats.probplot(df['duration'], dist=\"norm\", plot=plt)\n",
    "plt.title(\"D\")\n",
    "plt.xlabel('T')\n",
    "plt.ylabel(\"D\")\n",
    "\n",
    "plt.subplot(155) \n",
    "stats.probplot(df['income'], dist=\"norm\", plot=plt)\n",
    "plt.title(\"D\")\n",
    "plt.xlabel('R')\n",
    "plt.ylabel(\"D\")\n",
    "\n",
    "plt.tight_layout()\n",
    "plt.show()"
   ]
  },
  {
   "cell_type": "code",
   "execution_count": null,
   "metadata": {},
   "outputs": [],
   "source": [
    "print(lambda_list)"
   ]
  },
  {
   "cell_type": "code",
   "execution_count": null,
   "metadata": {},
   "outputs": [],
   "source": [
    "df.to_csv('data/scaled.csv')"
   ]
  },
  {
   "cell_type": "code",
   "execution_count": null,
   "metadata": {},
   "outputs": [],
   "source": [
    "df"
   ]
  },
  {
   "cell_type": "code",
   "execution_count": null,
   "metadata": {},
   "outputs": [],
   "source": []
  },
  {
   "cell_type": "code",
   "execution_count": null,
   "metadata": {},
   "outputs": [],
   "source": [
    "--"
   ]
  },
  {
   "cell_type": "code",
   "execution_count": null,
   "metadata": {},
   "outputs": [],
   "source": [
    "#chi_res = chi2_contingency(contingency_table)\n",
    "#print('Chi2 Statistic: {}, p-value: {}'.format(chi_res[0], chi_res[1]))"
   ]
  },
  {
   "cell_type": "code",
   "execution_count": null,
   "metadata": {},
   "outputs": [],
   "source": [
    "df = pd.read_csv('data/scaled.csv')"
   ]
  },
  {
   "cell_type": "code",
   "execution_count": null,
   "metadata": {},
   "outputs": [],
   "source": [
    "sns.distplot(df['revenue'], kde = False, label = \"income\", color =\"blue\")"
   ]
  },
  {
   "cell_type": "code",
   "execution_count": null,
   "metadata": {},
   "outputs": [],
   "source": [
    "plt.title(\"D\")\n",
    "plt.xlabel('R')\n",
    "plt.ylabel(\"D\")"
   ]
  },
  {
   "cell_type": "code",
   "execution_count": null,
   "metadata": {},
   "outputs": [],
   "source": [
    "plt.subplot(155) \n",
    "stats.probplot(df['income'], dist=\"norm\", plot=plt)\n",
    "plt.title(\"D\")\n",
    "plt.xlabel('R')\n",
    "plt.ylabel(\"D\")\n",
    "\n",
    "plt.tight_layout()\n",
    "plt.show()"
   ]
  },
  {
   "cell_type": "code",
   "execution_count": null,
   "metadata": {},
   "outputs": [],
   "source": []
  },
  {
   "cell_type": "markdown",
   "metadata": {},
   "source": [
    "# Change data type"
   ]
  },
  {
   "cell_type": "code",
   "execution_count": null,
   "metadata": {},
   "outputs": [],
   "source": [
    "df['start_hour'] = df['start_hour'].astype('category')\n",
    "df['weather'] = df['weather'].astype('category')"
   ]
  },
  {
   "cell_type": "code",
   "execution_count": null,
   "metadata": {},
   "outputs": [],
   "source": [
    "corr_attr =['trip_distance', 'payment_type', 'fare_amount', 'mta_tax',\n",
    " 'tip_amount', 'duration', 'start_hour', 'weather','income','revenue']\n",
    "corr = df[corr_attr].corr()\n",
    "sns.heatmap(corr,cmap = sns.diverging_palette(220, 10, as_cmap=True), square=True, center=0, vmin=-1, vmax=1)\n",
    "plt.title('Pearson correlation matrix')\n",
    "plt.savefig('plots/correlation.png')\n",
    "plt.show()"
   ]
  },
  {
   "cell_type": "code",
   "execution_count": null,
   "metadata": {},
   "outputs": [],
   "source": []
  },
  {
   "cell_type": "markdown",
   "metadata": {},
   "source": [
    "# Sampling"
   ]
  },
  {
   "cell_type": "code",
   "execution_count": null,
   "metadata": {},
   "outputs": [],
   "source": [
    "sub_df1 = df.sample(n=1000000, random_state=100)\n",
    "sub_df2 = df.sample(n=1000000, random_state=50)\n",
    "sub_df3 = df.sample(n=1000000, random_state=30)"
   ]
  },
  {
   "cell_type": "code",
   "execution_count": null,
   "metadata": {},
   "outputs": [],
   "source": [
    "preci_df =  df.loc[(df[\"weather\"] != 'remain')]\n",
    "remain_df = df.loc[(df[\"weather\"] == 'remain')]\n"
   ]
  },
  {
   "cell_type": "code",
   "execution_count": null,
   "metadata": {},
   "outputs": [],
   "source": []
  },
  {
   "cell_type": "code",
   "execution_count": null,
   "metadata": {},
   "outputs": [],
   "source": [
    "# def calculate_dependence(attr1, attr2):\n",
    "    \n",
    "attr1 = df['passenger_count']\n",
    "attr2 = df['revenue']\n",
    "contingency_table = pd.crosstab(attr1,attr2)\n",
    "contingency_table"
   ]
  }
 ],
 "metadata": {
  "kernelspec": {
   "display_name": "PyCharm (code)",
   "language": "python",
   "name": "pycharm-16b22b5f"
  },
  "language_info": {
   "codemirror_mode": {
    "name": "ipython",
    "version": 3
   },
   "file_extension": ".py",
   "mimetype": "text/x-python",
   "name": "python",
   "nbconvert_exporter": "python",
   "pygments_lexer": "ipython3",
   "version": "3.8.3"
  }
 },
 "nbformat": 4,
 "nbformat_minor": 2
}
