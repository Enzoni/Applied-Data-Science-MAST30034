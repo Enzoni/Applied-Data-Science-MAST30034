{
 "cells": [
  {
   "cell_type": "code",
   "execution_count": 1,
   "metadata": {},
   "outputs": [],
   "source": [
    "import pandas as pd\n",
    "import numpy as np\n",
    "import matplotlib.pyplot as plt\n",
    "import seaborn as sns\n",
    "from scipy import stats\n",
    "#from scipy.stats import chi2_contingency"
   ]
  },
  {
   "cell_type": "code",
   "execution_count": 2,
   "metadata": {},
   "outputs": [
    {
     "data": {
      "text/html": [
       "<div>\n",
       "<style scoped>\n",
       "    .dataframe tbody tr th:only-of-type {\n",
       "        vertical-align: middle;\n",
       "    }\n",
       "\n",
       "    .dataframe tbody tr th {\n",
       "        vertical-align: top;\n",
       "    }\n",
       "\n",
       "    .dataframe thead th {\n",
       "        text-align: right;\n",
       "    }\n",
       "</style>\n",
       "<table border=\"1\" class=\"dataframe\">\n",
       "  <thead>\n",
       "    <tr style=\"text-align: right;\">\n",
       "      <th></th>\n",
       "      <th>passenger_count</th>\n",
       "      <th>trip_distance</th>\n",
       "      <th>fare_amount</th>\n",
       "      <th>tip_amount</th>\n",
       "      <th>duration</th>\n",
       "      <th>revenue</th>\n",
       "      <th>start_hour</th>\n",
       "      <th>day_of_week</th>\n",
       "      <th>weather</th>\n",
       "    </tr>\n",
       "  </thead>\n",
       "  <tbody>\n",
       "    <tr>\n",
       "      <th>0</th>\n",
       "      <td>1</td>\n",
       "      <td>2.10</td>\n",
       "      <td>9.0</td>\n",
       "      <td>2.00</td>\n",
       "      <td>8.383333</td>\n",
       "      <td>78.727634</td>\n",
       "      <td>0</td>\n",
       "      <td>Friday</td>\n",
       "      <td>remain</td>\n",
       "    </tr>\n",
       "    <tr>\n",
       "      <th>1</th>\n",
       "      <td>2</td>\n",
       "      <td>1.80</td>\n",
       "      <td>9.0</td>\n",
       "      <td>2.05</td>\n",
       "      <td>9.800000</td>\n",
       "      <td>67.653061</td>\n",
       "      <td>0</td>\n",
       "      <td>Friday</td>\n",
       "      <td>remain</td>\n",
       "    </tr>\n",
       "    <tr>\n",
       "      <th>2</th>\n",
       "      <td>1</td>\n",
       "      <td>0.80</td>\n",
       "      <td>5.5</td>\n",
       "      <td>2.00</td>\n",
       "      <td>4.950000</td>\n",
       "      <td>90.909091</td>\n",
       "      <td>0</td>\n",
       "      <td>Friday</td>\n",
       "      <td>remain</td>\n",
       "    </tr>\n",
       "    <tr>\n",
       "      <th>3</th>\n",
       "      <td>1</td>\n",
       "      <td>9.00</td>\n",
       "      <td>26.0</td>\n",
       "      <td>7.50</td>\n",
       "      <td>16.816667</td>\n",
       "      <td>119.524281</td>\n",
       "      <td>0</td>\n",
       "      <td>Friday</td>\n",
       "      <td>remain</td>\n",
       "    </tr>\n",
       "    <tr>\n",
       "      <th>4</th>\n",
       "      <td>1</td>\n",
       "      <td>1.80</td>\n",
       "      <td>8.5</td>\n",
       "      <td>1.95</td>\n",
       "      <td>8.650000</td>\n",
       "      <td>72.485549</td>\n",
       "      <td>0</td>\n",
       "      <td>Friday</td>\n",
       "      <td>remain</td>\n",
       "    </tr>\n",
       "    <tr>\n",
       "      <th>...</th>\n",
       "      <td>...</td>\n",
       "      <td>...</td>\n",
       "      <td>...</td>\n",
       "      <td>...</td>\n",
       "      <td>...</td>\n",
       "      <td>...</td>\n",
       "      <td>...</td>\n",
       "      <td>...</td>\n",
       "      <td>...</td>\n",
       "    </tr>\n",
       "    <tr>\n",
       "      <th>4535200</th>\n",
       "      <td>1</td>\n",
       "      <td>7.90</td>\n",
       "      <td>24.0</td>\n",
       "      <td>10.05</td>\n",
       "      <td>20.000000</td>\n",
       "      <td>102.150000</td>\n",
       "      <td>23</td>\n",
       "      <td>Thursday</td>\n",
       "      <td>remain</td>\n",
       "    </tr>\n",
       "    <tr>\n",
       "      <th>4535201</th>\n",
       "      <td>1</td>\n",
       "      <td>2.86</td>\n",
       "      <td>13.0</td>\n",
       "      <td>4.20</td>\n",
       "      <td>15.950000</td>\n",
       "      <td>64.702194</td>\n",
       "      <td>23</td>\n",
       "      <td>Thursday</td>\n",
       "      <td>remain</td>\n",
       "    </tr>\n",
       "    <tr>\n",
       "      <th>4535202</th>\n",
       "      <td>3</td>\n",
       "      <td>3.20</td>\n",
       "      <td>14.5</td>\n",
       "      <td>3.66</td>\n",
       "      <td>18.333333</td>\n",
       "      <td>59.432727</td>\n",
       "      <td>23</td>\n",
       "      <td>Thursday</td>\n",
       "      <td>remain</td>\n",
       "    </tr>\n",
       "    <tr>\n",
       "      <th>4535203</th>\n",
       "      <td>1</td>\n",
       "      <td>1.22</td>\n",
       "      <td>6.5</td>\n",
       "      <td>1.00</td>\n",
       "      <td>6.183333</td>\n",
       "      <td>72.776280</td>\n",
       "      <td>23</td>\n",
       "      <td>Thursday</td>\n",
       "      <td>remain</td>\n",
       "    </tr>\n",
       "    <tr>\n",
       "      <th>4535204</th>\n",
       "      <td>2</td>\n",
       "      <td>1.75</td>\n",
       "      <td>8.5</td>\n",
       "      <td>1.84</td>\n",
       "      <td>10.616667</td>\n",
       "      <td>58.436421</td>\n",
       "      <td>23</td>\n",
       "      <td>Thursday</td>\n",
       "      <td>remain</td>\n",
       "    </tr>\n",
       "  </tbody>\n",
       "</table>\n",
       "<p>4535205 rows × 9 columns</p>\n",
       "</div>"
      ],
      "text/plain": [
       "         passenger_count  trip_distance  fare_amount  tip_amount   duration  \\\n",
       "0                      1           2.10          9.0        2.00   8.383333   \n",
       "1                      2           1.80          9.0        2.05   9.800000   \n",
       "2                      1           0.80          5.5        2.00   4.950000   \n",
       "3                      1           9.00         26.0        7.50  16.816667   \n",
       "4                      1           1.80          8.5        1.95   8.650000   \n",
       "...                  ...            ...          ...         ...        ...   \n",
       "4535200                1           7.90         24.0       10.05  20.000000   \n",
       "4535201                1           2.86         13.0        4.20  15.950000   \n",
       "4535202                3           3.20         14.5        3.66  18.333333   \n",
       "4535203                1           1.22          6.5        1.00   6.183333   \n",
       "4535204                2           1.75          8.5        1.84  10.616667   \n",
       "\n",
       "            revenue  start_hour day_of_week weather  \n",
       "0         78.727634           0      Friday  remain  \n",
       "1         67.653061           0      Friday  remain  \n",
       "2         90.909091           0      Friday  remain  \n",
       "3        119.524281           0      Friday  remain  \n",
       "4         72.485549           0      Friday  remain  \n",
       "...             ...         ...         ...     ...  \n",
       "4535200  102.150000          23    Thursday  remain  \n",
       "4535201   64.702194          23    Thursday  remain  \n",
       "4535202   59.432727          23    Thursday  remain  \n",
       "4535203   72.776280          23    Thursday  remain  \n",
       "4535204   58.436421          23    Thursday  remain  \n",
       "\n",
       "[4535205 rows x 9 columns]"
      ]
     },
     "execution_count": 2,
     "metadata": {},
     "output_type": "execute_result"
    }
   ],
   "source": [
    "df = pd.read_feather('data/clean.feather')\n",
    "df"
   ]
  },
  {
   "cell_type": "code",
   "execution_count": 3,
   "metadata": {},
   "outputs": [],
   "source": [
    "from sklearn.model_selection import train_test_split\n",
    "\n",
    "train, test = train_test_split(df, test_size=0.3, random_state=60, shuffle=True)\n",
    "train.reset_index(inplace = True, drop=True)\n",
    "test.reset_index(inplace = True, drop=True)"
   ]
  },
  {
   "cell_type": "code",
   "execution_count": 4,
   "metadata": {},
   "outputs": [],
   "source": [
    "continuous_col = ['trip_distance', 'fare_amount', 'tip_amount','duration', 'revenue']"
   ]
  },
  {
   "cell_type": "code",
   "execution_count": null,
   "metadata": {},
   "outputs": [],
   "source": [
    "fig = plt.figure(figsize=(20, 10))\n",
    "plt.subplot(221)  \n",
    "stats.probplot(train['trip_distance'], dist=\"norm\", plot=plt)\n",
    "plt.title(\"Normal Q-Q Plot for transformed Trip distance\")\n",
    "plt.xlabel('Theoretical Quantiles')\n",
    "plt.ylabel(\"Sample Quantiles\")\n",
    "\n",
    "plt.subplot(222) \n",
    "stats.probplot(train['tip_amount'], dist=\"norm\", plot=plt)\n",
    "plt.title(\"Normal Q-Q Plot for transformed Tip amount\")\n",
    "plt.xlabel('Theoretical Quantiles')\n",
    "plt.ylabel(\"Sample Quantiles\")\n",
    "\n",
    "plt.subplot(223) \n",
    "stats.probplot(train['duration'], dist=\"norm\", plot=plt)\n",
    "plt.title(\"Normal Q-Q Plot for transformed Duration\")\n",
    "plt.xlabel('Theoretical Quantiles')\n",
    "plt.ylabel(\"Sample Quantiles\")\n",
    "\n",
    "plt.subplot(224) \n",
    "stats.probplot(train['revenue'], dist=\"norm\", plot=plt)\n",
    "plt.title(\"Normal Q-Q Plot for transformed Revenue\")\n",
    "plt.xlabel('Theoretical Quantiles')\n",
    "plt.ylabel(\"Sample Quantiles\")\n",
    "\n",
    "plt.tight_layout()\n",
    "plt.show()"
   ]
  },
  {
   "cell_type": "code",
   "execution_count": 5,
   "metadata": {},
   "outputs": [],
   "source": [
    "from sklearn.preprocessing import StandardScaler"
   ]
  },
  {
   "cell_type": "code",
   "execution_count": 6,
   "metadata": {},
   "outputs": [],
   "source": [
    "scaler = StandardScaler()\n"
   ]
  },
  {
   "cell_type": "code",
   "execution_count": 7,
   "metadata": {},
   "outputs": [
    {
     "data": {
      "text/plain": [
       "StandardScaler()"
      ]
     },
     "execution_count": 7,
     "metadata": {},
     "output_type": "execute_result"
    }
   ],
   "source": [
    "scaler.fit(train[continuous_col])"
   ]
  },
  {
   "cell_type": "code",
   "execution_count": 10,
   "metadata": {},
   "outputs": [
    {
     "name": "stderr",
     "output_type": "stream",
     "text": [
      "<ipython-input-10-4953075e2a58>:1: SettingWithCopyWarning: \n",
      "A value is trying to be set on a copy of a slice from a DataFrame.\n",
      "Try using .loc[row_indexer,col_indexer] = value instead\n",
      "\n",
      "See the caveats in the documentation: https://pandas.pydata.org/pandas-docs/stable/user_guide/indexing.html#returning-a-view-versus-a-copy\n",
      "  train[continuous_col] = scaler.transform(train[continuous_col])\n",
      "C:\\Users\\enzon\\anaconda3\\lib\\site-packages\\pandas\\core\\indexing.py:966: SettingWithCopyWarning: \n",
      "A value is trying to be set on a copy of a slice from a DataFrame.\n",
      "Try using .loc[row_indexer,col_indexer] = value instead\n",
      "\n",
      "See the caveats in the documentation: https://pandas.pydata.org/pandas-docs/stable/user_guide/indexing.html#returning-a-view-versus-a-copy\n",
      "  self.obj[item] = s\n"
     ]
    }
   ],
   "source": [
    "train[continuous_col] = scaler.transform(train[continuous_col])"
   ]
  },
  {
   "cell_type": "code",
   "execution_count": 11,
   "metadata": {},
   "outputs": [
    {
     "data": {
      "image/png": "[encoded data removed]",
      "text/plain": [
       "<Figure size 1440x720 with 4 Axes>"
      ]
     },
     "metadata": {
      "needs_background": "light"
     },
     "output_type": "display_data"
    }
   ],
   "source": [
    "fig = plt.figure(figsize=(20, 10))\n",
    "plt.subplot(221)  \n",
    "stats.probplot(train['trip_distance'], dist=\"norm\", plot=plt)\n",
    "plt.title(\"Normal Q-Q Plot for transformed Trip distance\")\n",
    "plt.xlabel('Theoretical Quantiles')\n",
    "plt.ylabel(\"Sample Quantiles\")\n",
    "\n",
    "plt.subplot(222) \n",
    "stats.probplot(train['tip_amount'], dist=\"norm\", plot=plt)\n",
    "plt.title(\"Normal Q-Q Plot for transformed Tip amount\")\n",
    "plt.xlabel('Theoretical Quantiles')\n",
    "plt.ylabel(\"Sample Quantiles\")\n",
    "\n",
    "plt.subplot(223) \n",
    "stats.probplot(train['duration'], dist=\"norm\", plot=plt)\n",
    "plt.title(\"Normal Q-Q Plot for transformed Duration\")\n",
    "plt.xlabel('Theoretical Quantiles')\n",
    "plt.ylabel(\"Sample Quantiles\")\n",
    "\n",
    "plt.subplot(224) \n",
    "stats.probplot(train['revenue'], dist=\"norm\", plot=plt)\n",
    "plt.title(\"Normal Q-Q Plot for transformed Revenue\")\n",
    "plt.xlabel('Theoretical Quantiles')\n",
    "plt.ylabel(\"Sample Quantiles\")\n",
    "\n",
    "plt.tight_layout()\n",
    "plt.show()"
   ]
  },
  {
   "cell_type": "code",
   "execution_count": null,
   "metadata": {},
   "outputs": [],
   "source": []
  }
 ],
 "metadata": {
  "kernelspec": {
   "display_name": "Python 3",
   "language": "python",
   "name": "python3"
  },
  "language_info": {
   "codemirror_mode": {
    "name": "ipython",
    "version": 3
   },
   "file_extension": ".py",
   "mimetype": "text/x-python",
   "name": "python",
   "nbconvert_exporter": "python",
   "pygments_lexer": "ipython3",
   "version": "3.8.3"
  }
 },
 "nbformat": 4,
 "nbformat_minor": 4
}
