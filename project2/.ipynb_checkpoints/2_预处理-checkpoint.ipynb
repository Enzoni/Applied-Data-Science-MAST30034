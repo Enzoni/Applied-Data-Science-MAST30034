{
 "cells": [
  {
   "cell_type": "code",
   "execution_count": 1,
   "metadata": {},
   "outputs": [],
   "source": [
    "#import os\n",
    "#os.chdir(\"Applied Data Science\\project2\\code\")\n",
    "#os.getcwd()\n",
    "\n"
   ]
  },
  {
   "cell_type": "code",
   "execution_count": 4,
   "metadata": {
    "pycharm": {
     "name": "#%%\n"
    }
   },
   "outputs": [],
   "source": [
    "import pandas as pd\n",
    "import numpy as np\n",
    "import matplotlib.pyplot as plt\n",
    "import seaborn as sns\n",
    "\n",
    "import geopandas as gpd\n",
    "import matplotlib.image as mpimg\n",
    "import io\n",
    "from PIL import Image\n",
    "from scipy import stats\n",
    "#from scipy.stats import chi2_contingency"
   ]
  },
  {
   "cell_type": "code",
   "execution_count": null,
   "metadata": {
    "pycharm": {
     "name": "#%%\n"
    }
   },
   "outputs": [],
   "source": [
    "df = pd.read_feather('data/raw.feather')"
   ]
  },
  {
   "cell_type": "code",
   "execution_count": null,
   "metadata": {},
   "outputs": [],
   "source": [
    "mta_tax = df['mta_tax'].value_counts()\n",
    "mta_tax"
   ]
  },
  {
   "cell_type": "code",
   "execution_count": null,
   "metadata": {
    "pycharm": {
     "name": "#%%\n"
    }
   },
   "outputs": [],
   "source": [
    "improvement_surcharge = df['improvement_surcharge'].value_counts()\n",
    "improvement_surcharge"
   ]
  },
  {
   "cell_type": "code",
   "execution_count": null,
   "metadata": {
    "pycharm": {
     "name": "#%%\n"
    }
   },
   "outputs": [],
   "source": [
    "df = df.loc[(df['payment_type'] == 1) &  (df['passenger_count'] <= 4) & (df['passenger_count'] > 0)]\n",
    "\n",
    "df = df.loc[(df[\"duration\"] >= 0.25) &  (df[\"fare_amount\"] > 0) & (df[\"extra\"] >= 0) & (df[\"mta_tax\"] == 0.5)\n",
    "            & (df[\"tip_amount\"] >= 0) & (df[\"tip_amount\"] <=20) & (df[\"tolls_amount\"] >=0)\n",
    "            & (df[\"total_amount\"]>0) & (df[\"income\"] > 0)  & (df[\"improvement_surcharge\"] == 0.3)\n",
    "            &(df[\"trip_distance\"] >= 0.01) & (df[\"PULocationID\"] <= 263) & (df[\"DOLocationID\"] <= 263)\n",
    "            & (df[\"congestion_surcharge\"] >=0)]\n",
    "\n",
    "df = df.loc[(df[\"duration\"] <= 100) & (df[\"total_amount\"]<=100) & (df['fare_amount'] <=80) &\n",
    "            (df['trip_distance'] <= 30) & (df[\"revenue\"] <= 5)]\n"
   ]
  },
  {
   "cell_type": "code",
   "execution_count": null,
   "metadata": {
    "pycharm": {
     "name": "#%%\n"
    }
   },
   "outputs": [],
   "source": [
    "rid = df['RatecodeID'].value_counts()\n",
    "rid"
   ]
  },
  {
   "cell_type": "code",
   "execution_count": null,
   "metadata": {
    "pycharm": {
     "name": "#%%\n"
    }
   },
   "outputs": [],
   "source": [
    "df = df.loc[(df['RatecodeID'] != 99)]\n",
    "# group payment type\n",
    "def group_rid(x):\n",
    "    if x != 1:\n",
    "        return 2\n",
    "    else:\n",
    "        return 1\n",
    "df['RatecodeID'] = df['RatecodeID'].apply(group_rid)"
   ]
  },
  {
   "cell_type": "code",
   "execution_count": null,
   "metadata": {
    "pycharm": {
     "name": "#%%\n"
    }
   },
   "outputs": [],
   "source": [
    "sns.set(rc={'figure.figsize':(11.7,8.27),\"font.size\":20,\"axes.titlesize\":20,\"axes.labelsize\":20},style=\"white\")"
   ]
  },
  {
   "cell_type": "code",
   "execution_count": null,
   "metadata": {},
   "outputs": [],
   "source": [
    "\n",
    "fig, ax = plt.subplots(1, 5) \n",
    "sns.distplot(df['duration'], kde = False, label = \"duration\", color =\"blue\", ax = ax[0]) \n",
    "sns.distplot(df['total_amount'], kde = False, label = \"total_amount\", color =\"blue\", ax = ax[1]) \n",
    "sns.distplot(df['fare_amount'], kde = False, label = 'fare_amount', color =\"blue\", ax = ax[2])\n",
    "sns.distplot(df['trip_distance'], kde = False, label = \"duration\", color =\"blue\", ax = ax[3])\n",
    "sns.distplot(df['revenue'], kde = False, label = \"duration\", color =\"blue\", ax = ax[4])\n",
    "  \n",
    "fig.set_figheight(5) \n",
    "fig.set_figwidth(15) \n",
    "fig.set_figwidth(25)\n",
    "fig.set_figwidth(35)\n",
    "fig.set_figwidth(45)\n"
   ]
  },
  {
   "cell_type": "code",
   "execution_count": null,
   "metadata": {
    "pycharm": {
     "name": "#%%\n"
    }
   },
   "outputs": [],
   "source": [
    "drop_col = ['extra','mta_tax','improvement_surcharge', 'payment_type','tolls_amount','total_amount']\n",
    "df.drop(drop_col, axis=1, inplace = True)\n",
    "df.reset_index(inplace = True, drop=True)\n",
    "df\n",
    "\n"
   ]
  },
  {
   "cell_type": "markdown",
   "metadata": {},
   "source": [
    "# 从之前的研究发现RatecodeID 不为 1 的时候就 好像revenue 会高一点"
   ]
  },
  {
   "cell_type": "code",
   "execution_count": null,
   "metadata": {
    "pycharm": {
     "name": "#%%\n"
    }
   },
   "outputs": [],
   "source": [
    "stand_df = df.loc[(df[\"RatecodeID\"] == 1)]\n",
    "other_df = df.loc[(df[\"RatecodeID\"] == 2)]"
   ]
  },
  {
   "cell_type": "markdown",
   "metadata": {},
   "source": [
    "# 看看不同RatecodeID  distribution\n"
   ]
  },
  {
   "cell_type": "code",
   "execution_count": null,
   "metadata": {
    "pycharm": {
     "name": "#%%\n"
    }
   },
   "outputs": [],
   "source": [
    "sf = gpd.read_file(\"data/taxi_zones/taxi_zones.shp\")\n",
    "zone = pd.read_csv(\"data/taxi_zones/taxi+_zone_lookup.csv\")\n",
    "\n",
    "sf['geometry'] = sf['geometry'].to_crs(\"+proj=longlat +ellps=WGS84 +datum=WGS84 +no_defs\")"
   ]
  },
  {
   "cell_type": "code",
   "execution_count": null,
   "metadata": {
    "pycharm": {
     "name": "#%%\n"
    }
   },
   "outputs": [],
   "source": [
    "gdf = gpd.GeoDataFrame(pd.merge(df, sf, left_on='PULocationID', right_on='LocationID')).drop('PULocationID',axis=1)\n",
    "gdf.head(1)"
   ]
  },
  {
   "cell_type": "code",
   "execution_count": null,
   "metadata": {
    "pycharm": {
     "name": "#%%\n"
    }
   },
   "outputs": [],
   "source": [
    "df_count_2020 = reconstruct_location(df_2020)\n",
    "\n",
    "merged_2020 = append_shapefile(df_count_2020)\n",
    "\n",
    "\n",
    "\n",
    "def chorlopeth_PU(merged,title,colour):\n",
    "# set the value column that will be visualised\n",
    "\n",
    "    variable = 'PUcount'\n",
    "    # set the range for the choropleth values\n",
    "    vmin, vmax = 0, 1000\n",
    "    # create figure and axes for Matplotlib\n",
    "    fig, ax = plt.subplots(1, figsize=(30, 10))\n",
    "    # remove the axis\n",
    "    ax.axis('off')\n",
    "    # add a title and annotation\n",
    "    ax.set_title(title, fontdict={'fontsize': '25', 'fontweight' : '3'})\n",
    "\n",
    "    # Create colorbar legend\n",
    "    sm = plt.cm.ScalarMappable(cmap=colour, norm=plt.Normalize(vmin=vmin, vmax=vmax))\n",
    "    # empty array for the data range\n",
    "    sm.set_array([]) # or alternatively sm._A = []. Not sure why this step is necessary, but many recommends it\n",
    "    # add the colorbar to the figure\n",
    "    fig.colorbar(sm)\n",
    "    # create map\n",
    "\n",
    "    merged.plot(column=variable, cmap=colour, linewidth=0.8, ax=ax, edgecolor='0.8')\n",
    "\n",
    "    return\n",
    "\n",
    "merged_2019.sort_values('PUcount',ascending = False).head()\n",
    "chorlopeth_PU(merged_2019,\"areas with high volume pickups for 2019 April\",'Blues')\n",
    "\n",
    "\n",
    "\n",
    "\n",
    "\n",
    "\n",
    "\n",
    "\n"
   ]
  },
  {
   "cell_type": "code",
   "execution_count": null,
   "metadata": {
    "pycharm": {
     "name": "#%%\n"
    }
   },
   "outputs": [],
   "source": [
    "plt.figure(figsize=(15, 5))\n",
    "plt.subplot(121)\n",
    "sns.distplot(stand_df ['revenue'], kde = True,\n",
    "            kde_kws = {'shade': True, 'linewidth': 2}, color =\"blue\")\n",
    "plt.title(\"Distribution of revenue\\n when RatecodeID is standard rate\")\n",
    "plt.xlabel('revenue (USD/min)')\n",
    "plt.ylabel(\"Density\")\n",
    "\n",
    "plt.subplot(122)\n",
    "sns.distplot(other_df['revenue'], kde = True,\n",
    "            kde_kws = {'shade': True, 'linewidth': 2}, color =\"blue\")\n",
    "plt.title(\"Distribution of revenue\\n when RatecodeID is other\")\n",
    "plt.xlabel('revenue (mile/min)')\n",
    "plt.ylabel(\"Density\")\n",
    "\n",
    "fig.set_figheight(5)\n",
    "fig.set_figwidth(15)\n"
   ]
  },
  {
   "cell_type": "code",
   "execution_count": null,
   "metadata": {
    "pycharm": {
     "name": "#%%\n"
    }
   },
   "outputs": [],
   "source": [
    "--\n",
    "sns.boxplot(x=\"revenue\", y=\"RatecodeID\", data=df)\n",
    "plt.title(\"Distribution of revenue\")\n",
    "plt.xlabel('revenue (USD/min)')\n",
    "plt.tight_layout()"
   ]
  },
  {
   "cell_type": "code",
   "execution_count": null,
   "metadata": {
    "pycharm": {
     "name": "#%%\n"
    }
   },
   "outputs": [],
   "source": [
    "--\n",
    "df.to_csv('data/clean.csv', index=False)\n",
    "df.to_feather('data/clean.feather')\n",
    "\n"
   ]
  },
  {
   "cell_type": "code",
   "execution_count": null,
   "metadata": {},
   "outputs": [],
   "source": [
    "plt.figure(figsize=(15, 5))"
   ]
  },
  {
   "cell_type": "code",
   "execution_count": null,
   "metadata": {},
   "outputs": [],
   "source": [
    "plt.subplot(231)  \n",
    "sns.distplot(df['trip_distance'], kde = False, label = \"trip_distance\", color =\"blue\") \n",
    "plt.title(\"Distribution\\n of Trip distance\")\n",
    "plt.xlabel('Trip distance (mile)')\n",
    "plt.ylabel(\"Density\")\n",
    "\n",
    "plt.subplot(232) \n",
    "sns.distplot(df['fare_amount'], kde = False, label = 'fare_amount', color =\"blue\")\n",
    "plt.title(\"Distribution\\n of Fare amount\")\n",
    "plt.xlabel('Fare amount (USD)')\n",
    "plt.ylabel(\"Density\")\n",
    "\n",
    "plt.subplot(233) \n",
    "sns.distplot(df['tip_amount'], kde = False, label = \"tip_amount\", color =\"blue\")\n",
    "plt.title(\"Distribution\\n of Tip amount\")\n",
    "plt.xlabel('Tip amount (USD)')\n",
    "plt.ylabel(\"Density\")\n",
    "\n",
    "plt.subplot(234) \n",
    "sns.distplot(df['duration'], kde = False, label = \"duration\", color =\"blue\")\n",
    "plt.title(\"Distribution of\\n revenue\")\n",
    "plt.xlabel('Duration (min)')\n",
    "plt.ylabel(\"Density\")\n",
    "\n",
    "plt.subplot(235) \n",
    "sns.distplot(df['income'], kde = False, label = \"income\", color =\"blue\")\n",
    "plt.title(\"Distribution of\\n income\")\n",
    "plt.xlabel('income (USD)')\n",
    "plt.ylabel(\"Density\")\n",
    "\n",
    "plt.subplot(236)\n",
    "sns.distplot(df['revenue'], kde = False, label = \"revenue\", color =\"blue\")\n",
    "plt.title(\"Distribution of\\n revenue\")\n",
    "plt.xlabel('Revenue (USD/min)')\n",
    "plt.ylabel(\"Density\")\n",
    "plt.tight_layout()\n",
    "plt.show()\n",
    "\n"
   ]
  },
  {
   "cell_type": "code",
   "execution_count": null,
   "metadata": {},
   "outputs": [],
   "source": [
    "--\n",
    "def check_if_0(x):\n",
    "    if x==0:\n",
    "        return 0.00001\n",
    "    else:\n",
    "        return x\n",
    "\n",
    "df['tip_amount'] = df['tip_amount'].map(check_if_0)"
   ]
  },
  {
   "cell_type": "code",
   "execution_count": null,
   "metadata": {
    "pycharm": {
     "name": "#%%\n"
    }
   },
   "outputs": [],
   "source": [
    "\n",
    "\n",
    "\n",
    "\n",
    "fig = plt.figure(figsize=(20, 10))\n",
    "plt.subplot(151)  \n",
    "stats.probplot(df['trip_distance'], dist=\"norm\", plot=plt)\n",
    "plt.title(\"D\")\n",
    "plt.xlabel('D')\n",
    "plt.ylabel(\"D\")\n",
    "\n",
    "plt.subplot(152) \n",
    "stats.probplot(df['fare_amount'], dist=\"norm\", plot=plt)\n",
    "plt.title(\"D\")\n",
    "plt.xlabel('T')\n",
    "plt.ylabel(\"D\")\n",
    "\n",
    "plt.subplot(153) \n",
    "stats.probplot(df['tip_amount'], dist=\"norm\", plot=plt)\n",
    "plt.title(\"D\")\n",
    "plt.xlabel('F')\n",
    "plt.ylabel(\"D\")\n",
    "\n",
    "plt.subplot(154) \n",
    "stats.probplot(df['duration'], dist=\"norm\", plot=plt)\n",
    "plt.title(\"D\")\n",
    "plt.xlabel('T')\n",
    "plt.ylabel(\"D\")\n",
    "\n",
    "plt.subplot(155) \n",
    "stats.probplot(df['income'], dist=\"norm\", plot=plt)\n",
    "plt.title(\"D\")\n",
    "plt.xlabel('R')\n",
    "plt.ylabel(\"D\")\n",
    "\n",
    "plt.tight_layout()\n",
    "plt.show()\n",
    "    "
   ]
  },
  {
   "cell_type": "code",
   "execution_count": null,
   "metadata": {},
   "outputs": [],
   "source": []
  },
  {
   "cell_type": "code",
   "execution_count": null,
   "metadata": {},
   "outputs": [],
   "source": [
    "lambda_list = []\n",
    "continuous_col = ['trip_distance', 'fare_amount', 'tip_amount','duration', 'income']\n",
    "for i in continuous_col:\n",
    "    out = stats.boxcox(df[i], lmbda=None)\n",
    "    df[i] = out[0]\n",
    "    lambda_list.append(out[1])"
   ]
  },
  {
   "cell_type": "code",
   "execution_count": null,
   "metadata": {},
   "outputs": [],
   "source": []
  },
  {
   "cell_type": "code",
   "execution_count": null,
   "metadata": {},
   "outputs": [],
   "source": [
    "plt.subplot(231)  \n",
    "sns.distplot(df['trip_distance'], kde = False, label = \"trip_distance\", color =\"blue\") \n",
    "plt.title(\"Distribution\\n of duration\")\n",
    "plt.xlabel('Duration (min)')\n",
    "plt.ylabel(\"Density\")\n",
    "\n",
    "plt.subplot(232) \n",
    "sns.distplot(df['fare_amount'], kde = False, label = 'fare_amount', color =\"blue\")\n",
    "plt.title(\"Distribution\\n of fare amount\")\n",
    "plt.xlabel('Fare amount (USD)')\n",
    "plt.ylabel(\"Density\")\n",
    "\n",
    "plt.subplot(233) \n",
    "sns.distplot(df['tip_amount'], kde = False, label = \"tip_amount\", color =\"blue\")\n",
    "plt.title(\"Distribution\\n of trip distance\")\n",
    "plt.xlabel('Trip distance (mile)')\n",
    "plt.ylabel(\"Density\")\n",
    "\n",
    "plt.subplot(234) \n",
    "sns.distplot(df['duration'], kde = False, label = \"duration\", color =\"blue\")\n",
    "plt.title(\"Distribution of\\n revenue\")\n",
    "plt.xlabel('Revenue (USD/min)')\n",
    "plt.ylabel(\"Density\")\n",
    "\n",
    "plt.subplot(235) \n",
    "sns.distplot(df['income'], kde = False, label = \"income\", color =\"blue\")\n",
    "plt.title(\"Distribution of\\n revenue\")\n",
    "plt.xlabel('Revenue (USD/min)')\n",
    "plt.ylabel(\"Density\")\n",
    "\n",
    "\n",
    "plt.tight_layout()\n",
    "plt.show()"
   ]
  },
  {
   "cell_type": "code",
   "execution_count": null,
   "metadata": {},
   "outputs": [],
   "source": [
    "fig = plt.figure(figsize=(20, 10))\n",
    "plt.subplot(151)  \n",
    "stats.probplot(df['trip_distance'], dist=\"norm\", plot=plt)\n",
    "plt.title(\"D\")\n",
    "plt.xlabel('D')\n",
    "plt.ylabel(\"D\")\n",
    "\n",
    "plt.subplot(152) \n",
    "stats.probplot(df['fare_amount'], dist=\"norm\", plot=plt)\n",
    "plt.title(\"D\")\n",
    "plt.xlabel('T')\n",
    "plt.ylabel(\"D\")\n",
    "\n",
    "plt.subplot(153) \n",
    "stats.probplot(df['tip_amount'], dist=\"norm\", plot=plt)\n",
    "plt.title(\"D\")\n",
    "plt.xlabel('F')\n",
    "plt.ylabel(\"D\")\n",
    "\n",
    "plt.subplot(154) \n",
    "stats.probplot(df['duration'], dist=\"norm\", plot=plt)\n",
    "plt.title(\"D\")\n",
    "plt.xlabel('T')\n",
    "plt.ylabel(\"D\")\n",
    "\n",
    "plt.subplot(155) \n",
    "stats.probplot(df['income'], dist=\"norm\", plot=plt)\n",
    "plt.title(\"D\")\n",
    "plt.xlabel('R')\n",
    "plt.ylabel(\"D\")\n",
    "\n",
    "plt.tight_layout()\n",
    "plt.show()"
   ]
  },
  {
   "cell_type": "code",
   "execution_count": null,
   "metadata": {},
   "outputs": [],
   "source": [
    "print(lambda_list)"
   ]
  },
  {
   "cell_type": "code",
   "execution_count": null,
   "metadata": {},
   "outputs": [],
   "source": [
    "df.to_csv('data/scaled.csv', index=False)\n",
    "df.to_feather('data/scaled.csv')\n",
    "df\n"
   ]
  },
  {
   "cell_type": "code",
   "execution_count": null,
   "metadata": {},
   "outputs": [],
   "source": [
    "--"
   ]
  },
  {
   "cell_type": "code",
   "execution_count": null,
   "metadata": {},
   "outputs": [],
   "source": [
    "#chi_res = chi2_contingency(contingency_table)\n",
    "#print('Chi2 Statistic: {}, p-value: {}'.format(chi_res[0], chi_res[1]))"
   ]
  },
  {
   "cell_type": "code",
   "execution_count": null,
   "metadata": {},
   "outputs": [],
   "source": [
    "df = pd.read_csv('data/scaled.csv')"
   ]
  },
  {
   "cell_type": "code",
   "execution_count": null,
   "metadata": {},
   "outputs": [],
   "source": [
    "sns.distplot(df['revenue'], kde = False, label = \"income\", color =\"blue\")"
   ]
  },
  {
   "cell_type": "code",
   "execution_count": null,
   "metadata": {},
   "outputs": [],
   "source": [
    "plt.title(\"D\")\n",
    "plt.xlabel('R')\n",
    "plt.ylabel(\"D\")"
   ]
  },
  {
   "cell_type": "code",
   "execution_count": null,
   "metadata": {},
   "outputs": [],
   "source": [
    "plt.subplot(155) \n",
    "stats.probplot(df['income'], dist=\"norm\", plot=plt)\n",
    "plt.title(\"D\")\n",
    "plt.xlabel('R')\n",
    "plt.ylabel(\"D\")\n",
    "\n",
    "plt.tight_layout()\n",
    "plt.show()"
   ]
  },
  {
   "cell_type": "code",
   "execution_count": null,
   "metadata": {},
   "outputs": [],
   "source": []
  },
  {
   "cell_type": "markdown",
   "metadata": {},
   "source": [
    "# Change data type"
   ]
  },
  {
   "cell_type": "code",
   "execution_count": null,
   "metadata": {},
   "outputs": [],
   "source": [
    "df['start_hour'] = df['start_hour'].astype('category')\n",
    "df['weather'] = df['weather'].astype('category')"
   ]
  },
  {
   "cell_type": "code",
   "execution_count": null,
   "metadata": {},
   "outputs": [],
   "source": [
    "corr_attr =['trip_distance', 'payment_type', 'fare_amount', 'mta_tax',\n",
    " 'tip_amount', 'duration', 'start_hour', 'weather','income','revenue']\n",
    "corr = df[corr_attr].corr()\n",
    "sns.heatmap(corr,cmap = sns.diverging_palette(220, 10, as_cmap=True), square=True, center=0, vmin=-1, vmax=1)\n",
    "plt.title('Pearson correlation matrix')\n",
    "plt.savefig('plots/correlation.png')\n",
    "plt.show()"
   ]
  },
  {
   "cell_type": "code",
   "execution_count": null,
   "metadata": {},
   "outputs": [],
   "source": []
  },
  {
   "cell_type": "markdown",
   "metadata": {},
   "source": [
    "# Sampling"
   ]
  },
  {
   "cell_type": "code",
   "execution_count": null,
   "metadata": {},
   "outputs": [],
   "source": [
    "sub_df1 = df.sample(n=1000000, random_state=100)\n",
    "sub_df2 = df.sample(n=1000000, random_state=50)\n",
    "sub_df3 = df.sample(n=1000000, random_state=30)"
   ]
  },
  {
   "cell_type": "code",
   "execution_count": null,
   "metadata": {},
   "outputs": [],
   "source": [
    "preci_df =  df.loc[(df[\"weather\"] != 'remain')]\n",
    "remain_df = df.loc[(df[\"weather\"] == 'remain')]\n"
   ]
  },
  {
   "cell_type": "code",
   "execution_count": null,
   "metadata": {},
   "outputs": [],
   "source": []
  },
  {
   "cell_type": "code",
   "execution_count": null,
   "metadata": {},
   "outputs": [],
   "source": [
    "# def calculate_dependence(attr1, attr2):\n",
    "    \n",
    "attr1 = df['passenger_count']\n",
    "attr2 = df['revenue']\n",
    "contingency_table = pd.crosstab(attr1,attr2)\n",
    "contingency_table"
   ]
  }
 ],
 "metadata": {
  "kernelspec": {
   "display_name": "PyCharm (code)",
   "language": "python",
   "name": "pycharm-16b22b5f"
  },
  "language_info": {
   "codemirror_mode": {
    "name": "ipython",
    "version": 3
   },
   "file_extension": ".py",
   "mimetype": "text/x-python",
   "name": "python",
   "nbconvert_exporter": "python",
   "pygments_lexer": "ipython3",
   "version": "3.8.3"
  }
 },
 "nbformat": 4,
 "nbformat_minor": 2
}
