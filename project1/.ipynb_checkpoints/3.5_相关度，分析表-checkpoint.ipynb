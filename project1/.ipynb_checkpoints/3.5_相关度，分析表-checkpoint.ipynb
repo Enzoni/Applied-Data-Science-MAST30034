{
 "cells": [
  {
   "cell_type": "code",
   "execution_count": 1,
   "metadata": {},
   "outputs": [],
   "source": [
    "import pandas as pd\n",
    "import numpy as np\n",
    "import matplotlib.pyplot as plt\n",
    "import seaborn as sns \n",
    "import folium\n",
    "from folium.plugins import FastMarkerCluster\n",
    "from folium.plugins import HeatMap\n",
    "from statsmodels.formula.api import *\n",
    "import matplotlib.image as mpimg"
   ]
  },
  {
   "cell_type": "code",
   "execution_count": 2,
   "metadata": {},
   "outputs": [],
   "source": [
    "df = pd.read_feather('data/yellow_tripdata_01_weather.feather')\n",
    "df[\"income\"] = df['tip_amount'] + df['fare_amount']\n",
    "df['income/duration'] = df['income'] / df['duration']"
   ]
  },
  {
   "cell_type": "markdown",
   "metadata": {},
   "source": [
    "# Data cleaning"
   ]
  },
  {
   "cell_type": "code",
   "execution_count": 3,
   "metadata": {},
   "outputs": [
    {
     "data": {
      "text/html": [
       "<div>\n",
       "<style scoped>\n",
       "    .dataframe tbody tr th:only-of-type {\n",
       "        vertical-align: middle;\n",
       "    }\n",
       "\n",
       "    .dataframe tbody tr th {\n",
       "        vertical-align: top;\n",
       "    }\n",
       "\n",
       "    .dataframe thead th {\n",
       "        text-align: right;\n",
       "    }\n",
       "</style>\n",
       "<table border=\"1\" class=\"dataframe\">\n",
       "  <thead>\n",
       "    <tr style=\"text-align: right;\">\n",
       "      <th></th>\n",
       "      <th>VendorID</th>\n",
       "      <th>passenger_count</th>\n",
       "      <th>trip_distance</th>\n",
       "      <th>pickup_longitude</th>\n",
       "      <th>pickup_latitude</th>\n",
       "      <th>RatecodeID</th>\n",
       "      <th>dropoff_longitude</th>\n",
       "      <th>dropoff_latitude</th>\n",
       "      <th>payment_type</th>\n",
       "      <th>fare_amount</th>\n",
       "      <th>extra</th>\n",
       "      <th>mta_tax</th>\n",
       "      <th>tip_amount</th>\n",
       "      <th>tolls_amount</th>\n",
       "      <th>improvement_surcharge</th>\n",
       "      <th>total_amount</th>\n",
       "      <th>duration</th>\n",
       "      <th>start_hour</th>\n",
       "      <th>income</th>\n",
       "      <th>income/duration</th>\n",
       "    </tr>\n",
       "  </thead>\n",
       "  <tbody>\n",
       "    <tr>\n",
       "      <td>count</td>\n",
       "      <td>1.090686e+07</td>\n",
       "      <td>1.090686e+07</td>\n",
       "      <td>1.090686e+07</td>\n",
       "      <td>1.090686e+07</td>\n",
       "      <td>1.090686e+07</td>\n",
       "      <td>1.090686e+07</td>\n",
       "      <td>1.090686e+07</td>\n",
       "      <td>1.090686e+07</td>\n",
       "      <td>1.090686e+07</td>\n",
       "      <td>1.090686e+07</td>\n",
       "      <td>1.090686e+07</td>\n",
       "      <td>1.090686e+07</td>\n",
       "      <td>1.090686e+07</td>\n",
       "      <td>1.090686e+07</td>\n",
       "      <td>1.090686e+07</td>\n",
       "      <td>1.090686e+07</td>\n",
       "      <td>1.090686e+07</td>\n",
       "      <td>1.090686e+07</td>\n",
       "      <td>1.090686e+07</td>\n",
       "      <td>1.090636e+07</td>\n",
       "    </tr>\n",
       "    <tr>\n",
       "      <td>mean</td>\n",
       "      <td>1.535024e+00</td>\n",
       "      <td>1.670847e+00</td>\n",
       "      <td>4.648197e+00</td>\n",
       "      <td>-7.281869e+01</td>\n",
       "      <td>4.011494e+01</td>\n",
       "      <td>1.039350e+00</td>\n",
       "      <td>-7.288659e+01</td>\n",
       "      <td>4.015315e+01</td>\n",
       "      <td>1.347536e+00</td>\n",
       "      <td>1.248693e+01</td>\n",
       "      <td>3.130757e-01</td>\n",
       "      <td>4.976705e-01</td>\n",
       "      <td>1.750663e+00</td>\n",
       "      <td>2.933453e-01</td>\n",
       "      <td>2.997245e-01</td>\n",
       "      <td>1.564140e+01</td>\n",
       "      <td>1.520518e+01</td>\n",
       "      <td>1.354638e+01</td>\n",
       "      <td>1.423759e+01</td>\n",
       "      <td>NaN</td>\n",
       "    </tr>\n",
       "    <tr>\n",
       "      <td>std</td>\n",
       "      <td>4.987718e-01</td>\n",
       "      <td>1.324891e+00</td>\n",
       "      <td>2.981095e+03</td>\n",
       "      <td>9.168964e+00</td>\n",
       "      <td>5.051022e+00</td>\n",
       "      <td>5.186309e-01</td>\n",
       "      <td>8.900841e+00</td>\n",
       "      <td>4.903456e+00</td>\n",
       "      <td>4.910804e-01</td>\n",
       "      <td>3.556400e+01</td>\n",
       "      <td>4.156792e-01</td>\n",
       "      <td>5.046685e-02</td>\n",
       "      <td>2.623546e+00</td>\n",
       "      <td>1.694572e+00</td>\n",
       "      <td>1.232553e-02</td>\n",
       "      <td>3.641280e+01</td>\n",
       "      <td>5.424797e+01</td>\n",
       "      <td>6.391860e+00</td>\n",
       "      <td>3.609683e+01</td>\n",
       "      <td>NaN</td>\n",
       "    </tr>\n",
       "    <tr>\n",
       "      <td>min</td>\n",
       "      <td>1.000000e+00</td>\n",
       "      <td>0.000000e+00</td>\n",
       "      <td>0.000000e+00</td>\n",
       "      <td>-1.219343e+02</td>\n",
       "      <td>0.000000e+00</td>\n",
       "      <td>1.000000e+00</td>\n",
       "      <td>-1.219335e+02</td>\n",
       "      <td>0.000000e+00</td>\n",
       "      <td>1.000000e+00</td>\n",
       "      <td>-9.576000e+02</td>\n",
       "      <td>-4.261000e+01</td>\n",
       "      <td>-5.000000e-01</td>\n",
       "      <td>-2.208000e+02</td>\n",
       "      <td>-1.740000e+01</td>\n",
       "      <td>-3.000000e-01</td>\n",
       "      <td>-9.584000e+02</td>\n",
       "      <td>0.000000e+00</td>\n",
       "      <td>0.000000e+00</td>\n",
       "      <td>-9.576000e+02</td>\n",
       "      <td>-inf</td>\n",
       "    </tr>\n",
       "    <tr>\n",
       "      <td>25%</td>\n",
       "      <td>1.000000e+00</td>\n",
       "      <td>1.000000e+00</td>\n",
       "      <td>1.000000e+00</td>\n",
       "      <td>-7.399151e+01</td>\n",
       "      <td>4.073630e+01</td>\n",
       "      <td>1.000000e+00</td>\n",
       "      <td>-7.399107e+01</td>\n",
       "      <td>4.073481e+01</td>\n",
       "      <td>1.000000e+00</td>\n",
       "      <td>6.500000e+00</td>\n",
       "      <td>0.000000e+00</td>\n",
       "      <td>5.000000e-01</td>\n",
       "      <td>0.000000e+00</td>\n",
       "      <td>0.000000e+00</td>\n",
       "      <td>3.000000e-01</td>\n",
       "      <td>8.300000e+00</td>\n",
       "      <td>6.333333e+00</td>\n",
       "      <td>9.000000e+00</td>\n",
       "      <td>7.350000e+00</td>\n",
       "      <td>8.976378e-01</td>\n",
       "    </tr>\n",
       "    <tr>\n",
       "      <td>50%</td>\n",
       "      <td>2.000000e+00</td>\n",
       "      <td>1.000000e+00</td>\n",
       "      <td>1.670000e+00</td>\n",
       "      <td>-7.398138e+01</td>\n",
       "      <td>4.075369e+01</td>\n",
       "      <td>1.000000e+00</td>\n",
       "      <td>-7.397942e+01</td>\n",
       "      <td>4.075413e+01</td>\n",
       "      <td>1.000000e+00</td>\n",
       "      <td>9.000000e+00</td>\n",
       "      <td>0.000000e+00</td>\n",
       "      <td>5.000000e-01</td>\n",
       "      <td>1.260000e+00</td>\n",
       "      <td>0.000000e+00</td>\n",
       "      <td>3.000000e-01</td>\n",
       "      <td>1.162000e+01</td>\n",
       "      <td>1.046667e+01</td>\n",
       "      <td>1.400000e+01</td>\n",
       "      <td>1.046000e+01</td>\n",
       "      <td>1.065217e+00</td>\n",
       "    </tr>\n",
       "    <tr>\n",
       "      <td>75%</td>\n",
       "      <td>2.000000e+00</td>\n",
       "      <td>2.000000e+00</td>\n",
       "      <td>3.080000e+00</td>\n",
       "      <td>-7.396610e+01</td>\n",
       "      <td>4.076808e+01</td>\n",
       "      <td>1.000000e+00</td>\n",
       "      <td>-7.396196e+01</td>\n",
       "      <td>4.076962e+01</td>\n",
       "      <td>2.000000e+00</td>\n",
       "      <td>1.400000e+01</td>\n",
       "      <td>5.000000e-01</td>\n",
       "      <td>5.000000e-01</td>\n",
       "      <td>2.320000e+00</td>\n",
       "      <td>0.000000e+00</td>\n",
       "      <td>3.000000e-01</td>\n",
       "      <td>1.716000e+01</td>\n",
       "      <td>1.688333e+01</td>\n",
       "      <td>1.900000e+01</td>\n",
       "      <td>1.600000e+01</td>\n",
       "      <td>1.303579e+00</td>\n",
       "    </tr>\n",
       "    <tr>\n",
       "      <td>max</td>\n",
       "      <td>2.000000e+00</td>\n",
       "      <td>9.000000e+00</td>\n",
       "      <td>8.000010e+06</td>\n",
       "      <td>0.000000e+00</td>\n",
       "      <td>6.090876e+01</td>\n",
       "      <td>9.900000e+01</td>\n",
       "      <td>0.000000e+00</td>\n",
       "      <td>6.090876e+01</td>\n",
       "      <td>5.000000e+00</td>\n",
       "      <td>1.112709e+05</td>\n",
       "      <td>6.488700e+02</td>\n",
       "      <td>8.970000e+01</td>\n",
       "      <td>9.981400e+02</td>\n",
       "      <td>9.801500e+02</td>\n",
       "      <td>3.000000e-01</td>\n",
       "      <td>1.112716e+05</td>\n",
       "      <td>1.439967e+03</td>\n",
       "      <td>2.300000e+01</td>\n",
       "      <td>1.112709e+05</td>\n",
       "      <td>inf</td>\n",
       "    </tr>\n",
       "  </tbody>\n",
       "</table>\n",
       "</div>"
      ],
      "text/plain": [
       "           VendorID  passenger_count  trip_distance  pickup_longitude  \\\n",
       "count  1.090686e+07     1.090686e+07   1.090686e+07      1.090686e+07   \n",
       "mean   1.535024e+00     1.670847e+00   4.648197e+00     -7.281869e+01   \n",
       "std    4.987718e-01     1.324891e+00   2.981095e+03      9.168964e+00   \n",
       "min    1.000000e+00     0.000000e+00   0.000000e+00     -1.219343e+02   \n",
       "25%    1.000000e+00     1.000000e+00   1.000000e+00     -7.399151e+01   \n",
       "50%    2.000000e+00     1.000000e+00   1.670000e+00     -7.398138e+01   \n",
       "75%    2.000000e+00     2.000000e+00   3.080000e+00     -7.396610e+01   \n",
       "max    2.000000e+00     9.000000e+00   8.000010e+06      0.000000e+00   \n",
       "\n",
       "       pickup_latitude    RatecodeID  dropoff_longitude  dropoff_latitude  \\\n",
       "count     1.090686e+07  1.090686e+07       1.090686e+07      1.090686e+07   \n",
       "mean      4.011494e+01  1.039350e+00      -7.288659e+01      4.015315e+01   \n",
       "std       5.051022e+00  5.186309e-01       8.900841e+00      4.903456e+00   \n",
       "min       0.000000e+00  1.000000e+00      -1.219335e+02      0.000000e+00   \n",
       "25%       4.073630e+01  1.000000e+00      -7.399107e+01      4.073481e+01   \n",
       "50%       4.075369e+01  1.000000e+00      -7.397942e+01      4.075413e+01   \n",
       "75%       4.076808e+01  1.000000e+00      -7.396196e+01      4.076962e+01   \n",
       "max       6.090876e+01  9.900000e+01       0.000000e+00      6.090876e+01   \n",
       "\n",
       "       payment_type   fare_amount         extra       mta_tax    tip_amount  \\\n",
       "count  1.090686e+07  1.090686e+07  1.090686e+07  1.090686e+07  1.090686e+07   \n",
       "mean   1.347536e+00  1.248693e+01  3.130757e-01  4.976705e-01  1.750663e+00   \n",
       "std    4.910804e-01  3.556400e+01  4.156792e-01  5.046685e-02  2.623546e+00   \n",
       "min    1.000000e+00 -9.576000e+02 -4.261000e+01 -5.000000e-01 -2.208000e+02   \n",
       "25%    1.000000e+00  6.500000e+00  0.000000e+00  5.000000e-01  0.000000e+00   \n",
       "50%    1.000000e+00  9.000000e+00  0.000000e+00  5.000000e-01  1.260000e+00   \n",
       "75%    2.000000e+00  1.400000e+01  5.000000e-01  5.000000e-01  2.320000e+00   \n",
       "max    5.000000e+00  1.112709e+05  6.488700e+02  8.970000e+01  9.981400e+02   \n",
       "\n",
       "       tolls_amount  improvement_surcharge  total_amount      duration  \\\n",
       "count  1.090686e+07           1.090686e+07  1.090686e+07  1.090686e+07   \n",
       "mean   2.933453e-01           2.997245e-01  1.564140e+01  1.520518e+01   \n",
       "std    1.694572e+00           1.232553e-02  3.641280e+01  5.424797e+01   \n",
       "min   -1.740000e+01          -3.000000e-01 -9.584000e+02  0.000000e+00   \n",
       "25%    0.000000e+00           3.000000e-01  8.300000e+00  6.333333e+00   \n",
       "50%    0.000000e+00           3.000000e-01  1.162000e+01  1.046667e+01   \n",
       "75%    0.000000e+00           3.000000e-01  1.716000e+01  1.688333e+01   \n",
       "max    9.801500e+02           3.000000e-01  1.112716e+05  1.439967e+03   \n",
       "\n",
       "         start_hour        income  income/duration  \n",
       "count  1.090686e+07  1.090686e+07     1.090636e+07  \n",
       "mean   1.354638e+01  1.423759e+01              NaN  \n",
       "std    6.391860e+00  3.609683e+01              NaN  \n",
       "min    0.000000e+00 -9.576000e+02             -inf  \n",
       "25%    9.000000e+00  7.350000e+00     8.976378e-01  \n",
       "50%    1.400000e+01  1.046000e+01     1.065217e+00  \n",
       "75%    1.900000e+01  1.600000e+01     1.303579e+00  \n",
       "max    2.300000e+01  1.112709e+05              inf  "
      ]
     },
     "execution_count": 3,
     "metadata": {},
     "output_type": "execute_result"
    }
   ],
   "source": [
    "df.describe()"
   ]
  },
  {
   "cell_type": "code",
   "execution_count": 4,
   "metadata": {},
   "outputs": [
    {
     "data": {
      "text/plain": [
       "1     10626315\n",
       "2       225019\n",
       "5        33688\n",
       "3        16822\n",
       "4         4696\n",
       "99         216\n",
       "6          102\n",
       "Name: RatecodeID, dtype: int64"
      ]
     },
     "execution_count": 4,
     "metadata": {},
     "output_type": "execute_result"
    }
   ],
   "source": [
    "rid = df['RatecodeID'].value_counts()\n",
    "rid"
   ]
  },
  {
   "cell_type": "code",
   "execution_count": 5,
   "metadata": {},
   "outputs": [],
   "source": [
    "df = df.loc[(df['RatecodeID'] != 99)]"
   ]
  },
  {
   "cell_type": "code",
   "execution_count": 6,
   "metadata": {},
   "outputs": [],
   "source": [
    "# group payment type \n",
    "def group_rid(x):\n",
    "    if x != 1:\n",
    "        return 2\n",
    "    else:\n",
    "        return 1\n",
    "df['RatecodeID'] = df['RatecodeID'].apply(group_rid)"
   ]
  },
  {
   "cell_type": "code",
   "execution_count": 7,
   "metadata": {},
   "outputs": [
    {
     "data": {
      "text/plain": [
       "N    10843513\n",
       "Y       63129\n",
       "Name: store_and_fwd_flag, dtype: int64"
      ]
     },
     "execution_count": 7,
     "metadata": {},
     "output_type": "execute_result"
    }
   ],
   "source": [
    "swf = df['store_and_fwd_flag'].value_counts()\n",
    "swf"
   ]
  },
  {
   "cell_type": "code",
   "execution_count": 8,
   "metadata": {},
   "outputs": [
    {
     "data": {
      "text/plain": [
       "1    7181337\n",
       "2    3673602\n",
       "3      38292\n",
       "4      13410\n",
       "5          1\n",
       "Name: payment_type, dtype: int64"
      ]
     },
     "execution_count": 8,
     "metadata": {},
     "output_type": "execute_result"
    }
   ],
   "source": [
    "pt = df['payment_type'].value_counts()\n",
    "pt"
   ]
  },
  {
   "cell_type": "code",
   "execution_count": 9,
   "metadata": {},
   "outputs": [],
   "source": [
    "# group payment type \n",
    "def group_payment_type(x):\n",
    "    if x != 1:\n",
    "        return 2\n",
    "    else:\n",
    "        return 1\n",
    "df['payment_type'] = df['payment_type'].apply(group_payment_type)"
   ]
  },
  {
   "cell_type": "code",
   "execution_count": 10,
   "metadata": {},
   "outputs": [
    {
     "data": {
      "text/plain": [
       "1    7726830\n",
       "2    1561966\n",
       "5     601079\n",
       "3     436429\n",
       "6     369155\n",
       "4     210641\n",
       "0        471\n",
       "8         26\n",
       "9         23\n",
       "7         22\n",
       "Name: passenger_count, dtype: int64"
      ]
     },
     "execution_count": 10,
     "metadata": {},
     "output_type": "execute_result"
    }
   ],
   "source": [
    "passenger = tip_count = df['passenger_count'].value_counts()\n",
    "passenger"
   ]
  },
  {
   "cell_type": "code",
   "execution_count": 11,
   "metadata": {},
   "outputs": [],
   "source": [
    "df = df.loc[(df['RatecodeID'] != 0) & (df['RatecodeID'] <= 6)]"
   ]
  },
  {
   "cell_type": "code",
   "execution_count": 12,
   "metadata": {},
   "outputs": [],
   "source": [
    "df = df.loc[(df[\"duration\"] >= 0.25) &  (df[\"fare_amount\"] > 0) & (df[\"extra\"] >= 0) & (df[\"mta_tax\"] >= 0) \n",
    "             & (df[\"tip_amount\"] >= 0) & (df[\"tolls_amount\"] >=0)  & (df[\"total_amount\"]>0) & (df[\"income\"] > 0) \n",
    "             & (df[\"improvement_surcharge\"] >= 0)]"
   ]
  },
  {
   "cell_type": "code",
   "execution_count": 13,
   "metadata": {},
   "outputs": [
    {
     "data": {
      "text/html": [
       "<div>\n",
       "<style scoped>\n",
       "    .dataframe tbody tr th:only-of-type {\n",
       "        vertical-align: middle;\n",
       "    }\n",
       "\n",
       "    .dataframe tbody tr th {\n",
       "        vertical-align: top;\n",
       "    }\n",
       "\n",
       "    .dataframe thead th {\n",
       "        text-align: right;\n",
       "    }\n",
       "</style>\n",
       "<table border=\"1\" class=\"dataframe\">\n",
       "  <thead>\n",
       "    <tr style=\"text-align: right;\">\n",
       "      <th></th>\n",
       "      <th>pickup_latitude</th>\n",
       "      <th>pickup_longitude</th>\n",
       "      <th>dropoff_latitude</th>\n",
       "      <th>dropoff_longitude</th>\n",
       "    </tr>\n",
       "  </thead>\n",
       "  <tbody>\n",
       "    <tr>\n",
       "      <td>count</td>\n",
       "      <td>1.085643e+07</td>\n",
       "      <td>1.085643e+07</td>\n",
       "      <td>1.085643e+07</td>\n",
       "      <td>1.085643e+07</td>\n",
       "    </tr>\n",
       "    <tr>\n",
       "      <td>mean</td>\n",
       "      <td>4.015618e+01</td>\n",
       "      <td>-7.289356e+01</td>\n",
       "      <td>4.022379e+01</td>\n",
       "      <td>-7.301482e+01</td>\n",
       "    </tr>\n",
       "    <tr>\n",
       "      <td>std</td>\n",
       "      <td>4.887208e+00</td>\n",
       "      <td>8.871592e+00</td>\n",
       "      <td>4.609381e+00</td>\n",
       "      <td>8.367009e+00</td>\n",
       "    </tr>\n",
       "    <tr>\n",
       "      <td>min</td>\n",
       "      <td>0.000000e+00</td>\n",
       "      <td>-1.219343e+02</td>\n",
       "      <td>0.000000e+00</td>\n",
       "      <td>-1.219335e+02</td>\n",
       "    </tr>\n",
       "    <tr>\n",
       "      <td>25%</td>\n",
       "      <td>4.073645e+01</td>\n",
       "      <td>-7.399152e+01</td>\n",
       "      <td>4.073499e+01</td>\n",
       "      <td>-7.399110e+01</td>\n",
       "    </tr>\n",
       "    <tr>\n",
       "      <td>50%</td>\n",
       "      <td>4.075376e+01</td>\n",
       "      <td>-7.398141e+01</td>\n",
       "      <td>4.075423e+01</td>\n",
       "      <td>-7.397947e+01</td>\n",
       "    </tr>\n",
       "    <tr>\n",
       "      <td>75%</td>\n",
       "      <td>4.076811e+01</td>\n",
       "      <td>-7.396620e+01</td>\n",
       "      <td>4.076967e+01</td>\n",
       "      <td>-7.396212e+01</td>\n",
       "    </tr>\n",
       "    <tr>\n",
       "      <td>max</td>\n",
       "      <td>6.090876e+01</td>\n",
       "      <td>0.000000e+00</td>\n",
       "      <td>6.090876e+01</td>\n",
       "      <td>0.000000e+00</td>\n",
       "    </tr>\n",
       "  </tbody>\n",
       "</table>\n",
       "</div>"
      ],
      "text/plain": [
       "       pickup_latitude  pickup_longitude  dropoff_latitude  dropoff_longitude\n",
       "count     1.085643e+07      1.085643e+07      1.085643e+07       1.085643e+07\n",
       "mean      4.015618e+01     -7.289356e+01      4.022379e+01      -7.301482e+01\n",
       "std       4.887208e+00      8.871592e+00      4.609381e+00       8.367009e+00\n",
       "min       0.000000e+00     -1.219343e+02      0.000000e+00      -1.219335e+02\n",
       "25%       4.073645e+01     -7.399152e+01      4.073499e+01      -7.399110e+01\n",
       "50%       4.075376e+01     -7.398141e+01      4.075423e+01      -7.397947e+01\n",
       "75%       4.076811e+01     -7.396620e+01      4.076967e+01      -7.396212e+01\n",
       "max       6.090876e+01      0.000000e+00      6.090876e+01       0.000000e+00"
      ]
     },
     "execution_count": 13,
     "metadata": {},
     "output_type": "execute_result"
    }
   ],
   "source": [
    "# lat, long\n",
    "start_coords = ['pickup_latitude', 'pickup_longitude']\n",
    "end_coords = ['dropoff_latitude', 'dropoff_longitude']\n",
    "df[start_coords+ end_coords].describe()"
   ]
  },
  {
   "cell_type": "code",
   "execution_count": 14,
   "metadata": {},
   "outputs": [],
   "source": [
    "sns.set(rc={'figure.figsize':(11.7,8.27),\"font.size\":20,\"axes.titlesize\":20,\"axes.labelsize\":20},style=\"white\")"
   ]
  },
  {
   "cell_type": "code",
   "execution_count": 15,
   "metadata": {},
   "outputs": [
    {
     "data": {
      "image/png": "[encoded data removed]",
      "text/plain": [
       "<Figure size 2520x360 with 4 Axes>"
      ]
     },
     "metadata": {},
     "output_type": "display_data"
    }
   ],
   "source": [
    "fig, ax = plt.subplots(1, 4) \n",
    "  \n",
    "sns.distplot(df['duration'],  kde = True, \n",
    "             kde_kws = {'shade': True, 'linewidth': 2},  \n",
    "             label = \"duration\", color =\"blue\", ax = ax[0]) \n",
    "\n",
    "\n",
    "sns.distplot(df['total_amount'], kde = True, \n",
    "            kde_kws = {'shade': True, 'linewidth': 2},\n",
    "            label = \"total_amount\", color =\"blue\", ax = ax[1]) \n",
    "\n",
    "\n",
    "sns.distplot(df['fare_amount'],  kde = True, \n",
    "            kde_kws = {'shade': True, 'linewidth': 2},  \n",
    "            label = 'fare_amount', color =\"blue\", ax = ax[2]) \n",
    "\n",
    "\n",
    "sns.distplot(df['trip_distance'], kde = True, \n",
    "            kde_kws = {'shade': True, 'linewidth': 2},  \n",
    "            label = \"trip_distance\", color =\"blue\", ax = ax[3])\n",
    "\n",
    "\n",
    "\n",
    "fig.set_figheight(5) \n",
    "fig.set_figwidth(15) \n",
    "fig.set_figwidth(25)\n",
    "fig.set_figwidth(35)"
   ]
  },
  {
   "cell_type": "code",
   "execution_count": 16,
   "metadata": {},
   "outputs": [
    {
     "data": {
      "image/png": "[encoded data removed]",
      "text/plain": [
       "<Figure size 2520x360 with 4 Axes>"
      ]
     },
     "metadata": {},
     "output_type": "display_data"
    }
   ],
   "source": [
    "df = df.loc[(df[\"duration\"] <= 200) & (df[\"total_amount\"]<= 500)\n",
    "            & (df['fare_amount'] <= 500) & (df['trip_distance'] <= 100)]\n",
    "\n",
    "fig, ax = plt.subplots(1, 4) \n",
    "  \n",
    "sns.distplot(df['duration'], kde = True, \n",
    "            kde_kws = {'shade': True, 'linewidth': 2},  \n",
    "            label = \"duration\", color =\"blue\", ax = ax[0]) \n",
    "  \n",
    "sns.distplot(df['total_amount'], kde = True, \n",
    "            kde_kws = {'shade': True, 'linewidth': 2},  \n",
    "            label = \"total_amount\", color =\"blue\", ax = ax[1]) \n",
    "\n",
    "sns.distplot(df['fare_amount'], kde = True, \n",
    "            kde_kws = {'shade': True, 'linewidth': 2},  \n",
    "            label = 'fare_amount', color =\"blue\", ax = ax[2])\n",
    "\n",
    "sns.distplot(df['trip_distance'], kde = True, \n",
    "            kde_kws = {'shade': True, 'linewidth': 2},  \n",
    "            label = \"duration\", color =\"blue\", ax = ax[3])\n",
    "  \n",
    "fig.set_figheight(5) \n",
    "fig.set_figwidth(15) \n",
    "fig.set_figwidth(25)\n",
    "fig.set_figwidth(35)\n"
   ]
  },
  {
   "cell_type": "code",
   "execution_count": 17,
   "metadata": {},
   "outputs": [
    {
     "data": {
      "image/png": "[encoded data removed]",
      "text/plain": [
       "<Figure size 1440x1080 with 4 Axes>"
      ]
     },
     "metadata": {},
     "output_type": "display_data"
    }
   ],
   "source": [
    "df = df.loc[(df[\"duration\"] <= 150) & (df[\"total_amount\"]<=100) & (df['fare_amount'] <=80) & (df['trip_distance'] <= 30)]\n",
    "\n",
    "fig, ax = plt.subplots(2, 2, figsize=(20, 15)) \n",
    "\n",
    "sns.distplot(df['duration'], kde = True, \n",
    "            kde_kws = {'shade': True, 'linewidth': 2}, color =\"blue\", ax = ax[0,0]) \n",
    "\n",
    "sns.distplot(df['total_amount'], kde = True, \n",
    "            kde_kws = {'shade': True, 'linewidth': 2}, color =\"blue\", ax = ax[0,1]) \n",
    "\n",
    "\n",
    "sns.distplot(df['fare_amount'], kde = True, \n",
    "            kde_kws = {'shade': True, 'linewidth': 2}, color =\"blue\", ax = ax[1,0])\n",
    "\n",
    "\n",
    "sns.distplot(df['trip_distance'], kde = True, \n",
    "            kde_kws = {'shade': True, 'linewidth': 2}, color =\"blue\", ax = ax[1,1])\n",
    "\n",
    "ax[0,0].set_title(\"Distribution of duration \")\n",
    "ax[0,1].set_title(\"Distribution of total amount \")\n",
    "ax[1,0].set_title(\"Distribution of fare amount \")\n",
    "ax[1,1].set_title(\"Distribution of trip distance \")\n",
    "\n",
    "ax[0,0].set_xlabel(\"Duration (min)\")\n",
    "ax[0,1].set_xlabel(\"Total amount (USD)\")\n",
    "ax[1,0].set_xlabel(\"Fare amount (USD)\")\n",
    "ax[1,1].set_xlabel(\"Trip distance (mile)\")\n",
    "\n",
    "ax[0,0].set_ylabel(\"Density\")\n",
    "ax[0,1].set_ylabel(\"Density\")\n",
    "ax[1,0].set_ylabel(\"Density\")\n",
    "ax[1,1].set_ylabel(\"Density\")\n",
    "\n",
    "fig.savefig('plots/distibution_narrowed_value.png')"
   ]
  },
  {
   "cell_type": "code",
   "execution_count": 18,
   "metadata": {},
   "outputs": [
    {
     "data": {
      "image/png": "[encoded data removed]",
      "text/plain": [
       "<Figure size 432x432 with 3 Axes>"
      ]
     },
     "metadata": {},
     "output_type": "display_data"
    }
   ],
   "source": [
    "p = sns.jointplot(x='pickup_latitude',y='pickup_longitude' , data= df,kind=\"hex\",\n",
    "              color=\"#4CB391\", xlim=(38,42), ylim=(-77, -70), gridsize=200)\n",
    "\n",
    "p.fig.suptitle(\"Disstribution of pick up coordinates\")\n",
    "p.fig.tight_layout()\n",
    "\n"
   ]
  },
  {
   "cell_type": "code",
   "execution_count": 19,
   "metadata": {},
   "outputs": [],
   "source": [
    "df = df.loc[(df[\"pickup_longitude\"] < -72) & (df[\"pickup_longitude\"] > -76) &\n",
    "            (df[\"pickup_latitude\"] > 39) & (df[\"pickup_latitude\"] < 41.5) &\n",
    "            (df[\"dropoff_longitude\"] < -72) & (df[\"dropoff_longitude\"] > -76) &\n",
    "            (df[\"dropoff_latitude\"] > 39) & (df[\"dropoff_latitude\"] < 41.5)]"
   ]
  },
  {
   "cell_type": "code",
   "execution_count": 20,
   "metadata": {},
   "outputs": [
    {
     "data": {
      "text/html": [
       "<div>\n",
       "<style scoped>\n",
       "    .dataframe tbody tr th:only-of-type {\n",
       "        vertical-align: middle;\n",
       "    }\n",
       "\n",
       "    .dataframe tbody tr th {\n",
       "        vertical-align: top;\n",
       "    }\n",
       "\n",
       "    .dataframe thead th {\n",
       "        text-align: right;\n",
       "    }\n",
       "</style>\n",
       "<table border=\"1\" class=\"dataframe\">\n",
       "  <thead>\n",
       "    <tr style=\"text-align: right;\">\n",
       "      <th></th>\n",
       "      <th>VendorID</th>\n",
       "      <th>tpep_pickup_datetime</th>\n",
       "      <th>tpep_dropoff_datetime</th>\n",
       "      <th>passenger_count</th>\n",
       "      <th>trip_distance</th>\n",
       "      <th>pickup_longitude</th>\n",
       "      <th>pickup_latitude</th>\n",
       "      <th>RatecodeID</th>\n",
       "      <th>store_and_fwd_flag</th>\n",
       "      <th>dropoff_longitude</th>\n",
       "      <th>...</th>\n",
       "      <th>tip_amount</th>\n",
       "      <th>tolls_amount</th>\n",
       "      <th>improvement_surcharge</th>\n",
       "      <th>total_amount</th>\n",
       "      <th>duration</th>\n",
       "      <th>start_hour</th>\n",
       "      <th>start_date</th>\n",
       "      <th>weather</th>\n",
       "      <th>income</th>\n",
       "      <th>income/duration</th>\n",
       "    </tr>\n",
       "  </thead>\n",
       "  <tbody>\n",
       "    <tr>\n",
       "      <td>0</td>\n",
       "      <td>2</td>\n",
       "      <td>2016-01-01 00:00:00</td>\n",
       "      <td>2016-01-01 00:18:30</td>\n",
       "      <td>2</td>\n",
       "      <td>5.52</td>\n",
       "      <td>-73.980118</td>\n",
       "      <td>40.743050</td>\n",
       "      <td>1</td>\n",
       "      <td>N</td>\n",
       "      <td>-73.913490</td>\n",
       "      <td>...</td>\n",
       "      <td>0.00</td>\n",
       "      <td>0.00</td>\n",
       "      <td>0.3</td>\n",
       "      <td>20.30</td>\n",
       "      <td>18.500000</td>\n",
       "      <td>0</td>\n",
       "      <td>2016-01-01</td>\n",
       "      <td>remain</td>\n",
       "      <td>19.00</td>\n",
       "      <td>1.027027</td>\n",
       "    </tr>\n",
       "    <tr>\n",
       "      <td>1</td>\n",
       "      <td>2</td>\n",
       "      <td>2016-01-01 00:00:00</td>\n",
       "      <td>2016-01-01 00:26:45</td>\n",
       "      <td>2</td>\n",
       "      <td>7.45</td>\n",
       "      <td>-73.994057</td>\n",
       "      <td>40.719990</td>\n",
       "      <td>1</td>\n",
       "      <td>N</td>\n",
       "      <td>-73.966362</td>\n",
       "      <td>...</td>\n",
       "      <td>0.00</td>\n",
       "      <td>0.00</td>\n",
       "      <td>0.3</td>\n",
       "      <td>27.30</td>\n",
       "      <td>26.750000</td>\n",
       "      <td>0</td>\n",
       "      <td>2016-01-01</td>\n",
       "      <td>remain</td>\n",
       "      <td>26.00</td>\n",
       "      <td>0.971963</td>\n",
       "    </tr>\n",
       "    <tr>\n",
       "      <td>2</td>\n",
       "      <td>1</td>\n",
       "      <td>2016-01-01 00:00:01</td>\n",
       "      <td>2016-01-01 00:11:55</td>\n",
       "      <td>1</td>\n",
       "      <td>1.20</td>\n",
       "      <td>-73.979424</td>\n",
       "      <td>40.744614</td>\n",
       "      <td>1</td>\n",
       "      <td>N</td>\n",
       "      <td>-73.992035</td>\n",
       "      <td>...</td>\n",
       "      <td>0.00</td>\n",
       "      <td>0.00</td>\n",
       "      <td>0.3</td>\n",
       "      <td>10.30</td>\n",
       "      <td>11.900000</td>\n",
       "      <td>0</td>\n",
       "      <td>2016-01-01</td>\n",
       "      <td>remain</td>\n",
       "      <td>9.00</td>\n",
       "      <td>0.756303</td>\n",
       "    </tr>\n",
       "    <tr>\n",
       "      <td>3</td>\n",
       "      <td>1</td>\n",
       "      <td>2016-01-01 00:00:02</td>\n",
       "      <td>2016-01-01 00:11:14</td>\n",
       "      <td>1</td>\n",
       "      <td>6.00</td>\n",
       "      <td>-73.947151</td>\n",
       "      <td>40.791046</td>\n",
       "      <td>1</td>\n",
       "      <td>N</td>\n",
       "      <td>-73.920769</td>\n",
       "      <td>...</td>\n",
       "      <td>0.00</td>\n",
       "      <td>0.00</td>\n",
       "      <td>0.3</td>\n",
       "      <td>19.30</td>\n",
       "      <td>11.200000</td>\n",
       "      <td>0</td>\n",
       "      <td>2016-01-01</td>\n",
       "      <td>remain</td>\n",
       "      <td>18.00</td>\n",
       "      <td>1.607143</td>\n",
       "    </tr>\n",
       "    <tr>\n",
       "      <td>4</td>\n",
       "      <td>2</td>\n",
       "      <td>2016-01-01 00:00:02</td>\n",
       "      <td>2016-01-01 00:11:08</td>\n",
       "      <td>1</td>\n",
       "      <td>3.21</td>\n",
       "      <td>-73.998344</td>\n",
       "      <td>40.723896</td>\n",
       "      <td>1</td>\n",
       "      <td>N</td>\n",
       "      <td>-73.995850</td>\n",
       "      <td>...</td>\n",
       "      <td>0.00</td>\n",
       "      <td>0.00</td>\n",
       "      <td>0.3</td>\n",
       "      <td>12.80</td>\n",
       "      <td>11.100000</td>\n",
       "      <td>0</td>\n",
       "      <td>2016-01-01</td>\n",
       "      <td>remain</td>\n",
       "      <td>11.50</td>\n",
       "      <td>1.036036</td>\n",
       "    </tr>\n",
       "    <tr>\n",
       "      <td>...</td>\n",
       "      <td>...</td>\n",
       "      <td>...</td>\n",
       "      <td>...</td>\n",
       "      <td>...</td>\n",
       "      <td>...</td>\n",
       "      <td>...</td>\n",
       "      <td>...</td>\n",
       "      <td>...</td>\n",
       "      <td>...</td>\n",
       "      <td>...</td>\n",
       "      <td>...</td>\n",
       "      <td>...</td>\n",
       "      <td>...</td>\n",
       "      <td>...</td>\n",
       "      <td>...</td>\n",
       "      <td>...</td>\n",
       "      <td>...</td>\n",
       "      <td>...</td>\n",
       "      <td>...</td>\n",
       "      <td>...</td>\n",
       "      <td>...</td>\n",
       "    </tr>\n",
       "    <tr>\n",
       "      <td>10662499</td>\n",
       "      <td>2</td>\n",
       "      <td>2016-01-31 22:36:41</td>\n",
       "      <td>2016-01-31 22:45:04</td>\n",
       "      <td>1</td>\n",
       "      <td>2.50</td>\n",
       "      <td>-74.009277</td>\n",
       "      <td>40.717049</td>\n",
       "      <td>1</td>\n",
       "      <td>N</td>\n",
       "      <td>-73.994637</td>\n",
       "      <td>...</td>\n",
       "      <td>2.16</td>\n",
       "      <td>0.00</td>\n",
       "      <td>0.3</td>\n",
       "      <td>12.96</td>\n",
       "      <td>8.383333</td>\n",
       "      <td>22</td>\n",
       "      <td>2016-01-31</td>\n",
       "      <td>remain</td>\n",
       "      <td>11.66</td>\n",
       "      <td>1.390855</td>\n",
       "    </tr>\n",
       "    <tr>\n",
       "      <td>10662500</td>\n",
       "      <td>2</td>\n",
       "      <td>2016-01-31 22:53:00</td>\n",
       "      <td>2016-01-31 22:59:37</td>\n",
       "      <td>1</td>\n",
       "      <td>1.68</td>\n",
       "      <td>-74.003578</td>\n",
       "      <td>40.750751</td>\n",
       "      <td>1</td>\n",
       "      <td>N</td>\n",
       "      <td>-74.002159</td>\n",
       "      <td>...</td>\n",
       "      <td>1.00</td>\n",
       "      <td>0.00</td>\n",
       "      <td>0.3</td>\n",
       "      <td>9.30</td>\n",
       "      <td>6.616667</td>\n",
       "      <td>22</td>\n",
       "      <td>2016-01-31</td>\n",
       "      <td>remain</td>\n",
       "      <td>8.00</td>\n",
       "      <td>1.209068</td>\n",
       "    </tr>\n",
       "    <tr>\n",
       "      <td>10662501</td>\n",
       "      <td>2</td>\n",
       "      <td>2016-01-31 23:00:11</td>\n",
       "      <td>2016-01-31 23:12:08</td>\n",
       "      <td>1</td>\n",
       "      <td>2.65</td>\n",
       "      <td>-74.002159</td>\n",
       "      <td>40.734852</td>\n",
       "      <td>1</td>\n",
       "      <td>N</td>\n",
       "      <td>-73.999680</td>\n",
       "      <td>...</td>\n",
       "      <td>1.00</td>\n",
       "      <td>0.00</td>\n",
       "      <td>0.3</td>\n",
       "      <td>13.30</td>\n",
       "      <td>11.950000</td>\n",
       "      <td>23</td>\n",
       "      <td>2016-01-31</td>\n",
       "      <td>remain</td>\n",
       "      <td>12.00</td>\n",
       "      <td>1.004184</td>\n",
       "    </tr>\n",
       "    <tr>\n",
       "      <td>10662502</td>\n",
       "      <td>2</td>\n",
       "      <td>2016-01-31 23:30:32</td>\n",
       "      <td>2016-01-31 23:38:18</td>\n",
       "      <td>1</td>\n",
       "      <td>2.20</td>\n",
       "      <td>-74.003578</td>\n",
       "      <td>40.751011</td>\n",
       "      <td>1</td>\n",
       "      <td>N</td>\n",
       "      <td>-73.982651</td>\n",
       "      <td>...</td>\n",
       "      <td>0.00</td>\n",
       "      <td>0.00</td>\n",
       "      <td>0.3</td>\n",
       "      <td>9.80</td>\n",
       "      <td>7.766667</td>\n",
       "      <td>23</td>\n",
       "      <td>2016-01-31</td>\n",
       "      <td>remain</td>\n",
       "      <td>8.50</td>\n",
       "      <td>1.094421</td>\n",
       "    </tr>\n",
       "    <tr>\n",
       "      <td>10662503</td>\n",
       "      <td>1</td>\n",
       "      <td>2016-01-05 06:15:21</td>\n",
       "      <td>2016-01-05 06:15:36</td>\n",
       "      <td>3</td>\n",
       "      <td>0.00</td>\n",
       "      <td>-73.960938</td>\n",
       "      <td>40.758595</td>\n",
       "      <td>2</td>\n",
       "      <td>N</td>\n",
       "      <td>-73.961006</td>\n",
       "      <td>...</td>\n",
       "      <td>0.00</td>\n",
       "      <td>5.54</td>\n",
       "      <td>0.3</td>\n",
       "      <td>58.34</td>\n",
       "      <td>0.250000</td>\n",
       "      <td>6</td>\n",
       "      <td>2016-01-05</td>\n",
       "      <td>remain</td>\n",
       "      <td>52.00</td>\n",
       "      <td>208.000000</td>\n",
       "    </tr>\n",
       "  </tbody>\n",
       "</table>\n",
       "<p>10662504 rows × 25 columns</p>\n",
       "</div>"
      ],
      "text/plain": [
       "          VendorID tpep_pickup_datetime tpep_dropoff_datetime  \\\n",
       "0                2  2016-01-01 00:00:00   2016-01-01 00:18:30   \n",
       "1                2  2016-01-01 00:00:00   2016-01-01 00:26:45   \n",
       "2                1  2016-01-01 00:00:01   2016-01-01 00:11:55   \n",
       "3                1  2016-01-01 00:00:02   2016-01-01 00:11:14   \n",
       "4                2  2016-01-01 00:00:02   2016-01-01 00:11:08   \n",
       "...            ...                  ...                   ...   \n",
       "10662499         2  2016-01-31 22:36:41   2016-01-31 22:45:04   \n",
       "10662500         2  2016-01-31 22:53:00   2016-01-31 22:59:37   \n",
       "10662501         2  2016-01-31 23:00:11   2016-01-31 23:12:08   \n",
       "10662502         2  2016-01-31 23:30:32   2016-01-31 23:38:18   \n",
       "10662503         1  2016-01-05 06:15:21   2016-01-05 06:15:36   \n",
       "\n",
       "          passenger_count  trip_distance  pickup_longitude  pickup_latitude  \\\n",
       "0                       2           5.52        -73.980118        40.743050   \n",
       "1                       2           7.45        -73.994057        40.719990   \n",
       "2                       1           1.20        -73.979424        40.744614   \n",
       "3                       1           6.00        -73.947151        40.791046   \n",
       "4                       1           3.21        -73.998344        40.723896   \n",
       "...                   ...            ...               ...              ...   \n",
       "10662499                1           2.50        -74.009277        40.717049   \n",
       "10662500                1           1.68        -74.003578        40.750751   \n",
       "10662501                1           2.65        -74.002159        40.734852   \n",
       "10662502                1           2.20        -74.003578        40.751011   \n",
       "10662503                3           0.00        -73.960938        40.758595   \n",
       "\n",
       "          RatecodeID store_and_fwd_flag  dropoff_longitude  ...  tip_amount  \\\n",
       "0                  1                  N         -73.913490  ...        0.00   \n",
       "1                  1                  N         -73.966362  ...        0.00   \n",
       "2                  1                  N         -73.992035  ...        0.00   \n",
       "3                  1                  N         -73.920769  ...        0.00   \n",
       "4                  1                  N         -73.995850  ...        0.00   \n",
       "...              ...                ...                ...  ...         ...   \n",
       "10662499           1                  N         -73.994637  ...        2.16   \n",
       "10662500           1                  N         -74.002159  ...        1.00   \n",
       "10662501           1                  N         -73.999680  ...        1.00   \n",
       "10662502           1                  N         -73.982651  ...        0.00   \n",
       "10662503           2                  N         -73.961006  ...        0.00   \n",
       "\n",
       "          tolls_amount  improvement_surcharge  total_amount   duration  \\\n",
       "0                 0.00                    0.3         20.30  18.500000   \n",
       "1                 0.00                    0.3         27.30  26.750000   \n",
       "2                 0.00                    0.3         10.30  11.900000   \n",
       "3                 0.00                    0.3         19.30  11.200000   \n",
       "4                 0.00                    0.3         12.80  11.100000   \n",
       "...                ...                    ...           ...        ...   \n",
       "10662499          0.00                    0.3         12.96   8.383333   \n",
       "10662500          0.00                    0.3          9.30   6.616667   \n",
       "10662501          0.00                    0.3         13.30  11.950000   \n",
       "10662502          0.00                    0.3          9.80   7.766667   \n",
       "10662503          5.54                    0.3         58.34   0.250000   \n",
       "\n",
       "          start_hour  start_date  weather  income  income/duration  \n",
       "0                  0  2016-01-01   remain   19.00         1.027027  \n",
       "1                  0  2016-01-01   remain   26.00         0.971963  \n",
       "2                  0  2016-01-01   remain    9.00         0.756303  \n",
       "3                  0  2016-01-01   remain   18.00         1.607143  \n",
       "4                  0  2016-01-01   remain   11.50         1.036036  \n",
       "...              ...         ...      ...     ...              ...  \n",
       "10662499          22  2016-01-31   remain   11.66         1.390855  \n",
       "10662500          22  2016-01-31   remain    8.00         1.209068  \n",
       "10662501          23  2016-01-31   remain   12.00         1.004184  \n",
       "10662502          23  2016-01-31   remain    8.50         1.094421  \n",
       "10662503           6  2016-01-05   remain   52.00       208.000000  \n",
       "\n",
       "[10662504 rows x 25 columns]"
      ]
     },
     "execution_count": 20,
     "metadata": {},
     "output_type": "execute_result"
    }
   ],
   "source": [
    "df.reset_index(inplace=True, drop=True)\n",
    "df"
   ]
  },
  {
   "cell_type": "code",
   "execution_count": 21,
   "metadata": {},
   "outputs": [
    {
     "data": {
      "image/png": "[encoded data removed]",
      "text/plain": [
       "<Figure size 432x432 with 3 Axes>"
      ]
     },
     "metadata": {},
     "output_type": "display_data"
    }
   ],
   "source": [
    "p = sns.jointplot(x='pickup_latitude',y='pickup_longitude' , data= df,kind=\"hex\",\n",
    "              xlim=(40.5,41), ylim=(-75, -73), gridsize=200)\n",
    "p.ax_joint.set_xlabel('Pickup latitude')\n",
    "p.ax_joint.set_ylabel('Pickup longitude')\n",
    "p.fig.suptitle(\"Disstribution of pick up coordinates \")\n",
    "p.fig.tight_layout()\n",
    "\n",
    "\n",
    "p.fig.savefig('plots/pick up coordinates disstribution.png')"
   ]
  },
  {
   "cell_type": "code",
   "execution_count": 22,
   "metadata": {},
   "outputs": [
    {
     "data": {
      "image/png": "[encoded data removed]",
      "text/plain": [
       "<Figure size 432x432 with 3 Axes>"
      ]
     },
     "metadata": {},
     "output_type": "display_data"
    }
   ],
   "source": [
    "p = sns.jointplot(x='dropoff_latitude',y='dropoff_longitude' , data= df,kind=\"hex\",\n",
    "              color=\"#4CB391\", xlim=(40.5,41), ylim=(-75, -73), gridsize=200)\n",
    "\n",
    "\n",
    "p.ax_joint.set_xlabel('Dropoff latitude')\n",
    "p.ax_joint.set_ylabel('Dropoff longitude')\n",
    "p.fig.suptitle(\"Disstribution of drop off coordinates\")\n",
    "p.fig.tight_layout()\n",
    "p.fig.savefig('plots/disstribution of drop off coordinates .png')"
   ]
  },
  {
   "cell_type": "code",
   "execution_count": null,
   "metadata": {},
   "outputs": [],
   "source": []
  },
  {
   "cell_type": "code",
   "execution_count": 23,
   "metadata": {},
   "outputs": [
    {
     "ename": "SyntaxError",
     "evalue": "invalid character in identifier (<ipython-input-23-8b224d1da4fe>, line 1)",
     "output_type": "error",
     "traceback": [
      "\u001b[1;36m  File \u001b[1;32m\"<ipython-input-23-8b224d1da4fe>\"\u001b[1;36m, line \u001b[1;32m1\u001b[0m\n\u001b[1;33m    df.drop(['VendorID','passenger_count'， 'tpep_pickup_datetime', 'tpep_dropoff_datetime','store_and_fwd_flag', 'improvement_surcharge',\u001b[0m\n\u001b[1;37m                                         ^\u001b[0m\n\u001b[1;31mSyntaxError\u001b[0m\u001b[1;31m:\u001b[0m invalid character in identifier\n"
     ]
    }
   ],
   "source": [
    "df.drop(['VendorID','passenger_count'， 'tpep_pickup_datetime', 'tpep_dropoff_datetime','store_and_fwd_flag', 'improvement_surcharge',\n",
    "         'start_date'], axis=1, inplace = True)"
   ]
  },
  {
   "cell_type": "markdown",
   "metadata": {},
   "source": [
    "# Change data type"
   ]
  },
  {
   "cell_type": "code",
   "execution_count": null,
   "metadata": {},
   "outputs": [],
   "source": [
    "df['start_hour'] = df['start_hour'].astype('category')\n",
    "df['payment_type'] = df['payment_type'].astype('category')\n",
    "df['RatecodeID'] = df['RatecodeID'].astype('category')\n",
    "df['weather'] = df['weather'].astype('category')"
   ]
  },
  {
   "cell_type": "code",
   "execution_count": null,
   "metadata": {},
   "outputs": [],
   "source": [
    "df"
   ]
  },
  {
   "cell_type": "code",
   "execution_count": null,
   "metadata": {},
   "outputs": [],
   "source": [
    "'''因为在意的是income/duration，所以先来看看这个的分布，然后再看看哪些因素会影响duration，哪些会影响income'''\n",
    "\n",
    "\n",
    "corr_attr =['trip_distance', 'payment_type', 'fare_amount', 'mta_tax',\n",
    " 'tip_amount', 'duration', 'start_hour', 'weather']\n",
    "corr = df[corr_attr].corr()\n",
    "sns.heatmap(corr,cmap = sns.diverging_palette(220, 10, as_cmap=True), square=True, center=0, vmin=-1, vmax=1)\n",
    "plt.title('Pearson correlation matrix')\n",
    "plt.savefig('plots/correlation.png')\n",
    "plt.show()"
   ]
  },
  {
   "cell_type": "markdown",
   "metadata": {},
   "source": [
    "# Sampling"
   ]
  },
  {
   "cell_type": "code",
   "execution_count": null,
   "metadata": {},
   "outputs": [],
   "source": [
    "sub_df1 = df.sample(n=1000000, random_state=100)\n",
    "sub_df2 = df.sample(n=1000000, random_state=50)\n",
    "sub_df3 = df.sample(n=1000000, random_state=30)"
   ]
  },
  {
   "cell_type": "code",
   "execution_count": null,
   "metadata": {},
   "outputs": [],
   "source": [
    "df.columns"
   ]
  },
  {
   "cell_type": "code",
   "execution_count": null,
   "metadata": {},
   "outputs": [],
   "source": [
    "--"
   ]
  },
  {
   "cell_type": "markdown",
   "metadata": {},
   "source": [
    "# What is related to fare amount"
   ]
  },
  {
   "cell_type": "code",
   "execution_count": null,
   "metadata": {},
   "outputs": [],
   "source": [
    "fit = ols(formula=\"fare_amount ~ trip_distance + duration + passenger_count + start_hour + payment_type + weather\",\n",
    "         data=sub_df1).fit()\n",
    "print(fit.summary())"
   ]
  },
  {
   "cell_type": "code",
   "execution_count": null,
   "metadata": {},
   "outputs": [],
   "source": [
    "fit = ols(formula=\"fare_amount ~ trip_distance + duration + passenger_count + start_hour + payment_type + weather\",\n",
    "         data=sub_df2).fit()\n",
    "print(fit.summary())"
   ]
  },
  {
   "cell_type": "code",
   "execution_count": null,
   "metadata": {},
   "outputs": [],
   "source": [
    "fit = ols(formula=\"fare_amount ~ trip_distance + duration + passenger_count + start_hour + payment_type + weather\",\n",
    "         data=sub_df3).fit()\n",
    "print(fit.summary())"
   ]
  },
  {
   "cell_type": "markdown",
   "metadata": {},
   "source": [
    "# What is related to tip amount"
   ]
  },
  {
   "cell_type": "code",
   "execution_count": null,
   "metadata": {},
   "outputs": [],
   "source": [
    "fit = ols(formula=\"tip_amount ~ RatecodeID + payment_type +  duration + start_hour  + weather\",\n",
    "         data=sub_df1).fit()\n",
    "print(fit.summary())"
   ]
  },
  {
   "cell_type": "code",
   "execution_count": null,
   "metadata": {},
   "outputs": [],
   "source": [
    "fit = ols(formula=\"tip_amount ~ RatecodeID + payment_type +  duration + start_hour  + weather\",\n",
    "         data=sub_df2).fit()\n",
    "print(fit.summary())"
   ]
  },
  {
   "cell_type": "code",
   "execution_count": null,
   "metadata": {},
   "outputs": [],
   "source": [
    "fit = ols(formula=\"tip_amount ~ RatecodeID + payment_type +  duration + start_hour  + weather\",\n",
    "         data=sub_df3).fit()\n",
    "print(fit.summary())"
   ]
  },
  {
   "cell_type": "code",
   "execution_count": null,
   "metadata": {},
   "outputs": [],
   "source": []
  },
  {
   "cell_type": "code",
   "execution_count": null,
   "metadata": {},
   "outputs": [],
   "source": []
  },
  {
   "cell_type": "code",
   "execution_count": null,
   "metadata": {},
   "outputs": [],
   "source": []
  },
  {
   "cell_type": "code",
   "execution_count": null,
   "metadata": {},
   "outputs": [],
   "source": [
    "p = sns.jointplot(x='trip_distance',y= 'fare_amount', data= sub_df1, s=1, color=\"pink\")\n",
    "p.ax_joint.set_xlabel('Duration (min)')\n",
    "p.ax_joint.set_ylabel('Fare amount (USD)')\n",
    "p.fig.suptitle(\"Tip amount versus Duration\")\n",
    "p.fig.tight_layout()"
   ]
  },
  {
   "cell_type": "code",
   "execution_count": null,
   "metadata": {},
   "outputs": [],
   "source": [
    "p = sns.jointplot(x='trip_distance',y= 'fare_amount', data= sub_df2, s=1, color=\"pink\")\n",
    "p.ax_joint.set_xlabel('Duration (min)')\n",
    "p.ax_joint.set_ylabel('Fare amount (USD)')\n",
    "p.fig.suptitle(\"Tip amount versus Duration\")\n",
    "p.fig.tight_layout()"
   ]
  },
  {
   "cell_type": "code",
   "execution_count": null,
   "metadata": {},
   "outputs": [],
   "source": [
    "p = sns.jointplot(x='trip_distance',y= 'fare_amount', data= sub_df3, s=1, color=\"pink\")\n",
    "p.ax_joint.set_xlabel('Duration (min)')\n",
    "p.ax_joint.set_ylabel('Fare amount (USD)')\n",
    "p.fig.suptitle(\"Tip amount versus Duration\")\n",
    "p.fig.tight_layout()"
   ]
  },
  {
   "cell_type": "code",
   "execution_count": null,
   "metadata": {},
   "outputs": [],
   "source": []
  },
  {
   "cell_type": "code",
   "execution_count": null,
   "metadata": {},
   "outputs": [],
   "source": []
  },
  {
   "cell_type": "markdown",
   "metadata": {},
   "source": [
    "# trip distance "
   ]
  },
  {
   "cell_type": "code",
   "execution_count": null,
   "metadata": {},
   "outputs": [],
   "source": [
    "fit = ols(formula=\"trip_distance ~ tip_amount + duration + start_hour + payment_type + weather\",\n",
    "         data=sub_df1).fit()\n",
    "print(fit.summary())\n",
    "\n",
    "\n"
   ]
  },
  {
   "cell_type": "code",
   "execution_count": null,
   "metadata": {},
   "outputs": [],
   "source": [
    "fit = ols(formula=\"trip_distance ~ tip_amount + duration + start_hour_c + payment_type_c + weather_c\",\n",
    "         data=sub_df2).fit()\n",
    "print(fit.summary())\n",
    "\n",
    "fit = ols(formula=\"trip_distance ~ tip_amount + duration + start_hour_c + payment_type_c + weather_c\",\n",
    "         data=sub_df3).fit()\n",
    "print(fit.summary())"
   ]
  },
  {
   "cell_type": "code",
   "execution_count": null,
   "metadata": {},
   "outputs": [],
   "source": []
  },
  {
   "cell_type": "code",
   "execution_count": null,
   "metadata": {},
   "outputs": [],
   "source": []
  },
  {
   "cell_type": "code",
   "execution_count": null,
   "metadata": {},
   "outputs": [],
   "source": []
  },
  {
   "cell_type": "markdown",
   "metadata": {},
   "source": [
    "# tips 分析"
   ]
  },
  {
   "cell_type": "code",
   "execution_count": null,
   "metadata": {},
   "outputs": [],
   "source": [
    "preci_df =  df.loc[(df[\"weather\"] != 'remain')]\n",
    "\n",
    "remain_df = df.loc[(df[\"weather\"] == 'remain')]"
   ]
  },
  {
   "cell_type": "code",
   "execution_count": null,
   "metadata": {},
   "outputs": [],
   "source": []
  },
  {
   "cell_type": "code",
   "execution_count": null,
   "metadata": {},
   "outputs": [],
   "source": [
    "tip_count = df['tip_amount'].value_counts()\n",
    "tip_count"
   ]
  },
  {
   "cell_type": "code",
   "execution_count": null,
   "metadata": {},
   "outputs": [],
   "source": [
    "tip_count.iloc[5] = tip_count.iloc[5:].sum()\n",
    "tip_count = tip_count.iloc[:6]\n",
    "tip_count.rename({tip_count.index[5]:'others'}, inplace=True)"
   ]
  },
  {
   "cell_type": "code",
   "execution_count": null,
   "metadata": {},
   "outputs": [],
   "source": [
    "tip_count"
   ]
  },
  {
   "cell_type": "code",
   "execution_count": null,
   "metadata": {},
   "outputs": [],
   "source": [
    "plt.pie(x=tip_count, labels=tip_count.index)\n",
    "plt.legend()\n",
    "plt.title(\"distribution of tip\")\n",
    "plt.savefig('plots/pie tip distribution.png')\n",
    "plt.show()\n"
   ]
  },
  {
   "cell_type": "code",
   "execution_count": null,
   "metadata": {},
   "outputs": [],
   "source": [
    "p = sns.jointplot(x='duration',y='tip_amount' , data= preci_df , s=1)\n",
    "p.ax_joint.set_xlabel('Duration (min)')\n",
    "p.ax_joint.set_ylabel('Tip amount (USD)')\n",
    "p.fig.suptitle(\"Tip amount versus Duration in precipitation circumstance\")\n",
    "p.fig.tight_layout()\n",
    "p.fig.savefig('plots/Tip amount versus Duration in precipitation circumstance.png')\n",
    "\n"
   ]
  },
  {
   "cell_type": "code",
   "execution_count": null,
   "metadata": {},
   "outputs": [],
   "source": [
    "p = sns.jointplot(x='duration',y='tip_amount' , data= remain_df , s=1, color=\"g\")\n",
    "\n",
    "p.ax_joint.set_xlabel('Duration (min)')\n",
    "p.ax_joint.set_ylabel('Tip amount (USD)')\n",
    "p.fig.suptitle(\"Tip amount versus Duration in non-precipitation circumstance\")\n",
    "p.fig.tight_layout()\n",
    "p.fig.savefig('plots/Tip amount versus Duration in non-precipitation circumstance.png')"
   ]
  },
  {
   "cell_type": "code",
   "execution_count": null,
   "metadata": {},
   "outputs": [],
   "source": []
  },
  {
   "cell_type": "code",
   "execution_count": null,
   "metadata": {},
   "outputs": [],
   "source": [
    "fig, ax = plt.subplots(1, 2) \n",
    "  \n",
    "sns.distplot(preci_df['duration'],  kde = True, \n",
    "             kde_kws = {'shade': True, 'linewidth': 2}, color =\"blue\", ax = ax[0]) \n",
    "\n",
    "\n",
    "sns.distplot(remain_df['duration'], kde = True, \n",
    "            kde_kws = {'shade': True, 'linewidth': 2}, color =\"green\", ax = ax[1]) \n",
    "\n",
    "\n",
    "ax[0].set_title(\"Distribution of duration in precipitation circumstance\")\n",
    "ax[0].set_title(\"Distribution of duration in non-precipitation circumstance\")\n",
    "\n",
    "ax[0].set_xlabel(\"Duration (min)\")\n",
    "ax[1].set_xlabel(\"Duration (min)\")\n",
    "ax[0].set_ylabel(\"Density\")\n",
    "ax[1].set_ylabel(\"Density\")\n",
    "p.fig.tight_layout()\n",
    "fig.savefig('plots/distibution_narrowed_value.png')"
   ]
  },
  {
   "cell_type": "code",
   "execution_count": null,
   "metadata": {},
   "outputs": [],
   "source": [
    "p = sns.jointplot(x='duration',y='tip_amount' , data= df , s=1, color=\"r\")\n",
    "p.ax_joint.set_xlabel('Duration (min)')\n",
    "p.ax_joint.set_ylabel('Tip amount (USD)')\n",
    "p.fig.suptitle(\"Tip amount versus Duration\")\n",
    "p.fig.tight_layout()\n",
    "p.fig.savefig('plots/Tip amount versus Duration.png')\n"
   ]
  },
  {
   "cell_type": "code",
   "execution_count": null,
   "metadata": {},
   "outputs": [],
   "source": []
  },
  {
   "cell_type": "code",
   "execution_count": null,
   "metadata": {},
   "outputs": [],
   "source": [
    "\n"
   ]
  },
  {
   "cell_type": "code",
   "execution_count": null,
   "metadata": {},
   "outputs": [],
   "source": []
  },
  {
   "cell_type": "code",
   "execution_count": null,
   "metadata": {},
   "outputs": [],
   "source": []
  },
  {
   "cell_type": "code",
   "execution_count": null,
   "metadata": {},
   "outputs": [],
   "source": []
  },
  {
   "cell_type": "code",
   "execution_count": null,
   "metadata": {},
   "outputs": [],
   "source": [
    "df['tip/duration'] = df['tip_amount'] / df['duration']"
   ]
  },
  {
   "cell_type": "code",
   "execution_count": null,
   "metadata": {},
   "outputs": [],
   "source": [
    "p = sns.jointplot(x='duration',y= 'tip/duration', data= df , s=1)\n",
    "\n",
    "\n",
    "\n",
    "p.ax_joint.set_xlabel('Duration (min)')\n",
    "p.ax_joint.set_ylabel('Tip amount (USD)')\n",
    "p.fig.suptitle(\"Tip amount versus Duration\")\n",
    "p.fig.tight_layout()"
   ]
  },
  {
   "cell_type": "code",
   "execution_count": null,
   "metadata": {},
   "outputs": [],
   "source": []
  },
  {
   "cell_type": "code",
   "execution_count": null,
   "metadata": {},
   "outputs": [],
   "source": [
    "high_revenue = df.loc[df['tip/duration'] >= 1]\n",
    "low_revenue = df.loc[df['tip/duration'] < 1]\n",
    "high_revenue"
   ]
  },
  {
   "cell_type": "code",
   "execution_count": null,
   "metadata": {},
   "outputs": [],
   "source": []
  },
  {
   "cell_type": "code",
   "execution_count": null,
   "metadata": {},
   "outputs": [],
   "source": [
    "p = sns.jointplot(x='duration',y= 'tip/duration', data= low_revenue , s=1)\n",
    "\n",
    "\n",
    "\n",
    "p.ax_joint.set_xlabel('Duration (min)')\n",
    "p.ax_joint.set_ylabel('Tip amount (USD)')\n",
    "p.fig.suptitle(\"Tip amount versus Duration\")\n",
    "p.fig.tight_layout()"
   ]
  },
  {
   "cell_type": "code",
   "execution_count": null,
   "metadata": {},
   "outputs": [],
   "source": []
  },
  {
   "cell_type": "code",
   "execution_count": null,
   "metadata": {},
   "outputs": [],
   "source": [
    "p = sns.jointplot(x='duration',y= 'tip/duration', data= high_revenue , s=1, color=\"r\")\n",
    "\n",
    "\n",
    "\n",
    "p.ax_joint.set_xlabel('Duration (min)')\n",
    "p.ax_joint.set_ylabel('Tip amount (USD)')\n",
    "p.fig.suptitle(\"Tip amount versus Duration\")\n",
    "p.fig.tight_layout()"
   ]
  },
  {
   "cell_type": "code",
   "execution_count": null,
   "metadata": {},
   "outputs": [],
   "source": [
    "--"
   ]
  },
  {
   "cell_type": "code",
   "execution_count": null,
   "metadata": {},
   "outputs": [],
   "source": []
  },
  {
   "cell_type": "code",
   "execution_count": null,
   "metadata": {},
   "outputs": [],
   "source": []
  },
  {
   "cell_type": "code",
   "execution_count": null,
   "metadata": {},
   "outputs": [],
   "source": []
  },
  {
   "cell_type": "code",
   "execution_count": null,
   "metadata": {},
   "outputs": [],
   "source": []
  },
  {
   "cell_type": "code",
   "execution_count": null,
   "metadata": {},
   "outputs": [],
   "source": [
    "df['fare/duration'] = df['fare_amount'] / df['duration']"
   ]
  },
  {
   "cell_type": "code",
   "execution_count": null,
   "metadata": {},
   "outputs": [],
   "source": []
  },
  {
   "cell_type": "code",
   "execution_count": null,
   "metadata": {},
   "outputs": [],
   "source": [
    "'''看看什么因素影响了这里的duration'''"
   ]
  },
  {
   "cell_type": "code",
   "execution_count": null,
   "metadata": {},
   "outputs": [],
   "source": [
    "p = sns.jointplot(x='duration',y= 'fare_amount', data= preci_df, s=1, color=\"g\")\n",
    "p.ax_joint.set_xlabel('Duration (min)')\n",
    "p.ax_joint.set_ylabel('Fare amount (USD)')\n",
    "p.fig.suptitle(\"Tip amount versus Duration\")\n",
    "p.fig.tight_layout()"
   ]
  },
  {
   "cell_type": "code",
   "execution_count": null,
   "metadata": {},
   "outputs": [],
   "source": [
    "p = sns.jointplot(x='duration',y= 'fare_amount', data= remain_df, s=1, color=\"g\")\n",
    "p.ax_joint.set_xlabel('Duration (min)')\n",
    "p.ax_joint.set_ylabel('Fare amount (USD)')\n",
    "p.fig.suptitle(\"Tip amount versus Duration\")\n",
    "p.fig.tight_layout()"
   ]
  },
  {
   "cell_type": "code",
   "execution_count": null,
   "metadata": {},
   "outputs": [],
   "source": [
    "for i in range(24):\n",
    "    curr = df.loc[(df['start_hour'] == i)]\n",
    "    p = sns.jointplot(x='duration',y= 'fare_amount', data= curr, s=1, color=\"r\")\n",
    "    p.ax_joint.set_xlabel('Duration (min)')\n",
    "    p.ax_joint.set_ylabel('Fare amount (USD)')\n",
    "    p.fig.suptitle(\"Tip amount versus Duration\")\n",
    "    p.fig.tight_layout()\n",
    "    p.fig.savefig('plots/fare_vs_duration_in_' + str(i) + '.png')"
   ]
  },
  {
   "cell_type": "code",
   "execution_count": null,
   "metadata": {},
   "outputs": [],
   "source": [
    "for i in range(24):\n",
    "    curr = df.loc[(df['start_hour'] == i)]\n",
    "    p = sns.jointplot(x='duration',y= 'trip_distance', data= curr, s=1, color=\"g\")\n",
    "    p.ax_joint.set_xlabel('Duration (min)')\n",
    "    p.ax_joint.set_ylabel('Trip distance (mile)')\n",
    "    p.fig.suptitle(\"Tip amount versus Duration\")\n",
    "    p.fig.tight_layout()\n",
    "    p.fig.savefig('plots/distance_vs_duration_in_' + str(i) + '.png')"
   ]
  },
  {
   "cell_type": "code",
   "execution_count": null,
   "metadata": {},
   "outputs": [],
   "source": []
  },
  {
   "cell_type": "code",
   "execution_count": null,
   "metadata": {},
   "outputs": [],
   "source": []
  },
  {
   "cell_type": "code",
   "execution_count": null,
   "metadata": {},
   "outputs": [],
   "source": [
    "f, axarr = plt.subplots(8, 6, figsize=(20,20))\n",
    "\n",
    "for i in range(4):\n",
    "    for j in range(6):\n",
    "        axarr[i*2,j].imshow(mpimg.imread('plots/fare_vs_duration_in_' + str(i*6+j) + '.png'))\n",
    "        axarr[i*2+1,j].imshow(mpimg.imread('plots/distance_vs_duration_in_' + str(i*6+j) + '.png'))    \n",
    "plt.tight_layout()\n",
    "plt.show()"
   ]
  },
  {
   "cell_type": "code",
   "execution_count": null,
   "metadata": {},
   "outputs": [],
   "source": []
  },
  {
   "cell_type": "code",
   "execution_count": null,
   "metadata": {},
   "outputs": [],
   "source": []
  },
  {
   "cell_type": "code",
   "execution_count": null,
   "metadata": {},
   "outputs": [],
   "source": []
  },
  {
   "cell_type": "code",
   "execution_count": null,
   "metadata": {},
   "outputs": [],
   "source": []
  },
  {
   "cell_type": "code",
   "execution_count": null,
   "metadata": {},
   "outputs": [],
   "source": []
  },
  {
   "cell_type": "code",
   "execution_count": null,
   "metadata": {},
   "outputs": [],
   "source": []
  },
  {
   "cell_type": "code",
   "execution_count": null,
   "metadata": {},
   "outputs": [],
   "source": []
  },
  {
   "cell_type": "markdown",
   "metadata": {},
   "source": [
    "# ---------------------------------- tips 回归"
   ]
  },
  {
   "cell_type": "code",
   "execution_count": null,
   "metadata": {},
   "outputs": [],
   "source": []
  },
  {
   "cell_type": "code",
   "execution_count": null,
   "metadata": {},
   "outputs": [],
   "source": []
  },
  {
   "cell_type": "code",
   "execution_count": null,
   "metadata": {},
   "outputs": [],
   "source": []
  },
  {
   "cell_type": "code",
   "execution_count": null,
   "metadata": {},
   "outputs": [],
   "source": [
    "with open('summary.txt', 'w') as f:\n",
    "    f.write(fit.summary().as_text())"
   ]
  },
  {
   "cell_type": "code",
   "execution_count": null,
   "metadata": {},
   "outputs": [],
   "source": []
  },
  {
   "cell_type": "code",
   "execution_count": null,
   "metadata": {},
   "outputs": [],
   "source": []
  },
  {
   "cell_type": "code",
   "execution_count": null,
   "metadata": {},
   "outputs": [],
   "source": []
  },
  {
   "cell_type": "code",
   "execution_count": null,
   "metadata": {},
   "outputs": [],
   "source": []
  },
  {
   "cell_type": "code",
   "execution_count": null,
   "metadata": {},
   "outputs": [],
   "source": [
    "p = sns.jointplot(x='fare_amount',y= 'tip_amount', data= df, s=1, color=\"pink\")\n",
    "p.ax_joint.set_xlabel('Duration (min)')\n",
    "p.ax_joint.set_ylabel('Tip amount (USD)')\n",
    "p.fig.suptitle(\"Tip amount versus Duration\")\n",
    "p.fig.tight_layout()"
   ]
  },
  {
   "cell_type": "code",
   "execution_count": null,
   "metadata": {},
   "outputs": [],
   "source": []
  },
  {
   "cell_type": "code",
   "execution_count": null,
   "metadata": {},
   "outputs": [],
   "source": [
    "plt.figure(figsize=(20,15))\n",
    "sns.scatterplot(x='duration',y='fare_amount', hue='weather', data = df)\n",
    "plt.show()\n"
   ]
  },
  {
   "cell_type": "code",
   "execution_count": null,
   "metadata": {},
   "outputs": [],
   "source": []
  },
  {
   "cell_type": "code",
   "execution_count": null,
   "metadata": {},
   "outputs": [],
   "source": []
  },
  {
   "cell_type": "code",
   "execution_count": null,
   "metadata": {},
   "outputs": [],
   "source": [
    "# 需要画很久很久 是不是其实这张图没有必要\n",
    "\n",
    "plt.figure(figsize=(20,15))\n",
    "sns.scatterplot(x='duration',y='trip_distance', hue='weather', data = df)\n",
    "plt.show()"
   ]
  },
  {
   "cell_type": "code",
   "execution_count": null,
   "metadata": {},
   "outputs": [],
   "source": []
  },
  {
   "cell_type": "markdown",
   "metadata": {},
   "source": [
    "# 总收入分析"
   ]
  },
  {
   "cell_type": "code",
   "execution_count": null,
   "metadata": {},
   "outputs": [],
   "source": []
  },
  {
   "cell_type": "code",
   "execution_count": null,
   "metadata": {},
   "outputs": [],
   "source": [
    "#df['income/duration'] \n",
    "\n",
    "plt.figure(figsize=(20,15))\n",
    "sns.scatterplot(x='duration',y='income/duration', hue='weather', data = df)\n",
    "plt.show()"
   ]
  },
  {
   "cell_type": "code",
   "execution_count": null,
   "metadata": {},
   "outputs": [],
   "source": [
    "plt.figure(figsize=(20,15))\n",
    "sns.scatterplot(x='duration',y='trip_distance', hue='weather', data = df)\n",
    "plt.show()"
   ]
  },
  {
   "cell_type": "code",
   "execution_count": null,
   "metadata": {},
   "outputs": [],
   "source": []
  },
  {
   "cell_type": "code",
   "execution_count": null,
   "metadata": {},
   "outputs": [],
   "source": [
    "--"
   ]
  },
  {
   "cell_type": "code",
   "execution_count": null,
   "metadata": {},
   "outputs": [],
   "source": []
  },
  {
   "cell_type": "code",
   "execution_count": null,
   "metadata": {},
   "outputs": [],
   "source": [
    "plt.figure(figsize=(20,15))\n",
    "sns.distplot(df['start_hour'], kde = False, \n",
    "            kde_kws = { 'shade': True, 'linewidth': 2},  \n",
    "            label = \"start_hour\", color =\"blue\")\n",
    "plt.xticks([i for i in range(0,24)])\n",
    "plt.legend(loc = \"upper right\")\n",
    "plt.show()"
   ]
  },
  {
   "cell_type": "code",
   "execution_count": null,
   "metadata": {},
   "outputs": [],
   "source": []
  },
  {
   "cell_type": "code",
   "execution_count": null,
   "metadata": {},
   "outputs": [],
   "source": []
  },
  {
   "cell_type": "code",
   "execution_count": null,
   "metadata": {},
   "outputs": [],
   "source": [
    "plt.figure(figsize=(20,15))\n",
    "sns.scatterplot(x='duration',y='fare_amount', hue='weather', data = df)\n",
    "plt.show()\n"
   ]
  },
  {
   "cell_type": "code",
   "execution_count": null,
   "metadata": {},
   "outputs": [],
   "source": []
  },
  {
   "cell_type": "code",
   "execution_count": null,
   "metadata": {},
   "outputs": [],
   "source": []
  },
  {
   "cell_type": "code",
   "execution_count": null,
   "metadata": {},
   "outputs": [],
   "source": []
  },
  {
   "cell_type": "code",
   "execution_count": null,
   "metadata": {},
   "outputs": [],
   "source": [
    "plt.figure(figsize=(20,15))\n",
    "sns.scatterplot(x='duration',y='total_amount', hue='weather', data = df)\n",
    "plt.show()"
   ]
  },
  {
   "cell_type": "code",
   "execution_count": null,
   "metadata": {},
   "outputs": [],
   "source": []
  },
  {
   "cell_type": "code",
   "execution_count": null,
   "metadata": {},
   "outputs": [],
   "source": []
  },
  {
   "cell_type": "code",
   "execution_count": null,
   "metadata": {},
   "outputs": [],
   "source": [
    "#start_hour_analysis\n",
    "for i in range(24):\n",
    "    curr = df.loc[(df['start_hour'] == i)]\n",
    "    plt.figure(figsize=(20,15))\n",
    "    sns.scatterplot(x='duration',y='trip_distance', hue='weather', data = curr)\n",
    "    plt.savefig('plots/start_hour_' + str(i) +'_duration.png')\n",
    "                                              "
   ]
  },
  {
   "cell_type": "code",
   "execution_count": null,
   "metadata": {},
   "outputs": [],
   "source": []
  },
  {
   "cell_type": "code",
   "execution_count": null,
   "metadata": {},
   "outputs": [],
   "source": [
    "#天气的分布情况\n",
    "plt.figure(figsize=(20,15))\n",
    "sns.distplot(in_du['in/du']/60, hist = False, kde = True, \n",
    "            kde_kws = {'shade': True, 'linewidth': 2},  \n",
    "            label = \"in/du\", color =\"blue\") \n",
    "plt.legend(loc = \"upper right\")\n",
    "plt.show()"
   ]
  },
  {
   "cell_type": "code",
   "execution_count": null,
   "metadata": {},
   "outputs": [],
   "source": []
  },
  {
   "cell_type": "code",
   "execution_count": null,
   "metadata": {},
   "outputs": [],
   "source": []
  },
  {
   "cell_type": "code",
   "execution_count": null,
   "metadata": {},
   "outputs": [],
   "source": [
    "df['fare/du'] = df['fare_amount'] / df['duration']\n",
    "plt.figure(figsize=(20,15))\n",
    "sns.scatterplot(x='duration',y='fare/du', hue='weather', data = df)\n",
    "plt.show()"
   ]
  },
  {
   "cell_type": "code",
   "execution_count": null,
   "metadata": {},
   "outputs": [],
   "source": []
  },
  {
   "cell_type": "code",
   "execution_count": null,
   "metadata": {},
   "outputs": [],
   "source": []
  },
  {
   "cell_type": "code",
   "execution_count": null,
   "metadata": {},
   "outputs": [],
   "source": [
    "df"
   ]
  },
  {
   "cell_type": "code",
   "execution_count": null,
   "metadata": {},
   "outputs": [],
   "source": []
  },
  {
   "cell_type": "code",
   "execution_count": null,
   "metadata": {},
   "outputs": [],
   "source": [
    "plt.figure(figsize=(20,15))\n",
    "sns.distplot(df_lower_2['start_hour'], kde = False, \n",
    "            kde_kws = { 'shade': True, 'linewidth': 2},  \n",
    "            label = \"start_hour\", color =\"blue\")\n",
    "plt.xticks([i for i in range(0,24)])\n",
    "plt.legend(loc = \"upper right\")\n",
    "plt.show()"
   ]
  },
  {
   "cell_type": "code",
   "execution_count": null,
   "metadata": {},
   "outputs": [],
   "source": []
  },
  {
   "cell_type": "code",
   "execution_count": null,
   "metadata": {},
   "outputs": [],
   "source": []
  },
  {
   "cell_type": "code",
   "execution_count": null,
   "metadata": {},
   "outputs": [],
   "source": []
  },
  {
   "cell_type": "code",
   "execution_count": null,
   "metadata": {},
   "outputs": [],
   "source": []
  },
  {
   "cell_type": "code",
   "execution_count": null,
   "metadata": {},
   "outputs": [],
   "source": [
    "heat_lower_2 = folium.Map(location=[41, -74],\n",
    "                          tiles=\"Stamen Terrain\")\n",
    "heat_lower_2.add_child(HeatMap(df_lower_2[start_coords].values, radius=10))\n",
    "\n",
    "heat_lower_2.save('plots/start_Heatmap_lower_2.html')\n",
    "heat_lower_2"
   ]
  },
  {
   "cell_type": "code",
   "execution_count": null,
   "metadata": {},
   "outputs": [],
   "source": [
    "fashensheme = folium.Map(location=[41, -74],\n",
    "                          tiles=\"Stamen Terrain\", zoom_start=10)\n",
    "fashensheme.add_child(HeatMap(df_lower_2[end_coords].values, radius=10))\n",
    "\n",
    "fashensheme.save('plots/start_Heatmap_lower_2.html')\n",
    "fashensheme"
   ]
  },
  {
   "cell_type": "code",
   "execution_count": null,
   "metadata": {},
   "outputs": [],
   "source": [
    "df_lower_2[end_coords]"
   ]
  },
  {
   "cell_type": "code",
   "execution_count": null,
   "metadata": {},
   "outputs": [],
   "source": [
    "\n",
    "for i in range(24):\n",
    "    curr_data = df[start_coords].loc[(df['start_hour'] == i)]\n",
    "    curr = folium.Map(location=[41, -74],\n",
    "                          tiles=\"Stamen Terrain\", zoom_start=10)\n",
    "    curr.add_child(HeatMap(curr_data[start_coords].values, radius=10))\n",
    "\n",
    "\n",
    "    curr.save('plots/start_Heatmap_lower_2_start_in' + str(i) + '.html')\n",
    "    curr\n"
   ]
  },
  {
   "cell_type": "code",
   "execution_count": null,
   "metadata": {},
   "outputs": [],
   "source": []
  },
  {
   "cell_type": "code",
   "execution_count": null,
   "metadata": {},
   "outputs": [],
   "source": []
  },
  {
   "cell_type": "code",
   "execution_count": null,
   "metadata": {},
   "outputs": [],
   "source": [
    "#期望\n",
    "df['high_wage'] = np.where(df['income/duration'] >= 75, 1, 0)\n",
    "red = df[start_coords+ end_coords].loc[(df['high_wage']==1)]\n",
    "blue = df[start_coords+ end_coords].loc[(df['high_wage']==1)]"
   ]
  },
  {
   "cell_type": "code",
   "execution_count": null,
   "metadata": {},
   "outputs": [],
   "source": [
    "df"
   ]
  },
  {
   "cell_type": "code",
   "execution_count": null,
   "metadata": {},
   "outputs": [],
   "source": []
  },
  {
   "cell_type": "code",
   "execution_count": null,
   "metadata": {},
   "outputs": [],
   "source": [
    "Map = folium.Map(location=[41, -74],tiles=\"Stamen Terrain\", zoom_start=10)\n",
    "\n",
    "folium.Circle(red, radius=10, color='red', fill=True, fill_color='red').add_to(Map)\n",
    "folium.Circle(blue, radius=10, color='blue', fill=True, fill_color='blue').add_to(Map)\n",
    " \n",
    "Map"
   ]
  },
  {
   "cell_type": "code",
   "execution_count": null,
   "metadata": {},
   "outputs": [],
   "source": []
  },
  {
   "cell_type": "code",
   "execution_count": null,
   "metadata": {},
   "outputs": [],
   "source": [
    "\n",
    "Map = folium.Map(location=[41, -74],tiles=\"Stamen Terrain\", zoom_start=10)\n",
    "for i in red[start_coords].values:\n",
    "    folium.Circle(i, radius=10, color='red', fill=True, fill_color='red').add_to(Map)\n",
    "#folium.Circle(blue, radius=10, color='blue', fill=True, fill_color='blue').add_to(Map)\n",
    " \n",
    "Map"
   ]
  },
  {
   "cell_type": "code",
   "execution_count": null,
   "metadata": {},
   "outputs": [],
   "source": [
    "Map2 = folium.Map(location=[41, -74],tiles=\"Stamen Terrain\", zoom_start=10)\n",
    "for i in red[end_coords].values:\n",
    "    folium.Circle(i, radius=10, color='red', fill=True, fill_color='red').add_to(Map2)\n",
    " \n",
    "Map2"
   ]
  },
  {
   "cell_type": "code",
   "execution_count": null,
   "metadata": {},
   "outputs": [],
   "source": [
    "red.to_csv('red.csv')"
   ]
  },
  {
   "cell_type": "code",
   "execution_count": null,
   "metadata": {},
   "outputs": [],
   "source": [
    "plt.figure(figsize=(20,15))\n",
    "sns.scatterplot(x='duration',y='income', hue='weather', data = df)\n",
    "plt.show()"
   ]
  },
  {
   "cell_type": "code",
   "execution_count": null,
   "metadata": {},
   "outputs": [],
   "source": [
    "df.loc[(df['high_wage']==1)].describe()"
   ]
  },
  {
   "cell_type": "code",
   "execution_count": null,
   "metadata": {},
   "outputs": [],
   "source": [
    "from statsmodels.formula.api import *"
   ]
  },
  {
   "cell_type": "code",
   "execution_count": null,
   "metadata": {},
   "outputs": [],
   "source": []
  },
  {
   "cell_type": "code",
   "execution_count": null,
   "metadata": {},
   "outputs": [],
   "source": []
  },
  {
   "cell_type": "code",
   "execution_count": null,
   "metadata": {},
   "outputs": [],
   "source": [
    "fit = ols(formula=\"total_amount ~ fare_amount + tip_amount + \\\n",
    "        tolls_amount + trip_distance\",\n",
    "         data=df).fit()"
   ]
  },
  {
   "cell_type": "code",
   "execution_count": null,
   "metadata": {},
   "outputs": [],
   "source": [
    "print(fit.summary())"
   ]
  },
  {
   "cell_type": "code",
   "execution_count": null,
   "metadata": {},
   "outputs": [],
   "source": []
  },
  {
   "cell_type": "code",
   "execution_count": null,
   "metadata": {},
   "outputs": [],
   "source": []
  },
  {
   "cell_type": "code",
   "execution_count": null,
   "metadata": {},
   "outputs": [],
   "source": []
  },
  {
   "cell_type": "code",
   "execution_count": null,
   "metadata": {},
   "outputs": [],
   "source": []
  },
  {
   "cell_type": "code",
   "execution_count": null,
   "metadata": {},
   "outputs": [],
   "source": []
  },
  {
   "cell_type": "code",
   "execution_count": null,
   "metadata": {},
   "outputs": [],
   "source": [
    "df"
   ]
  },
  {
   "cell_type": "code",
   "execution_count": null,
   "metadata": {},
   "outputs": [],
   "source": [
    "\n"
   ]
  },
  {
   "cell_type": "code",
   "execution_count": null,
   "metadata": {},
   "outputs": [],
   "source": []
  },
  {
   "cell_type": "code",
   "execution_count": null,
   "metadata": {},
   "outputs": [],
   "source": [
    "\n",
    "for i in range(24):\n",
    "    curr_data = df[start_coords].loc[(df['start_hour'] == i)]\n",
    "    curr = folium.Map(location=[41, -74], tiles=\"Stamen Terrain\", zoom_start=10)\n",
    "    curr.add_child(HeatMap(curr_data, radius=10))\n",
    "\n",
    "    curr.save('plots/start_Heatmap' + str(i) + '.html')\n",
    "    curr\n"
   ]
  },
  {
   "cell_type": "code",
   "execution_count": null,
   "metadata": {},
   "outputs": [],
   "source": [
    "--\n",
    "df[start_coords].loc[(df['start_hour']==1)]"
   ]
  },
  {
   "cell_type": "code",
   "execution_count": null,
   "metadata": {},
   "outputs": [],
   "source": []
  },
  {
   "cell_type": "code",
   "execution_count": null,
   "metadata": {},
   "outputs": [],
   "source": []
  },
  {
   "cell_type": "code",
   "execution_count": null,
   "metadata": {},
   "outputs": [],
   "source": []
  },
  {
   "cell_type": "code",
   "execution_count": null,
   "metadata": {},
   "outputs": [],
   "source": [
    "nycM3 = folium.Map(location=[41, -74], tiles=\"Stamen Terrain\", zoom_start=10)\n",
    "nycM3.add_child(HeatMap(df[start_coords].values, radius=10))\n",
    "\n",
    "nycM3.save('/plots/start_Heatmap.html')\n",
    "nycM3"
   ]
  },
  {
   "cell_type": "code",
   "execution_count": null,
   "metadata": {},
   "outputs": [],
   "source": [
    "nycM3.save('plots/start_Heatmap.html')\n",
    "nycM3"
   ]
  },
  {
   "cell_type": "code",
   "execution_count": null,
   "metadata": {},
   "outputs": [],
   "source": [
    "nycM3"
   ]
  },
  {
   "cell_type": "code",
   "execution_count": null,
   "metadata": {},
   "outputs": [],
   "source": []
  }
 ],
 "metadata": {
  "kernelspec": {
   "display_name": "Python 3",
   "language": "python",
   "name": "python3"
  },
  "language_info": {
   "codemirror_mode": {
    "name": "ipython",
    "version": 3
   },
   "file_extension": ".py",
   "mimetype": "text/x-python",
   "name": "python",
   "nbconvert_exporter": "python",
   "pygments_lexer": "ipython3",
   "version": "3.7.4"
  }
 },
 "nbformat": 4,
 "nbformat_minor": 2
}
